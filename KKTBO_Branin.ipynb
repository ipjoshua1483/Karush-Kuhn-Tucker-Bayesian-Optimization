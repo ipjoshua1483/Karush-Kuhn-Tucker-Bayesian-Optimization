{
  "nbformat": 4,
  "nbformat_minor": 0,
  "metadata": {
    "colab": {
      "provenance": []
    },
    "kernelspec": {
      "name": "python3",
      "display_name": "Python 3"
    },
    "language_info": {
      "name": "python"
    }
  },
  "cells": [
    {
      "cell_type": "code",
      "execution_count": null,
      "metadata": {
        "colab": {
          "base_uri": "https://localhost:8080/"
        },
        "id": "aBKc26DIkx6i",
        "outputId": "56e2abe4-0ddb-41f2-a4ae-e330e4e77619"
      },
      "outputs": [
        {
          "output_type": "stream",
          "name": "stdout",
          "text": [
            "Collecting gpytorch\n",
            "  Downloading gpytorch-1.11-py3-none-any.whl (266 kB)\n",
            "\u001b[?25l     \u001b[90m━━━━━━━━━━━━━━━━━━━━━━━━━━━━━━━━━━━━━━━━\u001b[0m \u001b[32m0.0/266.1 kB\u001b[0m \u001b[31m?\u001b[0m eta \u001b[36m-:--:--\u001b[0m\r\u001b[2K     \u001b[91m━━━━━━━━━━━━━━━━━━━━━━━━━━━━━━━━━━━━━\u001b[0m\u001b[91m╸\u001b[0m\u001b[90m━\u001b[0m \u001b[32m256.0/266.1 kB\u001b[0m \u001b[31m7.7 MB/s\u001b[0m eta \u001b[36m0:00:01\u001b[0m\r\u001b[2K     \u001b[90m━━━━━━━━━━━━━━━━━━━━━━━━━━━━━━━━━━━━━━━\u001b[0m \u001b[32m266.1/266.1 kB\u001b[0m \u001b[31m6.2 MB/s\u001b[0m eta \u001b[36m0:00:00\u001b[0m\n",
            "\u001b[?25hRequirement already satisfied: scikit-learn in /usr/local/lib/python3.10/dist-packages (from gpytorch) (1.2.2)\n",
            "Collecting linear-operator>=0.5.0 (from gpytorch)\n",
            "  Downloading linear_operator-0.5.0-py3-none-any.whl (172 kB)\n",
            "\u001b[?25l     \u001b[90m━━━━━━━━━━━━━━━━━━━━━━━━━━━━━━━━━━━━━━━━\u001b[0m \u001b[32m0.0/173.0 kB\u001b[0m \u001b[31m?\u001b[0m eta \u001b[36m-:--:--\u001b[0m\r\u001b[2K     \u001b[90m━━━━━━━━━━━━━━━━━━━━━━━━━━━━━━━━━━━━━━\u001b[0m \u001b[32m173.0/173.0 kB\u001b[0m \u001b[31m20.7 MB/s\u001b[0m eta \u001b[36m0:00:00\u001b[0m\n",
            "\u001b[?25hRequirement already satisfied: torch>=1.11 in /usr/local/lib/python3.10/dist-packages (from linear-operator>=0.5.0->gpytorch) (2.0.1+cu118)\n",
            "Requirement already satisfied: scipy in /usr/local/lib/python3.10/dist-packages (from linear-operator>=0.5.0->gpytorch) (1.10.1)\n",
            "Collecting jaxtyping>=0.2.9 (from linear-operator>=0.5.0->gpytorch)\n",
            "  Downloading jaxtyping-0.2.20-py3-none-any.whl (24 kB)\n",
            "Collecting typeguard~=2.13.3 (from linear-operator>=0.5.0->gpytorch)\n",
            "  Downloading typeguard-2.13.3-py3-none-any.whl (17 kB)\n",
            "Requirement already satisfied: numpy>=1.17.3 in /usr/local/lib/python3.10/dist-packages (from scikit-learn->gpytorch) (1.22.4)\n",
            "Requirement already satisfied: joblib>=1.1.1 in /usr/local/lib/python3.10/dist-packages (from scikit-learn->gpytorch) (1.3.1)\n",
            "Requirement already satisfied: threadpoolctl>=2.0.0 in /usr/local/lib/python3.10/dist-packages (from scikit-learn->gpytorch) (3.1.0)\n",
            "Requirement already satisfied: typing-extensions>=3.7.4.1 in /usr/local/lib/python3.10/dist-packages (from jaxtyping>=0.2.9->linear-operator>=0.5.0->gpytorch) (4.7.1)\n",
            "Requirement already satisfied: filelock in /usr/local/lib/python3.10/dist-packages (from torch>=1.11->linear-operator>=0.5.0->gpytorch) (3.12.2)\n",
            "Requirement already satisfied: sympy in /usr/local/lib/python3.10/dist-packages (from torch>=1.11->linear-operator>=0.5.0->gpytorch) (1.11.1)\n",
            "Requirement already satisfied: networkx in /usr/local/lib/python3.10/dist-packages (from torch>=1.11->linear-operator>=0.5.0->gpytorch) (3.1)\n",
            "Requirement already satisfied: jinja2 in /usr/local/lib/python3.10/dist-packages (from torch>=1.11->linear-operator>=0.5.0->gpytorch) (3.1.2)\n",
            "Requirement already satisfied: triton==2.0.0 in /usr/local/lib/python3.10/dist-packages (from torch>=1.11->linear-operator>=0.5.0->gpytorch) (2.0.0)\n",
            "Requirement already satisfied: cmake in /usr/local/lib/python3.10/dist-packages (from triton==2.0.0->torch>=1.11->linear-operator>=0.5.0->gpytorch) (3.25.2)\n",
            "Requirement already satisfied: lit in /usr/local/lib/python3.10/dist-packages (from triton==2.0.0->torch>=1.11->linear-operator>=0.5.0->gpytorch) (16.0.6)\n",
            "Requirement already satisfied: MarkupSafe>=2.0 in /usr/local/lib/python3.10/dist-packages (from jinja2->torch>=1.11->linear-operator>=0.5.0->gpytorch) (2.1.3)\n",
            "Requirement already satisfied: mpmath>=0.19 in /usr/local/lib/python3.10/dist-packages (from sympy->torch>=1.11->linear-operator>=0.5.0->gpytorch) (1.3.0)\n",
            "Installing collected packages: typeguard, jaxtyping, linear-operator, gpytorch\n",
            "Successfully installed gpytorch-1.11 jaxtyping-0.2.20 linear-operator-0.5.0 typeguard-2.13.3\n",
            "Collecting botorch\n",
            "  Downloading botorch-0.8.5-py3-none-any.whl (530 kB)\n",
            "\u001b[2K     \u001b[90m━━━━━━━━━━━━━━━━━━━━━━━━━━━━━━━━━━━━━━\u001b[0m \u001b[32m530.3/530.3 kB\u001b[0m \u001b[31m10.6 MB/s\u001b[0m eta \u001b[36m0:00:00\u001b[0m\n",
            "\u001b[?25hRequirement already satisfied: multipledispatch in /usr/local/lib/python3.10/dist-packages (from botorch) (1.0.0)\n",
            "Requirement already satisfied: scipy in /usr/local/lib/python3.10/dist-packages (from botorch) (1.10.1)\n",
            "Requirement already satisfied: torch>=1.12 in /usr/local/lib/python3.10/dist-packages (from botorch) (2.0.1+cu118)\n",
            "Collecting pyro-ppl>=1.8.4 (from botorch)\n",
            "  Downloading pyro_ppl-1.8.5-py3-none-any.whl (732 kB)\n",
            "\u001b[2K     \u001b[90m━━━━━━━━━━━━━━━━━━━━━━━━━━━━━━━━━━━━━━\u001b[0m \u001b[32m732.5/732.5 kB\u001b[0m \u001b[31m26.3 MB/s\u001b[0m eta \u001b[36m0:00:00\u001b[0m\n",
            "\u001b[?25hCollecting gpytorch==1.10 (from botorch)\n",
            "  Downloading gpytorch-1.10-py3-none-any.whl (255 kB)\n",
            "\u001b[2K     \u001b[90m━━━━━━━━━━━━━━━━━━━━━━━━━━━━━━━━━━━━━━\u001b[0m \u001b[32m255.2/255.2 kB\u001b[0m \u001b[31m29.9 MB/s\u001b[0m eta \u001b[36m0:00:00\u001b[0m\n",
            "\u001b[?25hCollecting linear-operator==0.4.0 (from botorch)\n",
            "  Downloading linear_operator-0.4.0-py3-none-any.whl (156 kB)\n",
            "\u001b[2K     \u001b[90m━━━━━━━━━━━━━━━━━━━━━━━━━━━━━━━━━━━━━━\u001b[0m \u001b[32m156.7/156.7 kB\u001b[0m \u001b[31m18.7 MB/s\u001b[0m eta \u001b[36m0:00:00\u001b[0m\n",
            "\u001b[?25hRequirement already satisfied: scikit-learn in /usr/local/lib/python3.10/dist-packages (from gpytorch==1.10->botorch) (1.2.2)\n",
            "Requirement already satisfied: numpy>=1.7 in /usr/local/lib/python3.10/dist-packages (from pyro-ppl>=1.8.4->botorch) (1.22.4)\n",
            "Requirement already satisfied: opt-einsum>=2.3.2 in /usr/local/lib/python3.10/dist-packages (from pyro-ppl>=1.8.4->botorch) (3.3.0)\n",
            "Collecting pyro-api>=0.1.1 (from pyro-ppl>=1.8.4->botorch)\n",
            "  Downloading pyro_api-0.1.2-py3-none-any.whl (11 kB)\n",
            "Requirement already satisfied: tqdm>=4.36 in /usr/local/lib/python3.10/dist-packages (from pyro-ppl>=1.8.4->botorch) (4.65.0)\n",
            "Requirement already satisfied: filelock in /usr/local/lib/python3.10/dist-packages (from torch>=1.12->botorch) (3.12.2)\n",
            "Requirement already satisfied: typing-extensions in /usr/local/lib/python3.10/dist-packages (from torch>=1.12->botorch) (4.7.1)\n",
            "Requirement already satisfied: sympy in /usr/local/lib/python3.10/dist-packages (from torch>=1.12->botorch) (1.11.1)\n",
            "Requirement already satisfied: networkx in /usr/local/lib/python3.10/dist-packages (from torch>=1.12->botorch) (3.1)\n",
            "Requirement already satisfied: jinja2 in /usr/local/lib/python3.10/dist-packages (from torch>=1.12->botorch) (3.1.2)\n",
            "Requirement already satisfied: triton==2.0.0 in /usr/local/lib/python3.10/dist-packages (from torch>=1.12->botorch) (2.0.0)\n",
            "Requirement already satisfied: cmake in /usr/local/lib/python3.10/dist-packages (from triton==2.0.0->torch>=1.12->botorch) (3.25.2)\n",
            "Requirement already satisfied: lit in /usr/local/lib/python3.10/dist-packages (from triton==2.0.0->torch>=1.12->botorch) (16.0.6)\n",
            "Requirement already satisfied: MarkupSafe>=2.0 in /usr/local/lib/python3.10/dist-packages (from jinja2->torch>=1.12->botorch) (2.1.3)\n",
            "Requirement already satisfied: joblib>=1.1.1 in /usr/local/lib/python3.10/dist-packages (from scikit-learn->gpytorch==1.10->botorch) (1.3.1)\n",
            "Requirement already satisfied: threadpoolctl>=2.0.0 in /usr/local/lib/python3.10/dist-packages (from scikit-learn->gpytorch==1.10->botorch) (3.1.0)\n",
            "Requirement already satisfied: mpmath>=0.19 in /usr/local/lib/python3.10/dist-packages (from sympy->torch>=1.12->botorch) (1.3.0)\n",
            "Installing collected packages: pyro-api, linear-operator, pyro-ppl, gpytorch, botorch\n",
            "  Attempting uninstall: linear-operator\n",
            "    Found existing installation: linear-operator 0.5.0\n",
            "    Uninstalling linear-operator-0.5.0:\n",
            "      Successfully uninstalled linear-operator-0.5.0\n",
            "  Attempting uninstall: gpytorch\n",
            "    Found existing installation: gpytorch 1.11\n",
            "    Uninstalling gpytorch-1.11:\n",
            "      Successfully uninstalled gpytorch-1.11\n",
            "Successfully installed botorch-0.8.5 gpytorch-1.10 linear-operator-0.4.0 pyro-api-0.1.2 pyro-ppl-1.8.5\n"
          ]
        }
      ],
      "source": [
        "!pip install gpytorch\n",
        "!pip install botorch"
      ]
    },
    {
      "cell_type": "code",
      "source": [
        "import os\n",
        "\n",
        "import torch\n",
        "from torch.quasirandom import SobolEngine\n",
        "\n",
        "from botorch.optim import optimize_acqf\n",
        "from botorch.models.gpytorch import GPyTorchModel\n",
        "from botorch.models.model import ModelList\n",
        "\n",
        "from botorch.test_functions import Branin\n",
        "from botorch.test_functions import Hartmann\n",
        "from botorch.test_functions import Cosine8"
      ],
      "metadata": {
        "id": "O7OIriqHftnF"
      },
      "execution_count": null,
      "outputs": []
    },
    {
      "cell_type": "code",
      "source": [
        "tkwargs = {\n",
        "    \"device\": torch.device(\"cuda:1\" if torch.cuda.is_available() else \"cpu\"),\n",
        "    \"dtype\": torch.double,\n",
        "}"
      ],
      "metadata": {
        "id": "7O6e4Tgrg6sv"
      },
      "execution_count": null,
      "outputs": []
    },
    {
      "cell_type": "code",
      "source": [
        "beta = 1.0\n",
        "penalty_weight = 1000\n",
        "BO_iter = 30\n",
        "num_restarts = 10\n",
        "raw_samples = 1024\n",
        "maxiter = 500\n",
        "GP_iter = 200\n",
        "learning_rate = 0.1\n",
        "n_init = 10"
      ],
      "metadata": {
        "id": "JzZ0WR1DfzNI"
      },
      "execution_count": null,
      "outputs": []
    },
    {
      "cell_type": "code",
      "source": [
        "#objective info\n",
        "dim_list = [2]\n",
        "name_list = [\"Branin\"]\n",
        "objective_list = [0.397887]\n",
        "plot_bounds = [[0, 5]]\n",
        "#cosine's objective is maximum, no need to negate it\n",
        "negate_list = [-1.0]"
      ],
      "metadata": {
        "id": "q9sHYR65f03m"
      },
      "execution_count": null,
      "outputs": []
    },
    {
      "cell_type": "code",
      "source": [
        "#Branin\n",
        "branin = Branin(negate = True).to(**tkwargs)\n",
        "\n",
        "def objective1(x):\n",
        "  lb, ub = branin.bounds\n",
        "  return branin(lb + (ub - lb) * x[..., :2])"
      ],
      "metadata": {
        "id": "mT-wxjiif9B0"
      },
      "execution_count": null,
      "outputs": []
    },
    {
      "cell_type": "code",
      "source": [
        "objective = [objective1]"
      ],
      "metadata": {
        "id": "LOMx0CQUf-qK"
      },
      "execution_count": null,
      "outputs": []
    },
    {
      "cell_type": "code",
      "source": [
        "def compute_grad(x, objective):\n",
        "  num_points, dimensions = x.shape\n",
        "  epsilon = 0.01\n",
        "  grad = torch.zeros(num_points, dimensions)\n",
        "  for i in range(dimensions):\n",
        "    x_upper = x.clone()\n",
        "    x_upper[:, i] += epsilon\n",
        "    x_lower = x.clone()\n",
        "    x_lower[:, i] -= epsilon\n",
        "    grad[:, i] = (objective(x_upper) - objective(x_lower)) / (2 * epsilon)\n",
        "  return grad"
      ],
      "metadata": {
        "id": "gNr7DYrcgA3u"
      },
      "execution_count": null,
      "outputs": []
    },
    {
      "cell_type": "code",
      "source": [
        "import gpytorch\n",
        "from gpytorch.kernels import MaternKernel, ScaleKernel\n",
        "from gpytorch.likelihoods.gaussian_likelihood import GaussianLikelihood\n",
        "from botorch.models import ModelListGP\n",
        "from botorch.models.higher_order_gp import FlattenedStandardize\n",
        "from botorch.models.transforms import Normalize, Standardize\n",
        "from botorch.models import HigherOrderGP, SingleTaskGP\n",
        "from gpytorch.constraints import Interval\n",
        "from botorch.optim.fit import fit_gpytorch_mll_torch\n",
        "from botorch import fit_gpytorch_model\n",
        "\n",
        "# train model function\n",
        "\n",
        "def train_single_model(X, Y, nu=1.5, noiseless_obs=True):\n",
        "  # make sure training data has the right dimension\n",
        "  if Y.ndim == 1:\n",
        "      Y = Y.unsqueeze(-1)\n",
        "  # outcome transform\n",
        "  standardize = Standardize(m=Y.shape[-1], batch_shape=Y.shape[:-2])\n",
        "  outcome_transform = standardize\n",
        "  # covariance module\n",
        "  covar_module = ScaleKernel(MaternKernel(nu=nu, ard_num_dims=X.shape[-1]))\n",
        "  # likelihood\n",
        "  if noiseless_obs:\n",
        "      _, aug_batch_shape = SingleTaskGP.get_batch_dimensions(\n",
        "          train_X=X,\n",
        "          train_Y=Y,\n",
        "      )\n",
        "      likelihood = GaussianLikelihood(\n",
        "          batch_shape=aug_batch_shape,\n",
        "          noise_constraint=Interval(lower_bound=1e-4, upper_bound=1e-3),\n",
        "      )\n",
        "  else:\n",
        "      likelihood = None\n",
        "  # define the model\n",
        "  model = SingleTaskGP(\n",
        "      train_X=X,\n",
        "      train_Y=Y,\n",
        "      covar_module=covar_module,\n",
        "      likelihood=likelihood,\n",
        "      outcome_transform=outcome_transform,\n",
        "  )\n",
        "\n",
        "  # call the training procedure\n",
        "  model.outcome_transform.eval()\n",
        "  mll = gpytorch.mlls.ExactMarginalLogLikelihood(model.likelihood, model)\n",
        "  fit_gpytorch_model(mll)\n",
        "  # put in eval mode\n",
        "  model.eval()\n",
        "  # return the model\n",
        "  return model\n",
        "\n",
        "def train_model(X, Y, nu=2.5, noiseless_obs=True):\n",
        "  model_list = []\n",
        "  noutput = Y.shape[1]\n",
        "  for i in range(noutput):\n",
        "    model_i = train_single_model(X, Y[:,i], nu=nu, noiseless_obs=noiseless_obs)\n",
        "    model_list += [model_i]\n",
        "  #model = ModelListGP(*model_list)\n",
        "  return model_list\n",
        "\n",
        "def get_posterior_stats(model, point):\n",
        "  \"\"\"Get the mean and standard deviation of the model's posterior at a given point.\"\"\"\n",
        "  #model_grad = self.model_all[1:]\n",
        "  #model_grad[dim].eval()\n",
        "  model.eval()\n",
        "  #cur_points.requires_grad_ = True\n",
        "  with torch.enable_grad():\n",
        "    posterior = model.posterior(point)\n",
        "    mean = posterior.mean\n",
        "    std_dev = posterior.variance.sqrt()\n",
        "  return mean, std_dev"
      ],
      "metadata": {
        "id": "0EoFQ2dFgEk9"
      },
      "execution_count": null,
      "outputs": []
    },
    {
      "cell_type": "code",
      "source": [
        "from botorch.acquisition import AnalyticAcquisitionFunction\n",
        "from botorch.models.model import Model\n",
        "from botorch.utils import t_batch_mode_transform\n",
        "from torch import Tensor\n",
        "\n",
        "class ConstrainedUCB(AnalyticAcquisitionFunction):\n",
        "    def __init__(\n",
        "        self,\n",
        "        model: ModelList,\n",
        "        beta: 1.0,\n",
        "        penalty_weight = 100,\n",
        "    ) -> None:\n",
        "        super(AnalyticAcquisitionFunction, self).__init__(model)\n",
        "        self.model_list_new = model_list_new\n",
        "        self.beta = beta\n",
        "        self.penalty_weight = penalty_weight\n",
        "        #self.register_buffer(\"beta\", torch.as_tensor(beta))\n",
        "        #self.register_buffer(\"weights\", torch.as_tensor(weights))\n",
        "\n",
        "    @t_batch_mode_transform(expected_q=1)\n",
        "    def forward(self, x: Tensor) -> Tensor:\n",
        "        means, std_devs = get_posterior_stats(self.model_list_new, x) #b x q x d (q=1)\n",
        "        means = means.squeeze() #b x d (removes q)\n",
        "        std_devs = std_devs.squeeze() #b x d\n",
        "        UCB = means[:, 0] + self.beta * std_devs[:, 0] # b\n",
        "        constraint_violation = torch.abs(means[:, 1:]) - self.beta * std_devs[:, 1:] #b x (d - 1) -> first dimension mean removed\n",
        "        constraint_violation = constraint_violation.unsqueeze(-1) #b x (d-1) x 1\n",
        "        zero = torch.zeros(constraint_violation.shape) #b x (d-1) x 1\n",
        "        constraint_penalty = torch.sum(torch.max(constraint_violation, zero) ** 2, dim = 1).squeeze(-1) #b\n",
        "        result = UCB - self.penalty_weight * constraint_penalty # b\n",
        "        return result"
      ],
      "metadata": {
        "id": "2SItmZ7ggKPL"
      },
      "execution_count": null,
      "outputs": []
    },
    {
      "cell_type": "code",
      "source": [],
      "metadata": {
        "colab": {
          "base_uri": "https://localhost:8080/"
        },
        "id": "THm0fFqMGyZ9",
        "outputId": "2b797c07-eab4-48a4-9797-88fa67695520"
      },
      "execution_count": null,
      "outputs": [
        {
          "output_type": "stream",
          "name": "stdout",
          "text": [
            "tensor([ -55.8682, -171.0264], dtype=torch.float64, grad_fn=<SliceBackward0>)\n",
            "tensor([[ -55.8682, -171.0264],\n",
            "        [ -48.0640,   40.2211],\n",
            "        [ 278.0478, -317.8761],\n",
            "        [ 622.1166,  254.1276],\n",
            "        [-471.1180, -161.1691],\n",
            "        [ 202.0139, -138.3090],\n",
            "        [ -23.7852, -279.6672],\n",
            "        [ 153.4637,  116.6714],\n",
            "        [-346.7086, -115.2979],\n",
            "        [-146.9692, -117.7372]], dtype=torch.float64, grad_fn=<SliceBackward0>)\n",
            "tensor([[3.1550, 1.4618],\n",
            "        [3.1550, 1.4825],\n",
            "        [3.1551, 1.7188],\n",
            "        [3.1551, 1.7372],\n",
            "        [3.1546, 1.5014],\n",
            "        [3.1550, 1.5939],\n",
            "        [3.1549, 1.5489],\n",
            "        [3.1550, 1.5729],\n",
            "        [3.1545, 1.1315],\n",
            "        [3.1547, 1.1070]], dtype=torch.float64, grad_fn=<SliceBackward0>)\n"
          ]
        }
      ]
    },
    {
      "cell_type": "code",
      "source": [
        "#create 4D torch tensor to store Y values (#trials to avg x #test problems x #BO methods x #BO iterations)\n",
        "num_avg_trials = 5\n",
        "test_problems_names = [\"EI\", \"UCB\", \"KKT\"]\n",
        "num_test_problems = len(dim_list)\n",
        "num_BO_methods = len(test_problems_names)\n",
        "\n",
        "Y_all = torch.zeros((num_avg_trials, num_test_problems, num_BO_methods, BO_iter))"
      ],
      "metadata": {
        "id": "llueTGm2hG0J"
      },
      "execution_count": null,
      "outputs": []
    },
    {
      "cell_type": "code",
      "source": [
        "def optimize_AF(acq_func, bounds, q = 1, num_restarts = num_restarts, raw_samples = raw_samples, maxiter = maxiter):\n",
        "  candidate, acq_value = optimize_acqf(\n",
        "            acq_function = acq_func,\n",
        "            bounds = bounds,\n",
        "            #torch.cat((torch.zeros(1, dim), torch.ones(1, dim))).to(**tkwargs),\n",
        "            #batch_limit = 1,\n",
        "            q = q,  # number of candidates to generate (1 for single-point optimization)\n",
        "            num_restarts = num_restarts,  # number of starting points for multistart optimization\n",
        "            raw_samples = raw_samples,  # number of samples for initialization heuristic\n",
        "            options = {\"maxiter\": maxiter},\n",
        "            sequential = True,  # use sequential optimization\n",
        "  )\n",
        "  return candidate, acq_value"
      ],
      "metadata": {
        "id": "tH98M_lTuF1E"
      },
      "execution_count": null,
      "outputs": []
    },
    {
      "cell_type": "code",
      "source": [
        "def update_vanilla(X, Y, candidate, name):\n",
        "  X = torch.vstack((X, candidate))\n",
        "  Y_mean_new = objective[i](candidate)\n",
        "  Y = torch.vstack((Y, Y_mean_new))\n",
        "  print(f\"{name}, Best value: {negate_list[i] * Y.max().item()}, X: {candidate}, Y: {negate_list[i] * Y_mean_new.item()}\")\n",
        "  return X, Y"
      ],
      "metadata": {
        "id": "G1Febl2dw9-8"
      },
      "execution_count": null,
      "outputs": []
    },
    {
      "cell_type": "code",
      "source": [
        "from botorch.acquisition import UpperConfidenceBound\n",
        "from botorch.acquisition import ExpectedImprovement\n",
        "import matplotlib.pyplot as plt\n",
        "import numpy as np\n",
        "import botorch.settings\n",
        "suppress_botorch_warnings = True\n",
        "\n",
        "for a in range(num_avg_trials):\n",
        "  for i, dim in enumerate(dim_list):\n",
        "    bounds = torch.cat((torch.zeros(1, dim), torch.ones(1, dim))).to(**tkwargs)\n",
        "\n",
        "    X = SobolEngine(dimension=dim, scramble=True, seed=0).draw(n_init).to(**tkwargs)\n",
        "    Y = objective[i](X).unsqueeze(-1)\n",
        "    X_UCB = X.clone()\n",
        "    Y_UCB = Y.clone()\n",
        "    Y_grad = compute_grad(X, objective[i])\n",
        "    X_KKT = X.clone()\n",
        "    Y_KKT = torch.hstack((Y.clone(), Y_grad))\n",
        "\n",
        "    for j in range(BO_iter):\n",
        "      #print general info\n",
        "      print(f\"\\n{name_list[i]}, Trial: {a + 1}, Iteration: {j + 1}\")\n",
        "\n",
        "      #expected improvement\n",
        "      model_list = train_model(X, Y, nu = 2.5)\n",
        "      #model_list_new = ModelList(*model_list)\n",
        "      acq_func = ExpectedImprovement(model_list[0], best_f = Y.max())\n",
        "      candidate, acq_value = optimize_AF(acq_func, bounds)\n",
        "      X, Y = update_vanilla(X, Y, candidate, \"EI\")\n",
        "\n",
        "      #store EI values\n",
        "      if len(Y)==BO_iter:\n",
        "        Y_all[a, i, 0] = Y.reshape(BO_iter)\n",
        "\n",
        "      #upper confidence bound\n",
        "      model_list = train_model(X_UCB, Y_UCB, nu = 2.5)\n",
        "      acq_func = UpperConfidenceBound(model_list[0], beta)\n",
        "      candidate, acq_value = optimize_AF(acq_func, bounds)\n",
        "      X_UCB, Y_UCB = update_vanilla(X_UCB, Y_UCB, candidate, \"UCB\")\n",
        "\n",
        "      if len(Y_UCB) == BO_iter:\n",
        "        Y_all[a, i, 1] = Y_UCB.reshape(BO_iter)\n",
        "\n",
        "      #KKT\n",
        "      model_list = train_model(X_KKT, Y_KKT, nu = 2.5)\n",
        "      model_list_new = ModelList(*model_list)\n",
        "      acq_func = ConstrainedUCB(model_list_new, beta, penalty_weight)\n",
        "      candidate, acq_value = optimize_AF(acq_func, bounds)\n",
        "\n",
        "      Y_mean_new = objective[i](candidate)\n",
        "      Y_grad_new = compute_grad(candidate, objective[i]).squeeze()\n",
        "      Y_new = torch.hstack((Y_mean_new, Y_grad_new))\n",
        "      X_KKT = torch.vstack((X_KKT, candidate))\n",
        "      Y_KKT = torch.vstack((Y_KKT, Y_new))\n",
        "      Y_grad_GP = get_posterior_stats(model_list_new, candidate)[0][0, 1:]\n",
        "      print(\"KKT, Best value: \", negate_list[i] * Y_KKT[:, 0].max().item(), \", X: \", candidate, \"AF: \", acq_value, \", Y: \", negate_list[i] * Y_mean_new.item(), \", Y grad GP: \", negate_list[i] * Y_grad_GP, \", Y grad query: \", negate_list[i] * Y_grad_new)\n",
        "\n",
        "      if len(Y_KKT) == BO_iter:\n",
        "        Y_all[a, i, 2] = Y_KKT[:, 0].reshape(BO_iter)\n",
        "\n",
        "%matplotlib inline\n",
        "#average values from the different trials first\n",
        "Y_all_avg = Y_all.mean(dim = 0)\n",
        "\n",
        "for i in range(num_test_problems):\n",
        "  Y_EI_np = negate_list[i] * Y_all_avg[i, 0].cpu().numpy()\n",
        "  Y_UCB_np = negate_list[i] * Y_all_avg[i, 1].cpu().numpy()\n",
        "  Y_KKT_np = negate_list[i] * Y_all_avg[i, 2].cpu().numpy()\n",
        "\n",
        "  fig, ax = plt.subplots(figsize=(8, 6))\n",
        "  if negate_list[i] < 0:\n",
        "    ax.plot(np.minimum.accumulate(Y_EI_np), color=\"b\", lw = 2, label=\"EI\")\n",
        "    ax.plot(np.minimum.accumulate(Y_UCB_np), color=\"c\", lw = 2, label=\"UCB\")\n",
        "    ax.plot(np.minimum.accumulate(Y_KKT_np), color=\"r\", lw = 2.5, label=\"KKT\")\n",
        "  elif negate_list[i] > 0:\n",
        "    ax.plot(np.maximum.accumulate(Y_EI_np), color=\"b\", lw = 2, label=\"EI\")\n",
        "    ax.plot(np.maximum.accumulate(Y_UCB_np), color=\"c\", lw = 2, label=\"UCB\")\n",
        "    ax.plot(np.maximum.accumulate(Y_KKT_np), color=\"r\", lw = 2.5, label=\"KKT\")\n",
        "  ax.plot([0, len(Y_EI_np)], [objective_list[i], objective_list[i]], \"--\", c=\"g\", lw=3, label=\"Optimum\")\n",
        "\n",
        "  ax.grid(True)\n",
        "  ax.set_title(f\"{name_list[i]}, D = {dim_list[i]}, beta = {beta}\", fontsize=20)\n",
        "  ax.set_xlabel(\"Number of evaluations\", fontsize=20)\n",
        "  ax.set_xlim([0, len(Y_EI_np)])\n",
        "  ax.set_ylabel(\"Best value found\", fontsize=20)\n",
        "  ax.set_ylim([plot_bounds[i][0], plot_bounds[i][1]])\n",
        "  ax.legend(fontsize=18)\n",
        "  plt.show()"
      ],
      "metadata": {
        "colab": {
          "base_uri": "https://localhost:8080/",
          "height": 1000
        },
        "id": "ISdZiANAhQ35",
        "outputId": "fcc08ca6-45d7-4c0a-f060-484416c328b8"
      },
      "execution_count": null,
      "outputs": [
        {
          "output_type": "stream",
          "name": "stdout",
          "text": [
            "\n",
            "Branin, Trial: 1, Iteration: 1\n",
            "EI, Best value: 3.5451956715421797, X: tensor([[0.8280, 0.0393]], dtype=torch.float64), Y: 14.544102668163077\n",
            "UCB, Best value: 3.5451956715421797, X: tensor([[0.8178, 0.0395]], dtype=torch.float64), Y: 15.75733649109408\n"
          ]
        },
        {
          "output_type": "stream",
          "name": "stderr",
          "text": [
            "/usr/local/lib/python3.10/dist-packages/botorch/optim/optimize.py:369: RuntimeWarning: Optimization failed in `gen_candidates_scipy` with the following warning(s):\n",
            "[OptimizationWarning('Optimization failed within `scipy.optimize.minimize` with status 2 and message ABNORMAL_TERMINATION_IN_LNSRCH.')]\n",
            "Trying again with a new set of initial conditions.\n",
            "  warnings.warn(first_warn_msg, RuntimeWarning)\n",
            "/usr/local/lib/python3.10/dist-packages/botorch/optim/optimize.py:393: RuntimeWarning: Optimization failed on the second try, after generating a new set of initial conditions.\n",
            "  warnings.warn(\n"
          ]
        },
        {
          "output_type": "stream",
          "name": "stdout",
          "text": [
            "KKT, Best value:  3.5451956715421797 , X:  tensor([[0.8128, 0.0767]], dtype=torch.float64) AF:  tensor(11.6980, dtype=torch.float64) , Y:  15.913612548181336 , Y grad GP:  tensor([-88.9741,  -2.5442], dtype=torch.float64, grad_fn=<MulBackward0>) , Y grad query:  tensor([-112.4355,   -2.5323])\n",
            "\n",
            "Branin, Trial: 1, Iteration: 2\n",
            "EI, Best value: 1.9457079652477507, X: tensor([[1.0000, 0.2036]], dtype=torch.float64), Y: 1.9457079652477507\n",
            "UCB, Best value: 3.5451956715421797, X: tensor([[0.4862, 0.0000]], dtype=torch.float64), Y: 12.835631162492636\n"
          ]
        },
        {
          "output_type": "stream",
          "name": "stderr",
          "text": [
            "/usr/local/lib/python3.10/dist-packages/botorch/optim/optimize.py:369: RuntimeWarning: Optimization failed in `gen_candidates_scipy` with the following warning(s):\n",
            "[OptimizationWarning('Optimization failed within `scipy.optimize.minimize` with status 2 and message ABNORMAL_TERMINATION_IN_LNSRCH.')]\n",
            "Trying again with a new set of initial conditions.\n",
            "  warnings.warn(first_warn_msg, RuntimeWarning)\n",
            "/usr/local/lib/python3.10/dist-packages/botorch/optim/optimize.py:393: RuntimeWarning: Optimization failed on the second try, after generating a new set of initial conditions.\n",
            "  warnings.warn(\n"
          ]
        },
        {
          "output_type": "stream",
          "name": "stdout",
          "text": [
            "KKT, Best value:  1.2025223957027222 , X:  tensor([[0.5153, 0.1724]], dtype=torch.float64) AF:  tensor(-0.7023, dtype=torch.float64) , Y:  1.2025223957027222 , Y grad GP:  tensor([ 8.1036, -0.9087], dtype=torch.float64, grad_fn=<MulBackward0>) , Y grad query:  tensor([-58.4160,  -0.9886])\n",
            "\n",
            "Branin, Trial: 1, Iteration: 3\n",
            "EI, Best value: 1.9457079652477507, X: tensor([[1., 0.]], dtype=torch.float64), Y: 10.960889035651505\n",
            "UCB, Best value: 3.5451956715421797, X: tensor([[0.6523, 0.0000]], dtype=torch.float64), Y: 12.498092092734158\n",
            "KKT, Best value:  0.4323507959986621 , X:  tensor([[0.5483, 0.1454]], dtype=torch.float64) AF:  tensor(1.6215, dtype=torch.float64) , Y:  0.4323507959986621 , Y grad GP:  tensor([-1.7164, -0.8887], dtype=torch.float64, grad_fn=<MulBackward0>) , Y grad query:  tensor([11.2264, -0.9108])\n",
            "\n",
            "Branin, Trial: 1, Iteration: 4\n",
            "EI, Best value: 1.9457079652477507, X: tensor([[0.4887, 0.0000]], dtype=torch.float64), Y: 12.3503808034531\n",
            "UCB, Best value: 3.5451956715421797, X: tensor([[0.6318, 0.1264]], dtype=torch.float64), Y: 7.94896995894935\n"
          ]
        },
        {
          "output_type": "stream",
          "name": "stderr",
          "text": [
            "/usr/local/lib/python3.10/dist-packages/botorch/optim/optimize.py:369: RuntimeWarning: Optimization failed in `gen_candidates_scipy` with the following warning(s):\n",
            "[OptimizationWarning('Optimization failed within `scipy.optimize.minimize` with status 2 and message ABNORMAL_TERMINATION_IN_LNSRCH.')]\n",
            "Trying again with a new set of initial conditions.\n",
            "  warnings.warn(first_warn_msg, RuntimeWarning)\n"
          ]
        },
        {
          "output_type": "stream",
          "name": "stdout",
          "text": [
            "KKT, Best value:  0.3999094765877853 , X:  tensor([[0.5441, 0.1517]], dtype=torch.float64) AF:  tensor(-0.1519, dtype=torch.float64) , Y:  0.3999094765877853 , Y grad GP:  tensor([2.4769, 0.4841], dtype=torch.float64, grad_fn=<MulBackward0>) , Y grad query:  tensor([3.0571, 0.4598])\n",
            "\n",
            "Branin, Trial: 1, Iteration: 5\n",
            "EI, Best value: 0.39894076174021187, X: tensor([[0.5437, 0.1505]], dtype=torch.float64), Y: 0.39894076174021187\n",
            "UCB, Best value: 2.3153937121468866, X: tensor([[1.0000, 0.1595]], dtype=torch.float64), Y: 2.3153937121468866\n"
          ]
        },
        {
          "output_type": "stream",
          "name": "stderr",
          "text": [
            "/usr/local/lib/python3.10/dist-packages/botorch/optim/optimize.py:369: RuntimeWarning: Optimization failed in `gen_candidates_scipy` with the following warning(s):\n",
            "[OptimizationWarning('Optimization failed within `scipy.optimize.minimize` with status 2 and message ABNORMAL_TERMINATION_IN_LNSRCH.')]\n",
            "Trying again with a new set of initial conditions.\n",
            "  warnings.warn(first_warn_msg, RuntimeWarning)\n"
          ]
        },
        {
          "output_type": "stream",
          "name": "stdout",
          "text": [
            "KKT, Best value:  0.3991373963999809 , X:  tensor([[0.5419, 0.1538]], dtype=torch.float64) AF:  tensor(-0.2201, dtype=torch.float64) , Y:  0.3991373963999809 , Y grad GP:  tensor([-1.6539,  0.6883], dtype=torch.float64, grad_fn=<MulBackward0>) , Y grad query:  tensor([-1.3450,  0.6675])\n",
            "\n",
            "Branin, Trial: 1, Iteration: 6\n",
            "EI, Best value: 0.39894076174021187, X: tensor([[0.5848, 0.1271]], dtype=torch.float64), Y: 2.248752291141817\n",
            "UCB, Best value: 2.3153937121468866, X: tensor([[1.0000, 0.0034]], dtype=torch.float64), Y: 10.656052809106043\n",
            "KKT, Best value:  0.39856636958207936 , X:  tensor([[0.5433, 0.1499]], dtype=torch.float64) AF:  tensor(-0.1714, dtype=torch.float64) , Y:  0.39856636958207936 , Y grad GP:  tensor([ 0.4531, -0.6123], dtype=torch.float64, grad_fn=<MulBackward0>) , Y grad query:  tensor([ 0.4755, -0.6238])\n",
            "\n",
            "Branin, Trial: 1, Iteration: 7\n",
            "EI, Best value: 0.39894076174021187, X: tensor([[0.4932, 0.2278]], dtype=torch.float64), Y: 3.171369922302784\n",
            "UCB, Best value: 0.7633709606354522, X: tensor([[0.5244, 0.1625]], dtype=torch.float64), Y: 0.7633709606354522\n"
          ]
        },
        {
          "output_type": "stream",
          "name": "stderr",
          "text": [
            "/usr/local/lib/python3.10/dist-packages/botorch/optim/optimize.py:369: RuntimeWarning: Optimization failed in `gen_candidates_scipy` with the following warning(s):\n",
            "[OptimizationWarning('Optimization failed within `scipy.optimize.minimize` with status 2 and message ABNORMAL_TERMINATION_IN_LNSRCH.')]\n",
            "Trying again with a new set of initial conditions.\n",
            "  warnings.warn(first_warn_msg, RuntimeWarning)\n",
            "/usr/local/lib/python3.10/dist-packages/botorch/optim/optimize.py:393: RuntimeWarning: Optimization failed on the second try, after generating a new set of initial conditions.\n",
            "  warnings.warn(\n"
          ]
        },
        {
          "output_type": "stream",
          "name": "stdout",
          "text": [
            "KKT, Best value:  0.39856636958207936 , X:  tensor([[0.7626, 0.0733]], dtype=torch.float64) AF:  tensor(-10.3194, dtype=torch.float64) , Y:  19.48675564287621 , Y grad GP:  tensor([-1.0812, -0.3601], dtype=torch.float64, grad_fn=<MulBackward0>) , Y grad query:  tensor([-22.1577,  -0.2574])\n",
            "\n",
            "Branin, Trial: 1, Iteration: 8\n",
            "EI, Best value: 0.39894076174021187, X: tensor([[0., 1.]], dtype=torch.float64), Y: 17.508299515778166\n",
            "UCB, Best value: 0.572386620190164, X: tensor([[0.5442, 0.1229]], dtype=torch.float64), Y: 0.572386620190164\n"
          ]
        },
        {
          "output_type": "stream",
          "name": "stderr",
          "text": [
            "/usr/local/lib/python3.10/dist-packages/botorch/optim/optimize.py:369: RuntimeWarning: Optimization failed in `gen_candidates_scipy` with the following warning(s):\n",
            "[OptimizationWarning('Optimization failed within `scipy.optimize.minimize` with status 2 and message ABNORMAL_TERMINATION_IN_LNSRCH.')]\n",
            "Trying again with a new set of initial conditions.\n",
            "  warnings.warn(first_warn_msg, RuntimeWarning)\n",
            "/usr/local/lib/python3.10/dist-packages/botorch/optim/optimize.py:393: RuntimeWarning: Optimization failed on the second try, after generating a new set of initial conditions.\n",
            "  warnings.warn(\n"
          ]
        },
        {
          "output_type": "stream",
          "name": "stdout",
          "text": [
            "KKT, Best value:  0.3981297460257309 , X:  tensor([[0.5424, 0.1514]], dtype=torch.float64) AF:  tensor(-0.2161, dtype=torch.float64) , Y:  0.3981297460257309 , Y grad GP:  tensor([-1.1851, -0.2626], dtype=torch.float64, grad_fn=<MulBackward0>) , Y grad query:  tensor([-1.1068, -0.2754])\n",
            "\n",
            "Branin, Trial: 1, Iteration: 9\n",
            "EI, Best value: 0.39894076174021187, X: tensor([[0.5297, 0.1334]], dtype=torch.float64), Y: 0.7687528715119623\n",
            "UCB, Best value: 0.41017040278507544, X: tensor([[0.5461, 0.1486]], dtype=torch.float64), Y: 0.41017040278507544\n",
            "KKT, Best value:  0.3981297460257309 , X:  tensor([[0.3632, 0.3525]], dtype=torch.float64) AF:  tensor(-13.8785, dtype=torch.float64) , Y:  18.655699652569144 , Y grad GP:  tensor([-30.2351,  -0.6298], dtype=torch.float64, grad_fn=<MulBackward0>) , Y grad query:  tensor([-63.4306,  -0.7868])\n",
            "\n",
            "Branin, Trial: 1, Iteration: 10\n",
            "EI, Best value: 0.39894076174021187, X: tensor([[0.0000, 0.7605]], dtype=torch.float64), Y: 46.1320078414643\n",
            "UCB, Best value: 0.41017040278507544, X: tensor([[0.5451, 0.1384]], dtype=torch.float64), Y: 0.433367846546\n"
          ]
        },
        {
          "output_type": "stream",
          "name": "stderr",
          "text": [
            "/usr/local/lib/python3.10/dist-packages/botorch/optim/optimize.py:369: RuntimeWarning: Optimization failed in `gen_candidates_scipy` with the following warning(s):\n",
            "[OptimizationWarning('Optimization failed within `scipy.optimize.minimize` with status 2 and message ABNORMAL_TERMINATION_IN_LNSRCH.')]\n",
            "Trying again with a new set of initial conditions.\n",
            "  warnings.warn(first_warn_msg, RuntimeWarning)\n"
          ]
        },
        {
          "output_type": "stream",
          "name": "stdout",
          "text": [
            "KKT, Best value:  0.3981297460257309 , X:  tensor([[0.5431, 0.1503]], dtype=torch.float64) AF:  tensor(-0.2423, dtype=torch.float64) , Y:  0.3982714791169677 , Y grad GP:  tensor([ 0.3075, -0.4708], dtype=torch.float64, grad_fn=<MulBackward0>) , Y grad query:  tensor([ 0.3090, -0.4776])\n",
            "\n",
            "Branin, Trial: 1, Iteration: 11\n",
            "EI, Best value: 0.39894076174021187, X: tensor([[1.0000, 0.3081]], dtype=torch.float64), Y: 4.560841946522756\n",
            "UCB, Best value: 0.41017040278507544, X: tensor([[0.5423, 0.1321]], dtype=torch.float64), Y: 0.48804176757360906\n"
          ]
        },
        {
          "output_type": "stream",
          "name": "stderr",
          "text": [
            "/usr/local/lib/python3.10/dist-packages/botorch/optim/optimize.py:369: RuntimeWarning: Optimization failed in `gen_candidates_scipy` with the following warning(s):\n",
            "[OptimizationWarning('Optimization failed within `scipy.optimize.minimize` with status 2 and message ABNORMAL_TERMINATION_IN_LNSRCH.')]\n",
            "Trying again with a new set of initial conditions.\n",
            "  warnings.warn(first_warn_msg, RuntimeWarning)\n",
            "/usr/local/lib/python3.10/dist-packages/botorch/optim/optimize.py:393: RuntimeWarning: Optimization failed on the second try, after generating a new set of initial conditions.\n",
            "  warnings.warn(\n"
          ]
        },
        {
          "output_type": "stream",
          "name": "stdout",
          "text": [
            "KKT, Best value:  0.39793157821841874 , X:  tensor([[0.5426, 0.1516]], dtype=torch.float64) AF:  tensor(-0.2745, dtype=torch.float64) , Y:  0.39793157821841874 , Y grad GP:  tensor([-0.5522, -0.0698], dtype=torch.float64, grad_fn=<MulBackward0>) , Y grad query:  tensor([-0.5299, -0.0769])\n",
            "\n",
            "Branin, Trial: 1, Iteration: 12\n",
            "EI, Best value: 0.39894076174021187, X: tensor([[0.5394, 0.1545]], dtype=torch.float64), Y: 0.41046421397591004\n",
            "UCB, Best value: 0.40582266623831487, X: tensor([[0.5443, 0.1554]], dtype=torch.float64), Y: 0.40582266623831487\n",
            "KKT, Best value:  0.39793157821841874 , X:  tensor([[0.5423, 0.1529]], dtype=torch.float64) AF:  tensor(-0.2999, dtype=torch.float64) , Y:  0.39826818604576886 , Y grad GP:  tensor([-0.7582,  0.3982], dtype=torch.float64, grad_fn=<MulBackward0>) , Y grad query:  tensor([-0.7142,  0.3908])\n",
            "\n",
            "Branin, Trial: 1, Iteration: 13\n",
            "EI, Best value: 0.39894076174021187, X: tensor([[0.5397, 0.1501]], dtype=torch.float64), Y: 0.4113712647444494\n",
            "UCB, Best value: 0.4028071399602293, X: tensor([[0.5445, 0.1530]], dtype=torch.float64), Y: 0.4028071399602293\n",
            "KKT, Best value:  0.39793157821841874 , X:  tensor([[0.5431, 0.1510]], dtype=torch.float64) AF:  tensor(-0.2844, dtype=torch.float64) , Y:  0.3980591112269085 , Y grad GP:  tensor([ 0.5487, -0.1747], dtype=torch.float64, grad_fn=<MulBackward0>) , Y grad query:  tensor([ 0.5557, -0.1796])\n",
            "\n",
            "Branin, Trial: 1, Iteration: 14\n",
            "EI, Best value: 0.39894076174021187, X: tensor([[0.5402, 0.1462]], dtype=torch.float64), Y: 0.4176116122527809\n",
            "UCB, Best value: 0.4028071399602293, X: tensor([[0.5452, 0.1416]], dtype=torch.float64), Y: 0.41928518531087633\n",
            "KKT, Best value:  0.39793157821841874 , X:  tensor([[0.5429, 0.1523]], dtype=torch.float64) AF:  tensor(-0.3103, dtype=torch.float64) , Y:  0.39803537225089336 , Y grad GP:  tensor([0.4356, 0.3492], dtype=torch.float64, grad_fn=<MulBackward0>) , Y grad query:  tensor([0.4691, 0.3435])\n",
            "\n",
            "Branin, Trial: 1, Iteration: 15\n",
            "EI, Best value: 0.39894076174021187, X: tensor([[0.5391, 0.1564]], dtype=torch.float64), Y: 0.4130750032233035\n",
            "UCB, Best value: 0.4010574519369925, X: tensor([[0.5436, 0.1543]], dtype=torch.float64), Y: 0.4010574519369925\n",
            "KKT, Best value:  0.39793157821841874 , X:  tensor([[0.5428, 0.1509]], dtype=torch.float64) AF:  tensor(-0.2883, dtype=torch.float64) , Y:  0.3980178567236603 , Y grad GP:  tensor([-0.3397, -0.3375], dtype=torch.float64, grad_fn=<MulBackward0>) , Y grad query:  tensor([-0.3458, -0.3427])\n",
            "\n",
            "Branin, Trial: 1, Iteration: 16\n",
            "EI, Best value: 0.39894076174021187, X: tensor([[0.5414, 0.1393]], dtype=torch.float64), Y: 0.44014966710052406\n",
            "UCB, Best value: 0.4010574519369925, X: tensor([[0.5438, 0.1380]], dtype=torch.float64), Y: 0.43653255342394637\n",
            "KKT, Best value:  0.39793157821841874 , X:  tensor([[0.7504, 0.0748]], dtype=torch.float64) AF:  tensor(-19.0895, dtype=torch.float64) , Y:  19.599020696024866 , Y grad GP:  tensor([2.5901, 0.6530], dtype=torch.float64, grad_fn=<MulBackward0>) , Y grad query:  tensor([3.9358, 0.7028])\n",
            "\n",
            "Branin, Trial: 1, Iteration: 17\n",
            "EI, Best value: 0.39894076174021187, X: tensor([[0.9508, 0.1972]], dtype=torch.float64), Y: 0.9053122973907506\n",
            "UCB, Best value: 0.4010574519369925, X: tensor([[0.5431, 0.1556]], dtype=torch.float64), Y: 0.4020711917418591\n",
            "KKT, Best value:  0.39793157821841874 , X:  tensor([[0.5432, 0.1507]], dtype=torch.float64) AF:  tensor(-0.2986, dtype=torch.float64) , Y:  0.3981762970237064 , Y grad GP:  tensor([ 0.5730, -0.3074], dtype=torch.float64, grad_fn=<MulBackward0>) , Y grad query:  tensor([ 0.5724, -0.3109])\n",
            "\n",
            "Branin, Trial: 1, Iteration: 18\n",
            "EI, Best value: 0.39894076174021187, X: tensor([[0.5399, 0.1629]], dtype=torch.float64), Y: 0.4249047660145351\n",
            "UCB, Best value: 0.4010574519369925, X: tensor([[0.5442, 0.1397]], dtype=torch.float64), Y: 0.4266609990324213\n",
            "KKT, Best value:  0.39793157821841874 , X:  tensor([[0.7514, 0.0746]], dtype=torch.float64) AF:  tensor(-19.3508, dtype=torch.float64) , Y:  19.601757380157643 , Y grad GP:  tensor([1.5737, 0.5569], dtype=torch.float64, grad_fn=<MulBackward0>) , Y grad query:  tensor([1.7723, 0.5918])\n",
            "\n",
            "Branin, Trial: 1, Iteration: 19\n",
            "EI, Best value: 0.39894076174021187, X: tensor([[0.5433, 0.1428]], dtype=torch.float64), Y: 0.4145223939570677\n",
            "UCB, Best value: 0.4010574519369925, X: tensor([[0.5428, 0.1561]], dtype=torch.float64), Y: 0.4023220235438849\n",
            "KKT, Best value:  0.39793157821841874 , X:  tensor([[0.5425, 0.1524]], dtype=torch.float64) AF:  tensor(-0.3265, dtype=torch.float64) , Y:  0.39804344930555224 , Y grad GP:  tensor([-0.5328,  0.2432], dtype=torch.float64, grad_fn=<MulBackward0>) , Y grad query:  tensor([-0.5129,  0.2385])\n",
            "\n",
            "Branin, Trial: 1, Iteration: 20\n",
            "EI, Best value: 0.39894076174021187, X: tensor([[0.5400, 0.1590]], dtype=torch.float64), Y: 0.41212760862174846\n",
            "UCB, Best value: 0.4010574519369925, X: tensor([[0.5447, 0.1409]], dtype=torch.float64), Y: 0.42109543243210545\n",
            "KKT, Best value:  0.39793157821841874 , X:  tensor([[0.5431, 0.1511]], dtype=torch.float64) AF:  tensor(-0.3147, dtype=torch.float64) , Y:  0.39800915021869265 , Y grad GP:  tensor([ 0.4317, -0.1581], dtype=torch.float64, grad_fn=<MulBackward0>) , Y grad query:  tensor([ 0.4350, -0.1626])\n",
            "\n",
            "Branin, Trial: 1, Iteration: 21\n",
            "EI, Best value: 0.39894076174021187, X: tensor([[0.5430, 0.1436]], dtype=torch.float64), Y: 0.41194326159633654\n",
            "UCB, Best value: 0.4010574519369925, X: tensor([[0.5425, 0.1563]], dtype=torch.float64), Y: 0.4023653511877914\n"
          ]
        },
        {
          "output_type": "stream",
          "name": "stderr",
          "text": [
            "/usr/local/lib/python3.10/dist-packages/botorch/optim/optimize.py:369: RuntimeWarning: Optimization failed in `gen_candidates_scipy` with the following warning(s):\n",
            "[OptimizationWarning('Optimization failed within `scipy.optimize.minimize` with status 2 and message ABNORMAL_TERMINATION_IN_LNSRCH.')]\n",
            "Trying again with a new set of initial conditions.\n",
            "  warnings.warn(first_warn_msg, RuntimeWarning)\n",
            "/usr/local/lib/python3.10/dist-packages/botorch/optim/optimize.py:393: RuntimeWarning: Optimization failed on the second try, after generating a new set of initial conditions.\n",
            "  warnings.warn(\n"
          ]
        },
        {
          "output_type": "stream",
          "name": "stdout",
          "text": [
            "KKT, Best value:  0.39793157821841874 , X:  tensor([[0.5429, 0.1510]], dtype=torch.float64) AF:  tensor(-0.3143, dtype=torch.float64) , Y:  0.39798528823004453 , Y grad GP:  tensor([ 0.0520, -0.2555], dtype=torch.float64, grad_fn=<MulBackward0>) , Y grad query:  tensor([ 0.0499, -0.2584])\n",
            "\n",
            "Branin, Trial: 1, Iteration: 22\n",
            "EI, Best value: 0.39894076174021187, X: tensor([[0.9656, 0.2269]], dtype=torch.float64), Y: 1.1855126251308814\n",
            "UCB, Best value: 0.4010574519369925, X: tensor([[0.5425, 0.1418]], dtype=torch.float64), Y: 0.4205288539632974\n"
          ]
        },
        {
          "output_type": "stream",
          "name": "stderr",
          "text": [
            "/usr/local/lib/python3.10/dist-packages/botorch/optim/optimize.py:369: RuntimeWarning: Optimization failed in `gen_candidates_scipy` with the following warning(s):\n",
            "[OptimizationWarning('Optimization failed within `scipy.optimize.minimize` with status 2 and message ABNORMAL_TERMINATION_IN_LNSRCH.')]\n",
            "Trying again with a new set of initial conditions.\n",
            "  warnings.warn(first_warn_msg, RuntimeWarning)\n"
          ]
        },
        {
          "output_type": "stream",
          "name": "stdout",
          "text": [
            "KKT, Best value:  0.39793157821841874 , X:  tensor([[0.5428, 0.1511]], dtype=torch.float64) AF:  tensor(-0.3183, dtype=torch.float64) , Y:  0.39795773664707923 , Y grad GP:  tensor([-0.2732, -0.2489], dtype=torch.float64, grad_fn=<MulBackward0>) , Y grad query:  tensor([-0.2758, -0.2516])\n",
            "\n",
            "Branin, Trial: 1, Iteration: 23\n",
            "EI, Best value: 0.39894076174021187, X: tensor([[0.5427, 0.1453]], dtype=torch.float64), Y: 0.4072124188181103\n",
            "UCB, Best value: 0.4010574519369925, X: tensor([[0.5430, 0.1556]], dtype=torch.float64), Y: 0.4017231460429418\n"
          ]
        },
        {
          "output_type": "stream",
          "name": "stderr",
          "text": [
            "/usr/local/lib/python3.10/dist-packages/botorch/optim/fit.py:130: OptimizationWarning: `scipy_minimize` terminated with status 3, displaying original message from `scipy.optimize.minimize`: ABNORMAL_TERMINATION_IN_LNSRCH\n",
            "  warn(\n",
            "/usr/local/lib/python3.10/dist-packages/botorch/optim/fit.py:130: OptimizationWarning: `scipy_minimize` terminated with status 3, displaying original message from `scipy.optimize.minimize`: ABNORMAL_TERMINATION_IN_LNSRCH\n",
            "  warn(\n",
            "/usr/local/lib/python3.10/dist-packages/botorch/optim/fit.py:130: OptimizationWarning: `scipy_minimize` terminated with status 3, displaying original message from `scipy.optimize.minimize`: ABNORMAL_TERMINATION_IN_LNSRCH\n",
            "  warn(\n",
            "/usr/local/lib/python3.10/dist-packages/botorch/optim/fit.py:130: OptimizationWarning: `scipy_minimize` terminated with status 3, displaying original message from `scipy.optimize.minimize`: ABNORMAL_TERMINATION_IN_LNSRCH\n",
            "  warn(\n",
            "/usr/local/lib/python3.10/dist-packages/botorch/optim/fit.py:130: OptimizationWarning: `scipy_minimize` terminated with status 3, displaying original message from `scipy.optimize.minimize`: ABNORMAL_TERMINATION_IN_LNSRCH\n",
            "  warn(\n",
            "/usr/local/lib/python3.10/dist-packages/botorch/fit.py:171: RuntimeWarning: All attempts to fit the model have failed. For more information, try enabling botorch.settings.debug mode.\n",
            "  warn(str(err), RuntimeWarning)\n"
          ]
        },
        {
          "output_type": "stream",
          "name": "stdout",
          "text": [
            "KKT, Best value:  0.39793157821841874 , X:  tensor([[1.0000, 0.1419]], dtype=torch.float64) AF:  tensor(15.2661, dtype=torch.float64) , Y:  2.7067072908434353 , Y grad GP:  tensor([-176.2787,    6.0515], dtype=torch.float64, grad_fn=<MulBackward0>) , Y grad query:  tensor([104.1580, -26.2147])\n",
            "\n",
            "Branin, Trial: 1, Iteration: 24\n",
            "EI, Best value: 0.39894076174021187, X: tensor([[0.5407, 0.1563]], dtype=torch.float64), Y: 0.40467004457631006\n",
            "UCB, Best value: 0.4010574519369925, X: tensor([[0.5468, 0.1439]], dtype=torch.float64), Y: 0.4203062582549375\n",
            "KKT, Best value:  0.39793157821841874 , X:  tensor([[0.9594, 0.1616]], dtype=torch.float64) AF:  tensor(-0.2756, dtype=torch.float64) , Y:  0.4039508022118756 , Y grad GP:  tensor([-26.2392,  -0.6474], dtype=torch.float64, grad_fn=<MulBackward0>) , Y grad query:  tensor([-4.2722, -0.6567])\n",
            "\n",
            "Branin, Trial: 1, Iteration: 25\n",
            "EI, Best value: 0.39894076174021187, X: tensor([[0.5430, 0.1436]], dtype=torch.float64), Y: 0.41184394589336293\n",
            "UCB, Best value: 0.4010574519369925, X: tensor([[0.5405, 0.1450]], dtype=torch.float64), Y: 0.41947337252737604\n",
            "KKT, Best value:  0.39793157821841874 , X:  tensor([[0.5430, 0.1510]], dtype=torch.float64) AF:  tensor(-0.3239, dtype=torch.float64) , Y:  0.398020136487899 , Y grad GP:  tensor([ 0.3294, -0.2258], dtype=torch.float64, grad_fn=<MulBackward0>) , Y grad query:  tensor([ 0.3283, -0.2256])\n",
            "\n",
            "Branin, Trial: 1, Iteration: 26\n",
            "EI, Best value: 0.39894076174021187, X: tensor([[0.5405, 0.1564]], dtype=torch.float64), Y: 0.4054682730500456\n",
            "UCB, Best value: 0.4010574519369925, X: tensor([[0.5420, 0.1569]], dtype=torch.float64), Y: 0.4033324453483935\n",
            "KKT, Best value:  0.39793157821841874 , X:  tensor([[0.7518, 0.0744]], dtype=torch.float64) AF:  tensor(-19.4253, dtype=torch.float64) , Y:  19.60212685032146 , Y grad GP:  tensor([0.9894, 0.4269], dtype=torch.float64, grad_fn=<MulBackward0>) , Y grad query:  tensor([0.9747, 0.4657])\n",
            "\n",
            "Branin, Trial: 1, Iteration: 27\n",
            "EI, Best value: 0.39894076174021187, X: tensor([[0.5429, 0.1439]], dtype=torch.float64), Y: 0.41111003415376146\n",
            "UCB, Best value: 0.4010574519369925, X: tensor([[0.5469, 0.1444]], dtype=torch.float64), Y: 0.41981978138910314\n",
            "KKT, Best value:  0.39793157821841874 , X:  tensor([[0.9614, 0.1663]], dtype=torch.float64) AF:  tensor(-0.0534, dtype=torch.float64) , Y:  0.398427807822209 , Y grad GP:  tensor([-1.2147,  0.6263], dtype=torch.float64, grad_fn=<MulBackward0>) , Y grad query:  tensor([-0.9896,  0.6572])\n",
            "\n",
            "Branin, Trial: 1, Iteration: 28\n",
            "EI, Best value: 0.39894076174021187, X: tensor([[0.9600, 0.1599]], dtype=torch.float64), Y: 0.4039053773214576\n",
            "UCB, Best value: 0.4010574519369925, X: tensor([[0.5411, 0.1567]], dtype=torch.float64), Y: 0.4039140085365851\n"
          ]
        },
        {
          "output_type": "stream",
          "name": "stderr",
          "text": [
            "/usr/local/lib/python3.10/dist-packages/botorch/optim/optimize.py:369: RuntimeWarning: Optimization failed in `gen_candidates_scipy` with the following warning(s):\n",
            "[OptimizationWarning('Optimization failed within `scipy.optimize.minimize` with status 2 and message ABNORMAL_TERMINATION_IN_LNSRCH.')]\n",
            "Trying again with a new set of initial conditions.\n",
            "  warnings.warn(first_warn_msg, RuntimeWarning)\n"
          ]
        },
        {
          "output_type": "stream",
          "name": "stdout",
          "text": [
            "KKT, Best value:  0.39793157821841874 , X:  tensor([[0.9611, 0.1644]], dtype=torch.float64) AF:  tensor(-0.2207, dtype=torch.float64) , Y:  0.398213573484 , Y grad GP:  tensor([-1.1312, -0.0668], dtype=torch.float64, grad_fn=<MulBackward0>) , Y grad query:  tensor([-1.0359, -0.0742])\n",
            "\n",
            "Branin, Trial: 1, Iteration: 29\n",
            "EI, Best value: 0.39894076174021187, X: tensor([[0.9620, 0.1678]], dtype=torch.float64), Y: 0.39940405592636097\n",
            "UCB, Best value: 0.4010574519369925, X: tensor([[0.5407, 0.1449]], dtype=torch.float64), Y: 0.41813029899017096\n",
            "KKT, Best value:  0.39793157821841874 , X:  tensor([[0.5430, 0.1510]], dtype=torch.float64) AF:  tensor(-0.3318, dtype=torch.float64) , Y:  0.3980025746197722 , Y grad GP:  tensor([ 0.2880, -0.2155], dtype=torch.float64, grad_fn=<MulBackward0>) , Y grad query:  tensor([ 0.2870, -0.2153])\n",
            "\n",
            "Branin, Trial: 1, Iteration: 30\n",
            "EI, Best value: 0.39894076174021187, X: tensor([[0.9621, 0.1689]], dtype=torch.float64), Y: 0.40098383429744366\n",
            "UCB, Best value: 0.4010574519369925, X: tensor([[0.5468, 0.1452]], dtype=torch.float64), Y: 0.4179728952268391\n",
            "KKT, Best value:  0.39793157821841874 , X:  tensor([[0.5427, 0.1513]], dtype=torch.float64) AF:  tensor(-0.3328, dtype=torch.float64) , Y:  0.3979355942607725 , Y grad GP:  tensor([-0.3346, -0.2022], dtype=torch.float64, grad_fn=<MulBackward0>) , Y grad query:  tensor([-0.3360, -0.2021])\n",
            "\n",
            "Branin, Trial: 2, Iteration: 1\n",
            "EI, Best value: 3.5451956715421797, X: tensor([[0.8280, 0.0393]], dtype=torch.float64), Y: 14.54402250862417\n",
            "UCB, Best value: 3.5451956715421797, X: tensor([[0.8178, 0.0395]], dtype=torch.float64), Y: 15.757372998714374\n"
          ]
        },
        {
          "output_type": "stream",
          "name": "stderr",
          "text": [
            "/usr/local/lib/python3.10/dist-packages/botorch/optim/optimize.py:369: RuntimeWarning: Optimization failed in `gen_candidates_scipy` with the following warning(s):\n",
            "[OptimizationWarning('Optimization failed within `scipy.optimize.minimize` with status 2 and message ABNORMAL_TERMINATION_IN_LNSRCH.')]\n",
            "Trying again with a new set of initial conditions.\n",
            "  warnings.warn(first_warn_msg, RuntimeWarning)\n",
            "/usr/local/lib/python3.10/dist-packages/botorch/optim/optimize.py:393: RuntimeWarning: Optimization failed on the second try, after generating a new set of initial conditions.\n",
            "  warnings.warn(\n"
          ]
        },
        {
          "output_type": "stream",
          "name": "stdout",
          "text": [
            "KKT, Best value:  3.5451956715421797 , X:  tensor([[0.8318, 0.0824]], dtype=torch.float64) AF:  tensor(11.7129, dtype=torch.float64) , Y:  13.539160982922679 , Y grad GP:  tensor([-119.3773,   -2.4790], dtype=torch.float64, grad_fn=<MulBackward0>) , Y grad query:  tensor([-132.5276,   -2.5735])\n",
            "\n",
            "Branin, Trial: 2, Iteration: 2\n",
            "EI, Best value: 3.5451956715421797, X: tensor([[0.4819, 0.0000]], dtype=torch.float64), Y: 13.714088280185477\n",
            "UCB, Best value: 3.5451956715421797, X: tensor([[0.4862, 0.0000]], dtype=torch.float64), Y: 12.83562507263888\n"
          ]
        },
        {
          "output_type": "stream",
          "name": "stderr",
          "text": [
            "/usr/local/lib/python3.10/dist-packages/botorch/optim/optimize.py:369: RuntimeWarning: Optimization failed in `gen_candidates_scipy` with the following warning(s):\n",
            "[OptimizationWarning('Optimization failed within `scipy.optimize.minimize` with status 2 and message ABNORMAL_TERMINATION_IN_LNSRCH.')]\n",
            "Trying again with a new set of initial conditions.\n",
            "  warnings.warn(first_warn_msg, RuntimeWarning)\n",
            "/usr/local/lib/python3.10/dist-packages/botorch/optim/optimize.py:393: RuntimeWarning: Optimization failed on the second try, after generating a new set of initial conditions.\n",
            "  warnings.warn(\n"
          ]
        },
        {
          "output_type": "stream",
          "name": "stdout",
          "text": [
            "KKT, Best value:  3.5451956715421797 , X:  tensor([[0.7105, 0.0731]], dtype=torch.float64) AF:  tensor(0.2827, dtype=torch.float64) , Y:  17.78608422492063 , Y grad GP:  tensor([87.7032, -1.1917], dtype=torch.float64, grad_fn=<MulBackward0>) , Y grad query:  tensor([83.8552, -1.0212])\n",
            "\n",
            "Branin, Trial: 2, Iteration: 3\n",
            "EI, Best value: 3.5451956715421797, X: tensor([[0.6584, 0.0000]], dtype=torch.float64), Y: 13.281324411525418\n",
            "UCB, Best value: 3.5451956715421797, X: tensor([[0.6523, 0.0000]], dtype=torch.float64), Y: 12.498108562461255\n",
            "KKT, Best value:  2.896666499547173 , X:  tensor([[0.4936, 0.1920]], dtype=torch.float64) AF:  tensor(1.2668, dtype=torch.float64) , Y:  2.896666499547173 , Y grad GP:  tensor([-19.1411,  -1.1145], dtype=torch.float64, grad_fn=<MulBackward0>) , Y grad query:  tensor([-97.7879,  -1.2157])\n",
            "\n",
            "Branin, Trial: 2, Iteration: 4\n",
            "EI, Best value: 3.5451956715421797, X: tensor([[0.6225, 0.1103]], dtype=torch.float64), Y: 6.493788872640973\n",
            "UCB, Best value: 3.5451956715421797, X: tensor([[0.6318, 0.1264]], dtype=torch.float64), Y: 7.948699432189084\n"
          ]
        },
        {
          "output_type": "stream",
          "name": "stderr",
          "text": [
            "/usr/local/lib/python3.10/dist-packages/botorch/optim/optimize.py:369: RuntimeWarning: Optimization failed in `gen_candidates_scipy` with the following warning(s):\n",
            "[OptimizationWarning('Optimization failed within `scipy.optimize.minimize` with status 2 and message ABNORMAL_TERMINATION_IN_LNSRCH.')]\n",
            "Trying again with a new set of initial conditions.\n",
            "  warnings.warn(first_warn_msg, RuntimeWarning)\n",
            "/usr/local/lib/python3.10/dist-packages/botorch/optim/optimize.py:393: RuntimeWarning: Optimization failed on the second try, after generating a new set of initial conditions.\n",
            "  warnings.warn(\n"
          ]
        },
        {
          "output_type": "stream",
          "name": "stdout",
          "text": [
            "KKT, Best value:  0.45494018169690165 , X:  tensor([[0.5500, 0.1471]], dtype=torch.float64) AF:  tensor(1.0322, dtype=torch.float64) , Y:  0.45494018169690165 , Y grad GP:  tensor([7.6627, 0.4835], dtype=torch.float64, grad_fn=<MulBackward0>) , Y grad query:  tensor([15.8583,  0.4457])\n",
            "\n",
            "Branin, Trial: 2, Iteration: 5\n",
            "EI, Best value: 2.432528253846992, X: tensor([[1.0000, 0.1536]], dtype=torch.float64), Y: 2.432528253846992\n",
            "UCB, Best value: 2.31536649136304, X: tensor([[1.0000, 0.1595]], dtype=torch.float64), Y: 2.31536649136304\n",
            "KKT, Best value:  0.45494018169690165 , X:  tensor([[0.3541, 0.3663]], dtype=torch.float64) AF:  tensor(-15.4232, dtype=torch.float64) , Y:  19.13990639280972 , Y grad GP:  tensor([-18.0393,  -0.5458], dtype=torch.float64, grad_fn=<MulBackward0>) , Y grad query:  tensor([-45.1331,  -0.6590])\n",
            "\n",
            "Branin, Trial: 2, Iteration: 6\n",
            "EI, Best value: 2.432528253846992, X: tensor([[1., 0.]], dtype=torch.float64), Y: 10.960889035651505\n",
            "UCB, Best value: 0.8008729467244713, X: tensor([[0.5236, 0.1614]], dtype=torch.float64), Y: 0.8008729467244713\n"
          ]
        },
        {
          "output_type": "stream",
          "name": "stderr",
          "text": [
            "/usr/local/lib/python3.10/dist-packages/botorch/optim/optimize.py:369: RuntimeWarning: Optimization failed in `gen_candidates_scipy` with the following warning(s):\n",
            "[OptimizationWarning('Optimization failed within `scipy.optimize.minimize` with status 2 and message ABNORMAL_TERMINATION_IN_LNSRCH.')]\n",
            "Trying again with a new set of initial conditions.\n",
            "  warnings.warn(first_warn_msg, RuntimeWarning)\n"
          ]
        },
        {
          "output_type": "stream",
          "name": "stdout",
          "text": [
            "KKT, Best value:  0.45494018169690165 , X:  tensor([[0.7643, 0.0762]], dtype=torch.float64) AF:  tensor(-16.5215, dtype=torch.float64) , Y:  19.445038006515972 , Y grad GP:  tensor([-13.8545,   0.8940], dtype=torch.float64, grad_fn=<MulBackward0>) , Y grad query:  tensor([-26.0055,   0.9803])\n",
            "\n",
            "Branin, Trial: 2, Iteration: 7\n",
            "EI, Best value: 0.7158503602737127, X: tensor([[0.5257, 0.1617]], dtype=torch.float64), Y: 0.7158503602737127\n",
            "UCB, Best value: 0.8008729467244713, X: tensor([[1., 0.]], dtype=torch.float64), Y: 10.960889035651505\n",
            "KKT, Best value:  0.39882502282231336 , X:  tensor([[0.5433, 0.1496]], dtype=torch.float64) AF:  tensor(-0.0582, dtype=torch.float64) , Y:  0.39882502282231336 , Y grad GP:  tensor([ 0.5758, -0.7065], dtype=torch.float64, grad_fn=<MulBackward0>) , Y grad query:  tensor([ 0.5878, -0.7284])\n",
            "\n",
            "Branin, Trial: 2, Iteration: 8\n",
            "EI, Best value: 0.526657410101965, X: tensor([[0.5427, 0.1278]], dtype=torch.float64), Y: 0.526657410101965\n",
            "UCB, Best value: 0.5660456759427444, X: tensor([[0.5445, 0.1232]], dtype=torch.float64), Y: 0.5660456759427444\n",
            "KKT, Best value:  0.39882502282231336 , X:  tensor([[1.0000, 0.1804]], dtype=torch.float64) AF:  tensor(16.6297, dtype=torch.float64) , Y:  2.031474916335954 , Y grad GP:  tensor([-122.6106,   -5.3044], dtype=torch.float64, grad_fn=<MulBackward0>) , Y grad query:  tensor([86.9955, -8.9163])\n",
            "\n",
            "Branin, Trial: 2, Iteration: 9\n",
            "EI, Best value: 0.526657410101965, X: tensor([[0., 1.]], dtype=torch.float64), Y: 17.508299515778166\n",
            "UCB, Best value: 0.4087670079113277, X: tensor([[0.5459, 0.1488]], dtype=torch.float64), Y: 0.4087670079113277\n"
          ]
        },
        {
          "output_type": "stream",
          "name": "stderr",
          "text": [
            "/usr/local/lib/python3.10/dist-packages/botorch/optim/optimize.py:369: RuntimeWarning: Optimization failed in `gen_candidates_scipy` with the following warning(s):\n",
            "[OptimizationWarning('Optimization failed within `scipy.optimize.minimize` with status 2 and message ABNORMAL_TERMINATION_IN_LNSRCH.')]\n",
            "Trying again with a new set of initial conditions.\n",
            "  warnings.warn(first_warn_msg, RuntimeWarning)\n"
          ]
        },
        {
          "output_type": "stream",
          "name": "stdout",
          "text": [
            "KKT, Best value:  0.39882502282231336 , X:  tensor([[0.9615, 0.1673]], dtype=torch.float64) AF:  tensor(0.2892, dtype=torch.float64) , Y:  0.3991994194102926 , Y grad GP:  tensor([-28.4677,   1.0659], dtype=torch.float64, grad_fn=<MulBackward0>) , Y grad query:  tensor([-1.0912,  1.0804])\n",
            "\n",
            "Branin, Trial: 2, Iteration: 10\n",
            "EI, Best value: 0.526657410101965, X: tensor([[1.0000, 0.2702]], dtype=torch.float64), Y: 3.0464230212677794\n",
            "UCB, Best value: 0.4087670079113277, X: tensor([[0.5451, 0.1371]], dtype=torch.float64), Y: 0.44049708208282823\n",
            "KKT, Best value:  0.39882502282231336 , X:  tensor([[0.9602, 0.1621]], dtype=torch.float64) AF:  tensor(0.0338, dtype=torch.float64) , Y:  0.40069852416093177 , Y grad GP:  tensor([-2.3406, -0.8109], dtype=torch.float64, grad_fn=<MulBackward0>) , Y grad query:  tensor([-2.3050, -0.7771])\n",
            "\n",
            "Branin, Trial: 2, Iteration: 11\n",
            "EI, Best value: 0.526657410101965, X: tensor([[0.9502, 0.1919]], dtype=torch.float64), Y: 0.837411628761501\n",
            "UCB, Best value: 0.4029155490015821, X: tensor([[0.5445, 0.1532]], dtype=torch.float64), Y: 0.4029155490015821\n"
          ]
        },
        {
          "output_type": "stream",
          "name": "stderr",
          "text": [
            "/usr/local/lib/python3.10/dist-packages/botorch/optim/optimize.py:369: RuntimeWarning: Optimization failed in `gen_candidates_scipy` with the following warning(s):\n",
            "[OptimizationWarning('Optimization failed within `scipy.optimize.minimize` with status 2 and message ABNORMAL_TERMINATION_IN_LNSRCH.')]\n",
            "Trying again with a new set of initial conditions.\n",
            "  warnings.warn(first_warn_msg, RuntimeWarning)\n"
          ]
        },
        {
          "output_type": "stream",
          "name": "stdout",
          "text": [
            "KKT, Best value:  0.39882502282231336 , X:  tensor([[0.5436, 0.1499]], dtype=torch.float64) AF:  tensor(-0.1758, dtype=torch.float64) , Y:  0.3988885019399664 , Y grad GP:  tensor([ 1.3086, -0.4958], dtype=torch.float64, grad_fn=<MulBackward0>) , Y grad query:  tensor([ 1.3127, -0.4965])\n",
            "\n",
            "Branin, Trial: 2, Iteration: 12\n",
            "EI, Best value: 0.40865327681954255, X: tensor([[0.5454, 0.1459]], dtype=torch.float64), Y: 0.40865327681954255\n",
            "UCB, Best value: 0.4029155490015821, X: tensor([[0.5434, 0.1331]], dtype=torch.float64), Y: 0.4720052010488267\n"
          ]
        },
        {
          "output_type": "stream",
          "name": "stderr",
          "text": [
            "/usr/local/lib/python3.10/dist-packages/botorch/optim/optimize.py:369: RuntimeWarning: Optimization failed in `gen_candidates_scipy` with the following warning(s):\n",
            "[OptimizationWarning('Optimization failed within `scipy.optimize.minimize` with status 2 and message ABNORMAL_TERMINATION_IN_LNSRCH.')]\n",
            "Trying again with a new set of initial conditions.\n",
            "  warnings.warn(first_warn_msg, RuntimeWarning)\n"
          ]
        },
        {
          "output_type": "stream",
          "name": "stdout",
          "text": [
            "KKT, Best value:  0.39882502282231336 , X:  tensor([[0.9607, 0.1627]], dtype=torch.float64) AF:  tensor(-0.1466, dtype=torch.float64) , Y:  0.39941964475054625 , Y grad GP:  tensor([-1.5436, -0.6561], dtype=torch.float64, grad_fn=<MulBackward0>) , Y grad query:  tensor([-1.4875, -0.6623])\n",
            "\n",
            "Branin, Trial: 2, Iteration: 13\n",
            "EI, Best value: 0.40865327681954255, X: tensor([[0.0000, 0.7568]], dtype=torch.float64), Y: 46.772142962500084\n",
            "UCB, Best value: 0.4029155490015821, X: tensor([[0.5439, 0.1557]], dtype=torch.float64), Y: 0.40447976558185417\n",
            "KKT, Best value:  0.39852502773976717 , X:  tensor([[0.5434, 0.1501]], dtype=torch.float64) AF:  tensor(-0.2177, dtype=torch.float64) , Y:  0.39852502773976717 , Y grad GP:  tensor([ 0.8081, -0.4907], dtype=torch.float64, grad_fn=<MulBackward0>) , Y grad query:  tensor([ 0.8098, -0.4910])\n",
            "\n",
            "Branin, Trial: 2, Iteration: 14\n",
            "EI, Best value: 0.40865327681954255, X: tensor([[0.5453, 0.1598]], dtype=torch.float64), Y: 0.4274039684137918\n",
            "UCB, Best value: 0.4014459166390907, X: tensor([[0.5445, 0.1512]], dtype=torch.float64), Y: 0.4014459166390907\n"
          ]
        },
        {
          "output_type": "stream",
          "name": "stderr",
          "text": [
            "/usr/local/lib/python3.10/dist-packages/botorch/optim/optimize.py:369: RuntimeWarning: Optimization failed in `gen_candidates_scipy` with the following warning(s):\n",
            "[OptimizationWarning('Optimization failed within `scipy.optimize.minimize` with status 2 and message ABNORMAL_TERMINATION_IN_LNSRCH.')]\n",
            "Trying again with a new set of initial conditions.\n",
            "  warnings.warn(first_warn_msg, RuntimeWarning)\n"
          ]
        },
        {
          "output_type": "stream",
          "name": "stdout",
          "text": [
            "KKT, Best value:  0.3983403616441521 , X:  tensor([[0.9614, 0.1635]], dtype=torch.float64) AF:  tensor(-0.2156, dtype=torch.float64) , Y:  0.3983403616441521 , Y grad GP:  tensor([-0.2054, -0.5591], dtype=torch.float64, grad_fn=<MulBackward0>) , Y grad query:  tensor([-0.0978, -0.5654])\n",
            "\n",
            "Branin, Trial: 2, Iteration: 15\n",
            "EI, Best value: 0.40865327681954255, X: tensor([[0.5451, 0.1387]], dtype=torch.float64), Y: 0.4316122084955438\n",
            "UCB, Best value: 0.4014459166390907, X: tensor([[0.5441, 0.1368]], dtype=torch.float64), Y: 0.44308025802862794\n"
          ]
        },
        {
          "output_type": "stream",
          "name": "stderr",
          "text": [
            "/usr/local/lib/python3.10/dist-packages/botorch/optim/optimize.py:369: RuntimeWarning: Optimization failed in `gen_candidates_scipy` with the following warning(s):\n",
            "[OptimizationWarning('Optimization failed within `scipy.optimize.minimize` with status 2 and message ABNORMAL_TERMINATION_IN_LNSRCH.')]\n",
            "Trying again with a new set of initial conditions.\n",
            "  warnings.warn(first_warn_msg, RuntimeWarning)\n"
          ]
        },
        {
          "output_type": "stream",
          "name": "stdout",
          "text": [
            "KKT, Best value:  0.3983403616441521 , X:  tensor([[0.5432, 0.1503]], dtype=torch.float64) AF:  tensor(-0.2456, dtype=torch.float64) , Y:  0.3983488289015735 , Y grad GP:  tensor([ 0.5960, -0.4475], dtype=torch.float64, grad_fn=<MulBackward0>) , Y grad query:  tensor([ 0.5980, -0.4469])\n",
            "\n",
            "Branin, Trial: 2, Iteration: 16\n",
            "EI, Best value: 0.40865327681954255, X: tensor([[0.5447, 0.1413]], dtype=torch.float64), Y: 0.4196537255915249\n",
            "UCB, Best value: 0.4014459166390907, X: tensor([[0.5432, 0.1560]], dtype=torch.float64), Y: 0.4030328265050649\n",
            "KKT, Best value:  0.3982409158465323 , X:  tensor([[0.9621, 0.1661]], dtype=torch.float64) AF:  tensor(-0.2657, dtype=torch.float64) , Y:  0.3982409158465323 , Y grad GP:  tensor([0.7440, 0.2928], dtype=torch.float64, grad_fn=<MulBackward0>) , Y grad query:  tensor([0.8956, 0.2849])\n",
            "\n",
            "Branin, Trial: 2, Iteration: 17\n",
            "EI, Best value: 0.40865327681954255, X: tensor([[0.9693, 0.2026]], dtype=torch.float64), Y: 0.6771666680017656\n",
            "UCB, Best value: 0.4014459166390907, X: tensor([[0.5444, 0.1391]], dtype=torch.float64), Y: 0.4296230303570585\n"
          ]
        },
        {
          "output_type": "stream",
          "name": "stderr",
          "text": [
            "/usr/local/lib/python3.10/dist-packages/botorch/optim/optimize.py:369: RuntimeWarning: Optimization failed in `gen_candidates_scipy` with the following warning(s):\n",
            "[OptimizationWarning('Optimization failed within `scipy.optimize.minimize` with status 2 and message ABNORMAL_TERMINATION_IN_LNSRCH.')]\n",
            "Trying again with a new set of initial conditions.\n",
            "  warnings.warn(first_warn_msg, RuntimeWarning)\n"
          ]
        },
        {
          "output_type": "stream",
          "name": "stdout",
          "text": [
            "KKT, Best value:  0.3982409158465323 , X:  tensor([[0.9612, 0.1636]], dtype=torch.float64) AF:  tensor(-0.2534, dtype=torch.float64) , Y:  0.3983519140324798 , Y grad GP:  tensor([-0.6012, -0.4444], dtype=torch.float64, grad_fn=<MulBackward0>) , Y grad query:  tensor([-0.5741, -0.4457])\n",
            "\n",
            "Branin, Trial: 2, Iteration: 18\n",
            "EI, Best value: 0.40865327681954255, X: tensor([[0.5444, 0.1436]], dtype=torch.float64), Y: 0.4112221720924918\n",
            "UCB, Best value: 0.4014459166390907, X: tensor([[0.5429, 0.1564]], dtype=torch.float64), Y: 0.403182983620173\n"
          ]
        },
        {
          "output_type": "stream",
          "name": "stderr",
          "text": [
            "/usr/local/lib/python3.10/dist-packages/botorch/optim/optimize.py:369: RuntimeWarning: Optimization failed in `gen_candidates_scipy` with the following warning(s):\n",
            "[OptimizationWarning('Optimization failed within `scipy.optimize.minimize` with status 2 and message ABNORMAL_TERMINATION_IN_LNSRCH.')]\n",
            "Trying again with a new set of initial conditions.\n",
            "  warnings.warn(first_warn_msg, RuntimeWarning)\n",
            "/usr/local/lib/python3.10/dist-packages/botorch/optim/optimize.py:393: RuntimeWarning: Optimization failed on the second try, after generating a new set of initial conditions.\n",
            "  warnings.warn(\n"
          ]
        },
        {
          "output_type": "stream",
          "name": "stdout",
          "text": [
            "KKT, Best value:  0.3982409158465323 , X:  tensor([[0.5433, 0.1505]], dtype=torch.float64) AF:  tensor(-0.2693, dtype=torch.float64) , Y:  0.3983497204045374 , Y grad GP:  tensor([ 0.8480, -0.3461], dtype=torch.float64, grad_fn=<MulBackward0>) , Y grad query:  tensor([ 0.8521, -0.3457])\n",
            "\n",
            "Branin, Trial: 2, Iteration: 19\n",
            "EI, Best value: 0.40865327681954255, X: tensor([[0.5428, 0.1605]], dtype=torch.float64), Y: 0.41543761642262567\n",
            "UCB, Best value: 0.4014459166390907, X: tensor([[0.5446, 0.1405]], dtype=torch.float64), Y: 0.4229755851895636\n"
          ]
        },
        {
          "output_type": "stream",
          "name": "stderr",
          "text": [
            "/usr/local/lib/python3.10/dist-packages/botorch/optim/optimize.py:369: RuntimeWarning: Optimization failed in `gen_candidates_scipy` with the following warning(s):\n",
            "[OptimizationWarning('Optimization failed within `scipy.optimize.minimize` with status 2 and message ABNORMAL_TERMINATION_IN_LNSRCH.')]\n",
            "Trying again with a new set of initial conditions.\n",
            "  warnings.warn(first_warn_msg, RuntimeWarning)\n",
            "/usr/local/lib/python3.10/dist-packages/botorch/optim/optimize.py:393: RuntimeWarning: Optimization failed on the second try, after generating a new set of initial conditions.\n",
            "  warnings.warn(\n"
          ]
        },
        {
          "output_type": "stream",
          "name": "stdout",
          "text": [
            "KKT, Best value:  0.3982409158465323 , X:  tensor([[0.9611, 0.1637]], dtype=torch.float64) AF:  tensor(-0.2701, dtype=torch.float64) , Y:  0.3983696053186865 , Y grad GP:  tensor([-0.7623, -0.3977], dtype=torch.float64, grad_fn=<MulBackward0>) , Y grad query:  tensor([-0.7484, -0.3937])\n",
            "\n",
            "Branin, Trial: 2, Iteration: 20\n",
            "EI, Best value: 0.40865327681954255, X: tensor([[0.5442, 0.1423]], dtype=torch.float64), Y: 0.415312914399772\n",
            "UCB, Best value: 0.4014459166390907, X: tensor([[0.5427, 0.1565]], dtype=torch.float64), Y: 0.40303822579201665\n"
          ]
        },
        {
          "output_type": "stream",
          "name": "stderr",
          "text": [
            "/usr/local/lib/python3.10/dist-packages/botorch/optim/optimize.py:369: RuntimeWarning: Optimization failed in `gen_candidates_scipy` with the following warning(s):\n",
            "[OptimizationWarning('Optimization failed within `scipy.optimize.minimize` with status 2 and message ABNORMAL_TERMINATION_IN_LNSRCH.')]\n",
            "Trying again with a new set of initial conditions.\n",
            "  warnings.warn(first_warn_msg, RuntimeWarning)\n"
          ]
        },
        {
          "output_type": "stream",
          "name": "stdout",
          "text": [
            "KKT, Best value:  0.3980774321632605 , X:  tensor([[0.5430, 0.1507]], dtype=torch.float64) AF:  tensor(-0.2814, dtype=torch.float64) , Y:  0.3980774321632605 , Y grad GP:  tensor([ 0.0989, -0.3592], dtype=torch.float64, grad_fn=<MulBackward0>) , Y grad query:  tensor([ 0.1016, -0.3588])\n",
            "\n",
            "Branin, Trial: 2, Iteration: 21\n",
            "EI, Best value: 0.40865327681954255, X: tensor([[0.5441, 0.1439]], dtype=torch.float64), Y: 0.41003135533210333\n",
            "UCB, Best value: 0.4014459166390907, X: tensor([[0.5447, 0.1414]], dtype=torch.float64), Y: 0.41924763780027874\n"
          ]
        },
        {
          "output_type": "stream",
          "name": "stderr",
          "text": [
            "/usr/local/lib/python3.10/dist-packages/botorch/optim/optimize.py:369: RuntimeWarning: Optimization failed in `gen_candidates_scipy` with the following warning(s):\n",
            "[OptimizationWarning('Optimization failed within `scipy.optimize.minimize` with status 2 and message ABNORMAL_TERMINATION_IN_LNSRCH.')]\n",
            "Trying again with a new set of initial conditions.\n",
            "  warnings.warn(first_warn_msg, RuntimeWarning)\n",
            "/usr/local/lib/python3.10/dist-packages/botorch/optim/optimize.py:393: RuntimeWarning: Optimization failed on the second try, after generating a new set of initial conditions.\n",
            "  warnings.warn(\n"
          ]
        },
        {
          "output_type": "stream",
          "name": "stdout",
          "text": [
            "KKT, Best value:  0.39794519272790474 , X:  tensor([[0.5426, 0.1517]], dtype=torch.float64) AF:  tensor(-0.3011, dtype=torch.float64) , Y:  0.39794519272790474 , Y grad GP:  tensor([-0.6069, -0.0788], dtype=torch.float64, grad_fn=<MulBackward0>) , Y grad query:  tensor([-0.5970, -0.0788])\n",
            "\n",
            "Branin, Trial: 2, Iteration: 22\n",
            "EI, Best value: 0.40440671817273177, X: tensor([[0.5439, 0.1460]], dtype=torch.float64), Y: 0.40440671817273177\n",
            "UCB, Best value: 0.4014459166390907, X: tensor([[0.5425, 0.1565]], dtype=torch.float64), Y: 0.4028173104698851\n",
            "KKT, Best value:  0.39794519272790474 , X:  tensor([[0.9612, 0.1638]], dtype=torch.float64) AF:  tensor(-0.2902, dtype=torch.float64) , Y:  0.39822670524088544 , Y grad GP:  tensor([-0.5558, -0.3600], dtype=torch.float64, grad_fn=<MulBackward0>) , Y grad query:  tensor([-0.5334, -0.3620])\n",
            "\n",
            "Branin, Trial: 2, Iteration: 23\n",
            "EI, Best value: 0.40440671817273177, X: tensor([[0.4659, 0.2853]], dtype=torch.float64), Y: 6.9792138757612445\n",
            "UCB, Best value: 0.4014459166390907, X: tensor([[0.5432, 0.1420]], dtype=torch.float64), Y: 0.41775499420059603\n",
            "KKT, Best value:  0.39794519272790474 , X:  tensor([[0.9617, 0.1656]], dtype=torch.float64) AF:  tensor(-0.3046, dtype=torch.float64) , Y:  0.3979794682395532 , Y grad GP:  tensor([-0.2066,  0.2911], dtype=torch.float64, grad_fn=<MulBackward0>) , Y grad query:  tensor([-0.1503,  0.2878])\n",
            "\n",
            "Branin, Trial: 2, Iteration: 24\n",
            "EI, Best value: 0.40440671817273177, X: tensor([[0.5445, 0.1418]], dtype=torch.float64), Y: 0.4174210217839782\n",
            "UCB, Best value: 0.4014459166390907, X: tensor([[0.5428, 0.1560]], dtype=torch.float64), Y: 0.4021469402019964\n"
          ]
        },
        {
          "output_type": "stream",
          "name": "stderr",
          "text": [
            "/usr/local/lib/python3.10/dist-packages/botorch/optim/optimize.py:369: RuntimeWarning: Optimization failed in `gen_candidates_scipy` with the following warning(s):\n",
            "[OptimizationWarning('Optimization failed within `scipy.optimize.minimize` with status 2 and message ABNORMAL_TERMINATION_IN_LNSRCH.')]\n",
            "Trying again with a new set of initial conditions.\n",
            "  warnings.warn(first_warn_msg, RuntimeWarning)\n",
            "/usr/local/lib/python3.10/dist-packages/botorch/optim/optimize.py:393: RuntimeWarning: Optimization failed on the second try, after generating a new set of initial conditions.\n",
            "  warnings.warn(\n"
          ]
        },
        {
          "output_type": "stream",
          "name": "stdout",
          "text": [
            "KKT, Best value:  0.39794519272790474 , X:  tensor([[0.5426, 0.1511]], dtype=torch.float64) AF:  tensor(-0.3007, dtype=torch.float64) , Y:  0.3980089885349045 , Y grad GP:  tensor([-0.5811, -0.3071], dtype=torch.float64, grad_fn=<MulBackward0>) , Y grad query:  tensor([-0.5787, -0.3066])\n",
            "\n",
            "Branin, Trial: 2, Iteration: 25\n",
            "EI, Best value: 0.40440671817273177, X: tensor([[0.5445, 0.1435]], dtype=torch.float64), Y: 0.411497505662771\n",
            "UCB, Best value: 0.4014459166390907, X: tensor([[0.5467, 0.1444]], dtype=torch.float64), Y: 0.4189543895514998\n"
          ]
        },
        {
          "output_type": "stream",
          "name": "stderr",
          "text": [
            "/usr/local/lib/python3.10/dist-packages/botorch/optim/optimize.py:369: RuntimeWarning: Optimization failed in `gen_candidates_scipy` with the following warning(s):\n",
            "[OptimizationWarning('Optimization failed within `scipy.optimize.minimize` with status 2 and message ABNORMAL_TERMINATION_IN_LNSRCH.')]\n",
            "Trying again with a new set of initial conditions.\n",
            "  warnings.warn(first_warn_msg, RuntimeWarning)\n",
            "/usr/local/lib/python3.10/dist-packages/botorch/optim/optimize.py:393: RuntimeWarning: Optimization failed on the second try, after generating a new set of initial conditions.\n",
            "  warnings.warn(\n"
          ]
        },
        {
          "output_type": "stream",
          "name": "stdout",
          "text": [
            "KKT, Best value:  0.39794519272790474 , X:  tensor([[0.9613, 0.1641]], dtype=torch.float64) AF:  tensor(-0.3026, dtype=torch.float64) , Y:  0.39809452772009557 , Y grad GP:  tensor([-0.3804, -0.3001], dtype=torch.float64, grad_fn=<MulBackward0>) , Y grad query:  tensor([-0.3573, -0.2981])\n",
            "\n",
            "Branin, Trial: 2, Iteration: 26\n",
            "EI, Best value: 0.40225776313160644, X: tensor([[0.5448, 0.1504]], dtype=torch.float64), Y: 0.40225776313160644\n",
            "UCB, Best value: 0.4014459166390907, X: tensor([[0.5409, 0.1447]], dtype=torch.float64), Y: 0.4174559311079964\n"
          ]
        },
        {
          "output_type": "stream",
          "name": "stderr",
          "text": [
            "/usr/local/lib/python3.10/dist-packages/botorch/optim/optimize.py:369: RuntimeWarning: Optimization failed in `gen_candidates_scipy` with the following warning(s):\n",
            "[OptimizationWarning('Optimization failed within `scipy.optimize.minimize` with status 2 and message ABNORMAL_TERMINATION_IN_LNSRCH.')]\n",
            "Trying again with a new set of initial conditions.\n",
            "  warnings.warn(first_warn_msg, RuntimeWarning)\n"
          ]
        },
        {
          "output_type": "stream",
          "name": "stdout",
          "text": [
            "KKT, Best value:  0.39794519272790474 , X:  tensor([[0.5429, 0.1511]], dtype=torch.float64) AF:  tensor(-0.3107, dtype=torch.float64) , Y:  0.3979562235753136 , Y grad GP:  tensor([-0.0839, -0.2366], dtype=torch.float64, grad_fn=<MulBackward0>) , Y grad query:  tensor([-0.0800, -0.2361])\n",
            "\n",
            "Branin, Trial: 2, Iteration: 27\n",
            "EI, Best value: 0.40225776313160644, X: tensor([[0.5438, 0.1407]], dtype=torch.float64), Y: 0.4220386390657822\n",
            "UCB, Best value: 0.4014459166390907, X: tensor([[0.5420, 0.1570]], dtype=torch.float64), Y: 0.4036091386043168\n"
          ]
        },
        {
          "output_type": "stream",
          "name": "stderr",
          "text": [
            "/usr/local/lib/python3.10/dist-packages/botorch/optim/optimize.py:369: RuntimeWarning: Optimization failed in `gen_candidates_scipy` with the following warning(s):\n",
            "[OptimizationWarning('Optimization failed within `scipy.optimize.minimize` with status 2 and message ABNORMAL_TERMINATION_IN_LNSRCH.')]\n",
            "Trying again with a new set of initial conditions.\n",
            "  warnings.warn(first_warn_msg, RuntimeWarning)\n",
            "/usr/local/lib/python3.10/dist-packages/botorch/optim/optimize.py:393: RuntimeWarning: Optimization failed on the second try, after generating a new set of initial conditions.\n",
            "  warnings.warn(\n"
          ]
        },
        {
          "output_type": "stream",
          "name": "stdout",
          "text": [
            "KKT, Best value:  0.39794519272790474 , X:  tensor([[0.5427, 0.1511]], dtype=torch.float64) AF:  tensor(-0.3142, dtype=torch.float64) , Y:  0.3979803951495615 , Y grad GP:  tensor([-0.4982, -0.2722], dtype=torch.float64, grad_fn=<MulBackward0>) , Y grad query:  tensor([-0.4956, -0.2720])\n",
            "\n",
            "Branin, Trial: 2, Iteration: 28\n",
            "EI, Best value: 0.40225776313160644, X: tensor([[0.5445, 0.1542]], dtype=torch.float64), Y: 0.404589966289036\n",
            "UCB, Best value: 0.4014459166390907, X: tensor([[0.5468, 0.1450]], dtype=torch.float64), Y: 0.41858231304748195\n"
          ]
        },
        {
          "output_type": "stream",
          "name": "stderr",
          "text": [
            "/usr/local/lib/python3.10/dist-packages/botorch/optim/optimize.py:369: RuntimeWarning: Optimization failed in `gen_candidates_scipy` with the following warning(s):\n",
            "[OptimizationWarning('Optimization failed within `scipy.optimize.minimize` with status 2 and message ABNORMAL_TERMINATION_IN_LNSRCH.')]\n",
            "Trying again with a new set of initial conditions.\n",
            "  warnings.warn(first_warn_msg, RuntimeWarning)\n"
          ]
        },
        {
          "output_type": "stream",
          "name": "stdout",
          "text": [
            "KKT, Best value:  0.39794519272790474 , X:  tensor([[0.5427, 0.1513]], dtype=torch.float64) AF:  tensor(-0.3210, dtype=torch.float64) , Y:  0.39794946507574913 , Y grad GP:  tensor([-0.4631, -0.2132], dtype=torch.float64, grad_fn=<MulBackward0>) , Y grad query:  tensor([-0.4592, -0.2127])\n",
            "\n",
            "Branin, Trial: 2, Iteration: 29\n",
            "EI, Best value: 0.40225776313160644, X: tensor([[0.5440, 0.1423]], dtype=torch.float64), Y: 0.4156255207534443\n",
            "UCB, Best value: 0.4014459166390907, X: tensor([[0.5412, 0.1567]], dtype=torch.float64), Y: 0.4037543441734286\n",
            "KKT, Best value:  0.39794519272790474 , X:  tensor([[0.9619, 0.1657]], dtype=torch.float64) AF:  tensor(-0.3205, dtype=torch.float64) , Y:  0.3980137723835746 , Y grad GP:  tensor([0.3941, 0.2142], dtype=torch.float64, grad_fn=<MulBackward0>) , Y grad query:  tensor([0.4688, 0.2114])\n",
            "\n",
            "Branin, Trial: 2, Iteration: 30\n",
            "EI, Best value: 0.40225776313160644, X: tensor([[0.5444, 0.1535]], dtype=torch.float64), Y: 0.40278716053770225\n",
            "UCB, Best value: 0.4014459166390907, X: tensor([[0.5410, 0.1449]], dtype=torch.float64), Y: 0.41628371097685424\n",
            "KKT, Best value:  0.39794125718305473 , X:  tensor([[0.9618, 0.1655]], dtype=torch.float64) AF:  tensor(-0.3241, dtype=torch.float64) , Y:  0.39794125718305473 , Y grad GP:  tensor([0.1921, 0.1688], dtype=torch.float64, grad_fn=<MulBackward0>) , Y grad query:  tensor([0.2473, 0.1666])\n",
            "\n",
            "Branin, Trial: 3, Iteration: 1\n",
            "EI, Best value: 3.5451956715421797, X: tensor([[0.8280, 0.0393]], dtype=torch.float64), Y: 14.543791644334203\n",
            "UCB, Best value: 3.5451956715421797, X: tensor([[0.8178, 0.0395]], dtype=torch.float64), Y: 15.75731057204339\n"
          ]
        },
        {
          "output_type": "stream",
          "name": "stderr",
          "text": [
            "/usr/local/lib/python3.10/dist-packages/botorch/optim/optimize.py:369: RuntimeWarning: Optimization failed in `gen_candidates_scipy` with the following warning(s):\n",
            "[OptimizationWarning('Optimization failed within `scipy.optimize.minimize` with status 2 and message ABNORMAL_TERMINATION_IN_LNSRCH.')]\n",
            "Trying again with a new set of initial conditions.\n",
            "  warnings.warn(first_warn_msg, RuntimeWarning)\n",
            "/usr/local/lib/python3.10/dist-packages/botorch/optim/optimize.py:393: RuntimeWarning: Optimization failed on the second try, after generating a new set of initial conditions.\n",
            "  warnings.warn(\n"
          ]
        },
        {
          "output_type": "stream",
          "name": "stdout",
          "text": [
            "KKT, Best value:  3.5451956715421797 , X:  tensor([[0.8375, 0.0846]], dtype=torch.float64) AF:  tensor(11.6882, dtype=torch.float64) , Y:  12.76442546433376 , Y grad GP:  tensor([-128.1432,   -2.3534], dtype=torch.float64, grad_fn=<MulBackward0>) , Y grad query:  tensor([-136.5149,   -2.4867])\n",
            "\n",
            "Branin, Trial: 3, Iteration: 2\n",
            "EI, Best value: 3.5451956715421797, X: tensor([[0.4819, 0.0000]], dtype=torch.float64), Y: 13.716221929608944\n",
            "UCB, Best value: 3.5451956715421797, X: tensor([[0.4862, 0.0000]], dtype=torch.float64), Y: 12.835586157664016\n",
            "KKT, Best value:  3.5451956715421797 , X:  tensor([[0.7256, 0.0715]], dtype=torch.float64) AF:  tensor(0.2794, dtype=torch.float64) , Y:  18.848845944806442 , Y grad GP:  tensor([72.8291, -1.2625], dtype=torch.float64, grad_fn=<MulBackward0>) , Y grad query:  tensor([55.6742, -1.0693])\n",
            "\n",
            "Branin, Trial: 3, Iteration: 3\n",
            "EI, Best value: 3.5451956715421797, X: tensor([[0.6584, 0.0000]], dtype=torch.float64), Y: 13.281610320467294\n",
            "UCB, Best value: 3.5451956715421797, X: tensor([[0.6523, 0.0000]], dtype=torch.float64), Y: 12.498131379781466\n"
          ]
        },
        {
          "output_type": "stream",
          "name": "stderr",
          "text": [
            "/usr/local/lib/python3.10/dist-packages/botorch/optim/optimize.py:369: RuntimeWarning: Optimization failed in `gen_candidates_scipy` with the following warning(s):\n",
            "[OptimizationWarning('Optimization failed within `scipy.optimize.minimize` with status 2 and message ABNORMAL_TERMINATION_IN_LNSRCH.')]\n",
            "Trying again with a new set of initial conditions.\n",
            "  warnings.warn(first_warn_msg, RuntimeWarning)\n"
          ]
        },
        {
          "output_type": "stream",
          "name": "stdout",
          "text": [
            "KKT, Best value:  0.5882688035627162 , X:  tensor([[0.5295, 0.1613]], dtype=torch.float64) AF:  tensor(3.1507, dtype=torch.float64) , Y:  0.5882688035627162 , Y grad GP:  tensor([18.8381, -0.3824], dtype=torch.float64, grad_fn=<MulBackward0>) , Y grad query:  tensor([-28.8712,  -0.4621])\n",
            "\n",
            "Branin, Trial: 3, Iteration: 4\n",
            "EI, Best value: 3.5451956715421797, X: tensor([[0.6225, 0.1103]], dtype=torch.float64), Y: 6.493934028642583\n",
            "UCB, Best value: 3.5451956715421797, X: tensor([[0.6318, 0.1264]], dtype=torch.float64), Y: 7.948735289856826\n",
            "KKT, Best value:  0.40887655187028216 , X:  tensor([[0.5458, 0.1473]], dtype=torch.float64) AF:  tensor(0.3549, dtype=torch.float64) , Y:  0.40887655187028216 , Y grad GP:  tensor([ 0.6908, -0.8383], dtype=torch.float64, grad_fn=<MulBackward0>) , Y grad query:  tensor([ 5.8508, -0.8767])\n",
            "\n",
            "Branin, Trial: 3, Iteration: 5\n",
            "EI, Best value: 2.432636521728149, X: tensor([[1.0000, 0.1536]], dtype=torch.float64), Y: 2.432636521728149\n",
            "UCB, Best value: 2.315369358403962, X: tensor([[1.0000, 0.1595]], dtype=torch.float64), Y: 2.315369358403962\n"
          ]
        },
        {
          "output_type": "stream",
          "name": "stderr",
          "text": [
            "/usr/local/lib/python3.10/dist-packages/botorch/optim/optimize.py:369: RuntimeWarning: Optimization failed in `gen_candidates_scipy` with the following warning(s):\n",
            "[OptimizationWarning('Optimization failed within `scipy.optimize.minimize` with status 2 and message ABNORMAL_TERMINATION_IN_LNSRCH.')]\n",
            "Trying again with a new set of initial conditions.\n",
            "  warnings.warn(first_warn_msg, RuntimeWarning)\n"
          ]
        },
        {
          "output_type": "stream",
          "name": "stdout",
          "text": [
            "KKT, Best value:  0.39913600371192537 , X:  tensor([[0.5438, 0.1515]], dtype=torch.float64) AF:  tensor(-0.1840, dtype=torch.float64) , Y:  0.39913600371192537 , Y grad GP:  tensor([1.7944, 0.3296], dtype=torch.float64, grad_fn=<MulBackward0>) , Y grad query:  tensor([2.3841, 0.2969])\n",
            "\n",
            "Branin, Trial: 3, Iteration: 6\n",
            "EI, Best value: 2.432636521728149, X: tensor([[1., 0.]], dtype=torch.float64), Y: 10.960889035651505\n",
            "UCB, Best value: 2.315369358403962, X: tensor([[1.0000, 0.0034]], dtype=torch.float64), Y: 10.655392655005153\n",
            "KKT, Best value:  0.3989604259161492 , X:  tensor([[0.5420, 0.1536]], dtype=torch.float64) AF:  tensor(-0.2404, dtype=torch.float64) , Y:  0.3989604259161492 , Y grad GP:  tensor([-1.5829,  0.6489], dtype=torch.float64, grad_fn=<MulBackward0>) , Y grad query:  tensor([-1.2819,  0.6063])\n",
            "\n",
            "Branin, Trial: 3, Iteration: 7\n",
            "EI, Best value: 0.7158022134875868, X: tensor([[0.5257, 0.1617]], dtype=torch.float64), Y: 0.7158022134875868\n",
            "UCB, Best value: 0.7633536721765566, X: tensor([[0.5244, 0.1625]], dtype=torch.float64), Y: 0.7633536721765566\n",
            "KKT, Best value:  0.3989604259161492 , X:  tensor([[0.3547, 0.3645]], dtype=torch.float64) AF:  tensor(-14.4477, dtype=torch.float64) , Y:  19.114749543007115 , Y grad GP:  tensor([-12.7453,  -0.9521], dtype=torch.float64, grad_fn=<MulBackward0>) , Y grad query:  tensor([-46.9231,  -1.0612])\n",
            "\n",
            "Branin, Trial: 3, Iteration: 8\n",
            "EI, Best value: 0.5266459130077727, X: tensor([[0.5427, 0.1278]], dtype=torch.float64), Y: 0.5266459130077727\n",
            "UCB, Best value: 0.5723905147046651, X: tensor([[0.5442, 0.1229]], dtype=torch.float64), Y: 0.5723905147046651\n",
            "KKT, Best value:  0.39885720515799683 , X:  tensor([[0.5435, 0.1498]], dtype=torch.float64) AF:  tensor(-0.2061, dtype=torch.float64) , Y:  0.39885720515799683 , Y grad GP:  tensor([ 1.0491, -0.5677], dtype=torch.float64, grad_fn=<MulBackward0>) , Y grad query:  tensor([ 1.0793, -0.5804])\n",
            "\n",
            "Branin, Trial: 3, Iteration: 9\n",
            "EI, Best value: 0.5266459130077727, X: tensor([[0.9417, 0.1732]], dtype=torch.float64), Y: 0.9571197465615171\n",
            "UCB, Best value: 0.4101709828536091, X: tensor([[0.5461, 0.1486]], dtype=torch.float64), Y: 0.4101709828536091\n"
          ]
        },
        {
          "output_type": "stream",
          "name": "stderr",
          "text": [
            "/usr/local/lib/python3.10/dist-packages/botorch/optim/optimize.py:369: RuntimeWarning: Optimization failed in `gen_candidates_scipy` with the following warning(s):\n",
            "[OptimizationWarning('Optimization failed within `scipy.optimize.minimize` with status 2 and message ABNORMAL_TERMINATION_IN_LNSRCH.')]\n",
            "Trying again with a new set of initial conditions.\n",
            "  warnings.warn(first_warn_msg, RuntimeWarning)\n",
            "/usr/local/lib/python3.10/dist-packages/botorch/optim/optimize.py:393: RuntimeWarning: Optimization failed on the second try, after generating a new set of initial conditions.\n",
            "  warnings.warn(\n"
          ]
        },
        {
          "output_type": "stream",
          "name": "stdout",
          "text": [
            "KKT, Best value:  0.3986552537546242 , X:  tensor([[0.5435, 0.1501]], dtype=torch.float64) AF:  tensor(-0.2371, dtype=torch.float64) , Y:  0.3986552537546242 , Y grad GP:  tensor([ 1.0737, -0.4410], dtype=torch.float64, grad_fn=<MulBackward0>) , Y grad query:  tensor([ 1.1042, -0.4519])\n",
            "\n",
            "Branin, Trial: 3, Iteration: 10\n",
            "EI, Best value: 0.5266459130077727, X: tensor([[0., 1.]], dtype=torch.float64), Y: 17.508299515778166\n",
            "UCB, Best value: 0.4101709828536091, X: tensor([[0.5451, 0.1384]], dtype=torch.float64), Y: 0.4333736702784794\n",
            "KKT, Best value:  0.39841979947652817 , X:  tensor([[0.5433, 0.1502]], dtype=torch.float64) AF:  tensor(-0.2532, dtype=torch.float64) , Y:  0.39841979947652817 , Y grad GP:  tensor([ 0.6726, -0.4551], dtype=torch.float64, grad_fn=<MulBackward0>) , Y grad query:  tensor([ 0.6919, -0.4643])\n",
            "\n",
            "Branin, Trial: 3, Iteration: 11\n",
            "EI, Best value: 0.5266459130077727, X: tensor([[0.9790, 0.2385]], dtype=torch.float64), Y: 1.4865664045453642\n",
            "UCB, Best value: 0.4101709828536091, X: tensor([[0.5423, 0.1321]], dtype=torch.float64), Y: 0.4880234318662797\n",
            "KKT, Best value:  0.39841979947652817 , X:  tensor([[0.7610, 0.0722]], dtype=torch.float64) AF:  tensor(-17.5592, dtype=torch.float64) , Y:  19.51844819663087 , Y grad GP:  tensor([-10.5712,  -0.7791], dtype=torch.float64, grad_fn=<MulBackward0>) , Y grad query:  tensor([-18.9097,  -0.6974])\n",
            "\n",
            "Branin, Trial: 3, Iteration: 12\n",
            "EI, Best value: 0.39830223889218175, X: tensor([[0.5434, 0.1516]], dtype=torch.float64), Y: 0.39830223889218175\n",
            "UCB, Best value: 0.40582547335859154, X: tensor([[0.5443, 0.1554]], dtype=torch.float64), Y: 0.40582547335859154\n",
            "KKT, Best value:  0.39841979947652817 , X:  tensor([[1.0000, 0.1875]], dtype=torch.float64) AF:  tensor(15.8443, dtype=torch.float64) , Y:  1.9793431753048694 , Y grad GP:  tensor([-121.3420,   -3.8423], dtype=torch.float64, grad_fn=<MulBackward0>) , Y grad query:  tensor([83.8125, -5.7081])\n",
            "\n",
            "Branin, Trial: 3, Iteration: 13\n",
            "EI, Best value: 0.39830223889218175, X: tensor([[0.0000, 0.7566]], dtype=torch.float64), Y: 46.80483557659947\n",
            "UCB, Best value: 0.40280635460074166, X: tensor([[0.5445, 0.1530]], dtype=torch.float64), Y: 0.40280635460074166\n",
            "KKT, Best value:  0.39841979947652817 , X:  tensor([[0.9699, 0.1702]], dtype=torch.float64) AF:  tensor(0.2587, dtype=torch.float64) , Y:  0.4720033135678179 , Y grad GP:  tensor([-4.8436, -0.8239], dtype=torch.float64, grad_fn=<MulBackward0>) , Y grad query:  tensor([18.5302, -0.8684])\n",
            "\n",
            "Branin, Trial: 3, Iteration: 14\n",
            "EI, Best value: 0.39830223889218175, X: tensor([[0.5465, 0.1446]], dtype=torch.float64), Y: 0.4166201584987661\n",
            "UCB, Best value: 0.40280635460074166, X: tensor([[0.5452, 0.1416]], dtype=torch.float64), Y: 0.4192717838201183\n",
            "KKT, Best value:  0.3981039034502256 , X:  tensor([[0.5426, 0.1508]], dtype=torch.float64) AF:  tensor(-0.2748, dtype=torch.float64) , Y:  0.3981039034502256 , Y grad GP:  tensor([-0.7125, -0.4126], dtype=torch.float64, grad_fn=<MulBackward0>) , Y grad query:  tensor([-0.6965, -0.4194])\n",
            "\n",
            "Branin, Trial: 3, Iteration: 15\n",
            "EI, Best value: 0.39830223889218175, X: tensor([[0.9633, 0.1888]], dtype=torch.float64), Y: 0.5138445791947976\n",
            "UCB, Best value: 0.40105165026508516, X: tensor([[0.5436, 0.1543]], dtype=torch.float64), Y: 0.40105165026508516\n",
            "KKT, Best value:  0.3981039034502256 , X:  tensor([[0.9594, 0.1615]], dtype=torch.float64) AF:  tensor(0.0838, dtype=torch.float64) , Y:  0.403903071330026 , Y grad GP:  tensor([-3.2870, -0.7125], dtype=torch.float64, grad_fn=<MulBackward0>) , Y grad query:  tensor([-4.1739, -0.7080])\n",
            "\n",
            "Branin, Trial: 3, Iteration: 16\n",
            "EI, Best value: 0.39830223889218175, X: tensor([[0.5438, 0.1329]], dtype=torch.float64), Y: 0.4712332581648795\n",
            "UCB, Best value: 0.40105165026508516, X: tensor([[0.5438, 0.1380]], dtype=torch.float64), Y: 0.4365568819048953\n",
            "KKT, Best value:  0.3981039034502256 , X:  tensor([[0.5432, 0.1506]], dtype=torch.float64) AF:  tensor(-0.2878, dtype=torch.float64) , Y:  0.3981914055107296 , Y grad GP:  tensor([ 0.4451, -0.3636], dtype=torch.float64, grad_fn=<MulBackward0>) , Y grad query:  tensor([ 0.4700, -0.3636])\n",
            "\n",
            "Branin, Trial: 3, Iteration: 17\n",
            "EI, Best value: 0.39830223889218175, X: tensor([[0.5437, 0.1650]], dtype=torch.float64), Y: 0.4433722838079479\n",
            "UCB, Best value: 0.40105165026508516, X: tensor([[0.5431, 0.1556]], dtype=torch.float64), Y: 0.4020733748514136\n",
            "KKT, Best value:  0.3981039034502256 , X:  tensor([[0.9606, 0.1628]], dtype=torch.float64) AF:  tensor(-0.1532, dtype=torch.float64) , Y:  0.39947436318186647 , Y grad GP:  tensor([-1.5493, -0.6048], dtype=torch.float64, grad_fn=<MulBackward0>) , Y grad query:  tensor([-1.7078, -0.5864])\n",
            "\n",
            "Branin, Trial: 3, Iteration: 18\n",
            "EI, Best value: 0.39830223889218175, X: tensor([[0.5452, 0.1456]], dtype=torch.float64), Y: 0.40813498231669065\n",
            "UCB, Best value: 0.40105165026508516, X: tensor([[0.5442, 0.1397]], dtype=torch.float64), Y: 0.4266576819087611\n"
          ]
        },
        {
          "output_type": "stream",
          "name": "stderr",
          "text": [
            "/usr/local/lib/python3.10/dist-packages/botorch/optim/fit.py:130: OptimizationWarning: `scipy_minimize` terminated with status 3, displaying original message from `scipy.optimize.minimize`: ABNORMAL_TERMINATION_IN_LNSRCH\n",
            "  warn(\n",
            "/usr/local/lib/python3.10/dist-packages/botorch/optim/fit.py:130: OptimizationWarning: `scipy_minimize` terminated with status 3, displaying original message from `scipy.optimize.minimize`: ABNORMAL_TERMINATION_IN_LNSRCH\n",
            "  warn(\n",
            "/usr/local/lib/python3.10/dist-packages/botorch/optim/fit.py:130: OptimizationWarning: `scipy_minimize` terminated with status 3, displaying original message from `scipy.optimize.minimize`: ABNORMAL_TERMINATION_IN_LNSRCH\n",
            "  warn(\n",
            "/usr/local/lib/python3.10/dist-packages/botorch/optim/fit.py:130: OptimizationWarning: `scipy_minimize` terminated with status 3, displaying original message from `scipy.optimize.minimize`: ABNORMAL_TERMINATION_IN_LNSRCH\n",
            "  warn(\n",
            "/usr/local/lib/python3.10/dist-packages/botorch/optim/fit.py:130: OptimizationWarning: `scipy_minimize` terminated with status 3, displaying original message from `scipy.optimize.minimize`: ABNORMAL_TERMINATION_IN_LNSRCH\n",
            "  warn(\n",
            "/usr/local/lib/python3.10/dist-packages/botorch/fit.py:171: RuntimeWarning: All attempts to fit the model have failed. For more information, try enabling botorch.settings.debug mode.\n",
            "  warn(str(err), RuntimeWarning)\n",
            "/usr/local/lib/python3.10/dist-packages/botorch/optim/optimize.py:369: RuntimeWarning: Optimization failed in `gen_candidates_scipy` with the following warning(s):\n",
            "[OptimizationWarning('Optimization failed within `scipy.optimize.minimize` with status 2 and message ABNORMAL_TERMINATION_IN_LNSRCH.')]\n",
            "Trying again with a new set of initial conditions.\n",
            "  warnings.warn(first_warn_msg, RuntimeWarning)\n",
            "/usr/local/lib/python3.10/dist-packages/botorch/optim/optimize.py:393: RuntimeWarning: Optimization failed on the second try, after generating a new set of initial conditions.\n",
            "  warnings.warn(\n"
          ]
        },
        {
          "output_type": "stream",
          "name": "stdout",
          "text": [
            "KKT, Best value:  0.3981039034502256 , X:  tensor([[0.5428, 0.1499]], dtype=torch.float64) AF:  tensor(-0.2775, dtype=torch.float64) , Y:  0.39856344925290976 , Y grad GP:  tensor([-0.6061, -0.8442], dtype=torch.float64, grad_fn=<MulBackward0>) , Y grad query:  tensor([-0.6084, -0.7794])\n",
            "\n",
            "Branin, Trial: 3, Iteration: 19\n",
            "EI, Best value: 0.39830223889218175, X: tensor([[0.5448, 0.1457]], dtype=torch.float64), Y: 0.4067340424264856\n",
            "UCB, Best value: 0.40105165026508516, X: tensor([[0.5428, 0.1561]], dtype=torch.float64), Y: 0.40232166502316247\n"
          ]
        },
        {
          "output_type": "stream",
          "name": "stderr",
          "text": [
            "/usr/local/lib/python3.10/dist-packages/botorch/optim/optimize.py:369: RuntimeWarning: Optimization failed in `gen_candidates_scipy` with the following warning(s):\n",
            "[OptimizationWarning('Optimization failed within `scipy.optimize.minimize` with status 2 and message ABNORMAL_TERMINATION_IN_LNSRCH.')]\n",
            "Trying again with a new set of initial conditions.\n",
            "  warnings.warn(first_warn_msg, RuntimeWarning)\n"
          ]
        },
        {
          "output_type": "stream",
          "name": "stdout",
          "text": [
            "KKT, Best value:  0.3981039034502256 , X:  tensor([[0.9609, 0.1633]], dtype=torch.float64) AF:  tensor(-0.2155, dtype=torch.float64) , Y:  0.3987897443455317 , Y grad GP:  tensor([-1.0990, -0.5292], dtype=torch.float64, grad_fn=<MulBackward0>) , Y grad query:  tensor([-1.1794, -0.4839])\n",
            "\n",
            "Branin, Trial: 3, Iteration: 20\n",
            "EI, Best value: 0.39830223889218175, X: tensor([[0.4690, 0.2805]], dtype=torch.float64), Y: 6.530935176131134\n",
            "UCB, Best value: 0.40105165026508516, X: tensor([[0.5447, 0.1409]], dtype=torch.float64), Y: 0.4211326720519786\n",
            "KKT, Best value:  0.3981039034502256 , X:  tensor([[0.9610, 0.1635]], dtype=torch.float64) AF:  tensor(-0.2457, dtype=torch.float64) , Y:  0.398584275907762 , Y grad GP:  tensor([-0.9523, -0.4688], dtype=torch.float64, grad_fn=<MulBackward0>) , Y grad query:  tensor([-1.0055, -0.4350])\n",
            "\n",
            "Branin, Trial: 3, Iteration: 21\n",
            "EI, Best value: 0.39830223889218175, X: tensor([[0.5449, 0.1439]], dtype=torch.float64), Y: 0.41143348472562913\n",
            "UCB, Best value: 0.40105165026508516, X: tensor([[0.5425, 0.1563]], dtype=torch.float64), Y: 0.4023664680889105\n"
          ]
        },
        {
          "output_type": "stream",
          "name": "stderr",
          "text": [
            "/usr/local/lib/python3.10/dist-packages/botorch/optim/optimize.py:369: RuntimeWarning: Optimization failed in `gen_candidates_scipy` with the following warning(s):\n",
            "[OptimizationWarning('Optimization failed within `scipy.optimize.minimize` with status 2 and message ABNORMAL_TERMINATION_IN_LNSRCH.')]\n",
            "Trying again with a new set of initial conditions.\n",
            "  warnings.warn(first_warn_msg, RuntimeWarning)\n"
          ]
        },
        {
          "output_type": "stream",
          "name": "stdout",
          "text": [
            "KKT, Best value:  0.3981039034502256 , X:  tensor([[0.9611, 0.1636]], dtype=torch.float64) AF:  tensor(-0.2653, dtype=torch.float64) , Y:  0.39842349740112937 , Y grad GP:  tensor([-0.7603, -0.4137], dtype=torch.float64, grad_fn=<MulBackward0>) , Y grad query:  tensor([-0.7963, -0.4138])\n",
            "\n",
            "Branin, Trial: 3, Iteration: 22\n",
            "EI, Best value: 0.39830223889218175, X: tensor([[0.5448, 0.1442]], dtype=torch.float64), Y: 0.4100242735068065\n",
            "UCB, Best value: 0.40105165026508516, X: tensor([[0.5425, 0.1418]], dtype=torch.float64), Y: 0.4205211615432578\n",
            "KKT, Best value:  0.398099358479179 , X:  tensor([[0.5431, 0.1507]], dtype=torch.float64) AF:  tensor(-0.3091, dtype=torch.float64) , Y:  0.398099358479179 , Y grad GP:  tensor([ 0.3497, -0.3045], dtype=torch.float64, grad_fn=<MulBackward0>) , Y grad query:  tensor([ 0.3696, -0.3076])\n",
            "\n",
            "Branin, Trial: 3, Iteration: 23\n",
            "EI, Best value: 0.39830223889218175, X: tensor([[0.5446, 0.1446]], dtype=torch.float64), Y: 0.4087547629969084\n",
            "UCB, Best value: 0.40105165026508516, X: tensor([[0.5430, 0.1556]], dtype=torch.float64), Y: 0.40172411805674635\n"
          ]
        },
        {
          "output_type": "stream",
          "name": "stderr",
          "text": [
            "/usr/local/lib/python3.10/dist-packages/botorch/optim/optimize.py:369: RuntimeWarning: Optimization failed in `gen_candidates_scipy` with the following warning(s):\n",
            "[OptimizationWarning('Optimization failed within `scipy.optimize.minimize` with status 2 and message ABNORMAL_TERMINATION_IN_LNSRCH.')]\n",
            "Trying again with a new set of initial conditions.\n",
            "  warnings.warn(first_warn_msg, RuntimeWarning)\n",
            "/usr/local/lib/python3.10/dist-packages/botorch/optim/optimize.py:393: RuntimeWarning: Optimization failed on the second try, after generating a new set of initial conditions.\n",
            "  warnings.warn(\n"
          ]
        },
        {
          "output_type": "stream",
          "name": "stdout",
          "text": [
            "KKT, Best value:  0.3979292148732707 , X:  tensor([[0.5426, 0.1516]], dtype=torch.float64) AF:  tensor(-0.3209, dtype=torch.float64) , Y:  0.3979292148732707 , Y grad GP:  tensor([-0.5277, -0.1013], dtype=torch.float64, grad_fn=<MulBackward0>) , Y grad query:  tensor([-0.5085, -0.1014])\n",
            "\n",
            "Branin, Trial: 3, Iteration: 24\n",
            "EI, Best value: 0.39830223889218175, X: tensor([[0.5445, 0.1450]], dtype=torch.float64), Y: 0.4074861720634999\n",
            "UCB, Best value: 0.40105165026508516, X: tensor([[0.5468, 0.1439]], dtype=torch.float64), Y: 0.42029558890826735\n"
          ]
        },
        {
          "output_type": "stream",
          "name": "stderr",
          "text": [
            "/usr/local/lib/python3.10/dist-packages/botorch/optim/optimize.py:369: RuntimeWarning: Optimization failed in `gen_candidates_scipy` with the following warning(s):\n",
            "[OptimizationWarning('Optimization failed within `scipy.optimize.minimize` with status 2 and message ABNORMAL_TERMINATION_IN_LNSRCH.')]\n",
            "Trying again with a new set of initial conditions.\n",
            "  warnings.warn(first_warn_msg, RuntimeWarning)\n",
            "/usr/local/lib/python3.10/dist-packages/botorch/optim/optimize.py:393: RuntimeWarning: Optimization failed on the second try, after generating a new set of initial conditions.\n",
            "  warnings.warn(\n"
          ]
        },
        {
          "output_type": "stream",
          "name": "stdout",
          "text": [
            "KKT, Best value:  0.3979292148732707 , X:  tensor([[0.9620, 0.1661]], dtype=torch.float64) AF:  tensor(-0.2901, dtype=torch.float64) , Y:  0.3981533101298673 , Y grad GP:  tensor([0.4718, 0.3693], dtype=torch.float64, grad_fn=<MulBackward0>) , Y grad query:  tensor([0.4721, 0.3663])\n",
            "\n",
            "Branin, Trial: 3, Iteration: 25\n",
            "EI, Best value: 0.39830223889218175, X: tensor([[0.9635, 0.1837]], dtype=torch.float64), Y: 0.4675514241199661\n",
            "UCB, Best value: 0.40105165026508516, X: tensor([[0.5413, 0.1565]], dtype=torch.float64), Y: 0.4033033201982228\n",
            "KKT, Best value:  0.3979292148732707 , X:  tensor([[0.9612, 0.1639]], dtype=torch.float64) AF:  tensor(-0.2897, dtype=torch.float64) , Y:  0.3982094724396603 , Y grad GP:  tensor([-0.6123, -0.3050], dtype=torch.float64, grad_fn=<MulBackward0>) , Y grad query:  tensor([-0.6381, -0.3051])\n",
            "\n",
            "Branin, Trial: 3, Iteration: 26\n",
            "EI, Best value: 0.39830223889218175, X: tensor([[0.5446, 0.1475]], dtype=torch.float64), Y: 0.40312204194182044\n",
            "UCB, Best value: 0.40105165026508516, X: tensor([[0.5408, 0.1441]], dtype=torch.float64), Y: 0.4208846160483297\n",
            "KKT, Best value:  0.3979292148732707 , X:  tensor([[0.5427, 0.1511]], dtype=torch.float64) AF:  tensor(-0.3207, dtype=torch.float64) , Y:  0.3979672380477819 , Y grad GP:  tensor([-0.4295, -0.2598], dtype=torch.float64, grad_fn=<MulBackward0>) , Y grad query:  tensor([-0.4177, -0.2595])\n",
            "\n",
            "Branin, Trial: 3, Iteration: 27\n",
            "EI, Best value: 0.39830223889218175, X: tensor([[0.5439, 0.1423]], dtype=torch.float64), Y: 0.4153327061499432\n",
            "UCB, Best value: 0.40105165026508516, X: tensor([[0.5469, 0.1450]], dtype=torch.float64), Y: 0.41878173994945556\n",
            "KKT, Best value:  0.3979292148732707 , X:  tensor([[0.9614, 0.1650]], dtype=torch.float64) AF:  tensor(-0.3054, dtype=torch.float64) , Y:  0.39796547340167265 , Y grad GP:  tensor([-0.5249,  0.0862], dtype=torch.float64, grad_fn=<MulBackward0>) , Y grad query:  tensor([-0.5465,  0.0855])\n",
            "\n",
            "Branin, Trial: 3, Iteration: 28\n",
            "EI, Best value: 0.39830223889218175, X: tensor([[0.5444, 0.1542]], dtype=torch.float64), Y: 0.4041592852902731\n",
            "UCB, Best value: 0.40105165026508516, X: tensor([[0.5414, 0.1567]], dtype=torch.float64), Y: 0.40357400141260946\n"
          ]
        },
        {
          "output_type": "stream",
          "name": "stderr",
          "text": [
            "/usr/local/lib/python3.10/dist-packages/botorch/optim/optimize.py:369: RuntimeWarning: Optimization failed in `gen_candidates_scipy` with the following warning(s):\n",
            "[OptimizationWarning('Optimization failed within `scipy.optimize.minimize` with status 2 and message ABNORMAL_TERMINATION_IN_LNSRCH.')]\n",
            "Trying again with a new set of initial conditions.\n",
            "  warnings.warn(first_warn_msg, RuntimeWarning)\n",
            "/usr/local/lib/python3.10/dist-packages/botorch/optim/optimize.py:393: RuntimeWarning: Optimization failed on the second try, after generating a new set of initial conditions.\n",
            "  warnings.warn(\n"
          ]
        },
        {
          "output_type": "stream",
          "name": "stdout",
          "text": [
            "KKT, Best value:  0.3979292148732707 , X:  tensor([[0.7519, 0.0745]], dtype=torch.float64) AF:  tensor(-19.2808, dtype=torch.float64) , Y:  19.602302505831886 , Y grad GP:  tensor([0.7916, 0.4783], dtype=torch.float64, grad_fn=<MulBackward0>) , Y grad query:  tensor([0.6921, 0.5247])\n",
            "\n",
            "Branin, Trial: 3, Iteration: 29\n",
            "EI, Best value: 0.39830223889218175, X: tensor([[0.5438, 0.1423]], dtype=torch.float64), Y: 0.4155871748059621\n",
            "UCB, Best value: 0.40105165026508516, X: tensor([[0.5407, 0.1449]], dtype=torch.float64), Y: 0.4182602873272945\n"
          ]
        },
        {
          "output_type": "stream",
          "name": "stderr",
          "text": [
            "/usr/local/lib/python3.10/dist-packages/botorch/optim/optimize.py:369: RuntimeWarning: Optimization failed in `gen_candidates_scipy` with the following warning(s):\n",
            "[OptimizationWarning('Optimization failed within `scipy.optimize.minimize` with status 2 and message ABNORMAL_TERMINATION_IN_LNSRCH.')]\n",
            "Trying again with a new set of initial conditions.\n",
            "  warnings.warn(first_warn_msg, RuntimeWarning)\n",
            "/usr/local/lib/python3.10/dist-packages/botorch/optim/optimize.py:393: RuntimeWarning: Optimization failed on the second try, after generating a new set of initial conditions.\n",
            "  warnings.warn(\n"
          ]
        },
        {
          "output_type": "stream",
          "name": "stdout",
          "text": [
            "KKT, Best value:  0.3979292148732707 , X:  tensor([[0.9614, 0.1643]], dtype=torch.float64) AF:  tensor(-0.3085, dtype=torch.float64) , Y:  0.3980135280342054 , Y grad GP:  tensor([-0.2069, -0.2467], dtype=torch.float64, grad_fn=<MulBackward0>) , Y grad query:  tensor([-0.2165, -0.2477])\n",
            "\n",
            "Branin, Trial: 3, Iteration: 30\n",
            "EI, Best value: 0.39830223889218175, X: tensor([[0.5443, 0.1537]], dtype=torch.float64), Y: 0.40285111531725093\n",
            "UCB, Best value: 0.40105165026508516, X: tensor([[0.5468, 0.1454]], dtype=torch.float64), Y: 0.4177844413209506\n"
          ]
        },
        {
          "output_type": "stream",
          "name": "stderr",
          "text": [
            "/usr/local/lib/python3.10/dist-packages/botorch/optim/optimize.py:369: RuntimeWarning: Optimization failed in `gen_candidates_scipy` with the following warning(s):\n",
            "[OptimizationWarning('Optimization failed within `scipy.optimize.minimize` with status 2 and message ABNORMAL_TERMINATION_IN_LNSRCH.')]\n",
            "Trying again with a new set of initial conditions.\n",
            "  warnings.warn(first_warn_msg, RuntimeWarning)\n",
            "/usr/local/lib/python3.10/dist-packages/botorch/optim/optimize.py:393: RuntimeWarning: Optimization failed on the second try, after generating a new set of initial conditions.\n",
            "  warnings.warn(\n"
          ]
        },
        {
          "output_type": "stream",
          "name": "stdout",
          "text": [
            "KKT, Best value:  0.397911754570508 , X:  tensor([[0.9616, 0.1647]], dtype=torch.float64) AF:  tensor(-0.3176, dtype=torch.float64) , Y:  0.397911754570508 , Y grad GP:  tensor([-0.0121, -0.1216], dtype=torch.float64, grad_fn=<MulBackward0>) , Y grad query:  tensor([-0.0164, -0.1196])\n",
            "\n",
            "Branin, Trial: 4, Iteration: 1\n",
            "EI, Best value: 3.5451956715421797, X: tensor([[0.8280, 0.0393]], dtype=torch.float64), Y: 14.544375155847863\n",
            "UCB, Best value: 3.5451956715421797, X: tensor([[0.8178, 0.0395]], dtype=torch.float64), Y: 15.757490825890113\n"
          ]
        },
        {
          "output_type": "stream",
          "name": "stderr",
          "text": [
            "/usr/local/lib/python3.10/dist-packages/botorch/optim/optimize.py:369: RuntimeWarning: Optimization failed in `gen_candidates_scipy` with the following warning(s):\n",
            "[OptimizationWarning('Optimization failed within `scipy.optimize.minimize` with status 2 and message ABNORMAL_TERMINATION_IN_LNSRCH.')]\n",
            "Trying again with a new set of initial conditions.\n",
            "  warnings.warn(first_warn_msg, RuntimeWarning)\n",
            "/usr/local/lib/python3.10/dist-packages/botorch/optim/optimize.py:393: RuntimeWarning: Optimization failed on the second try, after generating a new set of initial conditions.\n",
            "  warnings.warn(\n"
          ]
        },
        {
          "output_type": "stream",
          "name": "stdout",
          "text": [
            "KKT, Best value:  3.5451956715421797 , X:  tensor([[0.7992, 0.0741]], dtype=torch.float64) AF:  tensor(11.5902, dtype=torch.float64) , Y:  17.324295012045003 , Y grad GP:  tensor([-66.6259,  -2.3043], dtype=torch.float64, grad_fn=<MulBackward0>) , Y grad query:  tensor([-92.3916,  -2.2368])\n",
            "\n",
            "Branin, Trial: 4, Iteration: 2\n",
            "EI, Best value: 3.5451956715421797, X: tensor([[0.4819, 0.0000]], dtype=torch.float64), Y: 13.717010143365076\n",
            "UCB, Best value: 3.5451956715421797, X: tensor([[0.4862, 0.0000]], dtype=torch.float64), Y: 12.835663795657187\n",
            "KKT, Best value:  0.526551964582044 , X:  tensor([[0.5536, 0.1406]], dtype=torch.float64) AF:  tensor(1.2923, dtype=torch.float64) , Y:  0.526551964582044 , Y grad GP:  tensor([45.5414, -1.2159], dtype=torch.float64, grad_fn=<MulBackward0>) , Y grad query:  tensor([22.2558, -1.2618])\n",
            "\n",
            "Branin, Trial: 4, Iteration: 3\n",
            "EI, Best value: 3.5451956715421797, X: tensor([[0.6584, 0.0000]], dtype=torch.float64), Y: 13.280905506542165\n",
            "UCB, Best value: 3.5451956715421797, X: tensor([[0.6523, 0.0000]], dtype=torch.float64), Y: 12.49796729908698\n"
          ]
        },
        {
          "output_type": "stream",
          "name": "stderr",
          "text": [
            "/usr/local/lib/python3.10/dist-packages/botorch/optim/optimize.py:369: RuntimeWarning: Optimization failed in `gen_candidates_scipy` with the following warning(s):\n",
            "[OptimizationWarning('Optimization failed within `scipy.optimize.minimize` with status 2 and message ABNORMAL_TERMINATION_IN_LNSRCH.')]\n",
            "Trying again with a new set of initial conditions.\n",
            "  warnings.warn(first_warn_msg, RuntimeWarning)\n"
          ]
        },
        {
          "output_type": "stream",
          "name": "stdout",
          "text": [
            "KKT, Best value:  0.526551964582044 , X:  tensor([[0.4546, 0.2371]], dtype=torch.float64) AF:  tensor(-1.0123, dtype=torch.float64) , Y:  7.637759769736622 , Y grad GP:  tensor([-60.6022,   0.8475], dtype=torch.float64, grad_fn=<MulBackward0>) , Y grad query:  tensor([-138.3536,    0.7349])\n",
            "\n",
            "Branin, Trial: 4, Iteration: 4\n",
            "EI, Best value: 3.5451956715421797, X: tensor([[0.6224, 0.1103]], dtype=torch.float64), Y: 6.4934756843081995\n",
            "UCB, Best value: 3.5451956715421797, X: tensor([[0.6318, 0.1264]], dtype=torch.float64), Y: 7.948432530982778\n",
            "KKT, Best value:  0.4050344011481197 , X:  tensor([[0.5452, 0.1479]], dtype=torch.float64) AF:  tensor(0.1118, dtype=torch.float64) , Y:  0.4050344011481197 , Y grad GP:  tensor([ 4.6489, -0.8317], dtype=torch.float64, grad_fn=<MulBackward0>) , Y grad query:  tensor([ 4.4977, -0.8471])\n",
            "\n",
            "Branin, Trial: 4, Iteration: 5\n",
            "EI, Best value: 2.4325233613462016, X: tensor([[1.0000, 0.1536]], dtype=torch.float64), Y: 2.4325233613462016\n",
            "UCB, Best value: 2.3153583015261026, X: tensor([[1.0000, 0.1595]], dtype=torch.float64), Y: 2.3153583015261026\n",
            "KKT, Best value:  0.4003267459096822 , X:  tensor([[0.5414, 0.1543]], dtype=torch.float64) AF:  tensor(-0.0909, dtype=torch.float64) , Y:  0.4003267459096822 , Y grad GP:  tensor([-2.4894,  0.7165], dtype=torch.float64, grad_fn=<MulBackward0>) , Y grad query:  tensor([-2.3743,  0.6976])\n",
            "\n",
            "Branin, Trial: 4, Iteration: 6\n",
            "EI, Best value: 2.4325233613462016, X: tensor([[1., 0.]], dtype=torch.float64), Y: 10.960889035651505\n",
            "UCB, Best value: 2.3153583015261026, X: tensor([[1.0000, 0.0035]], dtype=torch.float64), Y: 10.650008302391402\n"
          ]
        },
        {
          "output_type": "stream",
          "name": "stderr",
          "text": [
            "/usr/local/lib/python3.10/dist-packages/botorch/optim/optimize.py:369: RuntimeWarning: Optimization failed in `gen_candidates_scipy` with the following warning(s):\n",
            "[OptimizationWarning('Optimization failed within `scipy.optimize.minimize` with status 2 and message ABNORMAL_TERMINATION_IN_LNSRCH.')]\n",
            "Trying again with a new set of initial conditions.\n",
            "  warnings.warn(first_warn_msg, RuntimeWarning)\n"
          ]
        },
        {
          "output_type": "stream",
          "name": "stdout",
          "text": [
            "KKT, Best value:  0.39909265319554166 , X:  tensor([[0.5436, 0.1497]], dtype=torch.float64) AF:  tensor(-0.1551, dtype=torch.float64) , Y:  0.39909265319554166 , Y grad GP:  tensor([ 1.4269, -0.5753], dtype=torch.float64, grad_fn=<MulBackward0>) , Y grad query:  tensor([ 1.3593, -0.5849])\n",
            "\n",
            "Branin, Trial: 4, Iteration: 7\n",
            "EI, Best value: 0.7158314121948361, X: tensor([[0.5257, 0.1617]], dtype=torch.float64), Y: 0.7158314121948361\n",
            "UCB, Best value: 0.7633498634853186, X: tensor([[0.5244, 0.1625]], dtype=torch.float64), Y: 0.7633498634853186\n"
          ]
        },
        {
          "output_type": "stream",
          "name": "stderr",
          "text": [
            "/usr/local/lib/python3.10/dist-packages/botorch/optim/optimize.py:369: RuntimeWarning: Optimization failed in `gen_candidates_scipy` with the following warning(s):\n",
            "[OptimizationWarning('Optimization failed within `scipy.optimize.minimize` with status 2 and message ABNORMAL_TERMINATION_IN_LNSRCH.')]\n",
            "Trying again with a new set of initial conditions.\n",
            "  warnings.warn(first_warn_msg, RuntimeWarning)\n"
          ]
        },
        {
          "output_type": "stream",
          "name": "stdout",
          "text": [
            "KKT, Best value:  0.39909265319554166 , X:  tensor([[0.7485, 0.0756]], dtype=torch.float64) AF:  tensor(-11.7936, dtype=torch.float64) , Y:  19.5882268236932 , Y grad GP:  tensor([20.7435,  0.9880], dtype=torch.float64, grad_fn=<MulBackward0>) , Y grad query:  tensor([8.0444, 1.0730])\n",
            "\n",
            "Branin, Trial: 4, Iteration: 8\n",
            "EI, Best value: 0.5266322245897506, X: tensor([[0.5427, 0.1278]], dtype=torch.float64), Y: 0.5266322245897506\n",
            "UCB, Best value: 0.5724287591227011, X: tensor([[0.5442, 0.1229]], dtype=torch.float64), Y: 0.5724287591227011\n",
            "KKT, Best value:  0.39909265319554166 , X:  tensor([[0.3562, 0.3665]], dtype=torch.float64) AF:  tensor(-16.4107, dtype=torch.float64) , Y:  19.044232785373147 , Y grad GP:  tensor([-30.9011,   0.9192], dtype=torch.float64, grad_fn=<MulBackward0>) , Y grad query:  tensor([-47.1251,   0.8219])\n",
            "\n",
            "Branin, Trial: 4, Iteration: 9\n",
            "EI, Best value: 0.5266322245897506, X: tensor([[0.9417, 0.1732]], dtype=torch.float64), Y: 0.9570808928428214\n",
            "UCB, Best value: 0.41016646109119037, X: tensor([[0.5461, 0.1486]], dtype=torch.float64), Y: 0.41016646109119037\n",
            "KKT, Best value:  0.3983032434943681 , X:  tensor([[0.5430, 0.1502]], dtype=torch.float64) AF:  tensor(-0.1951, dtype=torch.float64) , Y:  0.3983032434943681 , Y grad GP:  tensor([ 0.1048, -0.5453], dtype=torch.float64, grad_fn=<MulBackward0>) , Y grad query:  tensor([ 0.0609, -0.5552])\n",
            "\n",
            "Branin, Trial: 4, Iteration: 10\n",
            "EI, Best value: 0.5266322245897506, X: tensor([[0., 1.]], dtype=torch.float64), Y: 17.508299515778166\n",
            "UCB, Best value: 0.41016646109119037, X: tensor([[0.5451, 0.1384]], dtype=torch.float64), Y: 0.4333304742227746\n",
            "KKT, Best value:  0.3981684788838198 , X:  tensor([[0.5428, 0.1505]], dtype=torch.float64) AF:  tensor(-0.2238, dtype=torch.float64) , Y:  0.3981684788838198 , Y grad GP:  tensor([-0.2744, -0.4909], dtype=torch.float64, grad_fn=<MulBackward0>) , Y grad query:  tensor([-0.3064, -0.4983])\n",
            "\n",
            "Branin, Trial: 4, Iteration: 11\n",
            "EI, Best value: 0.5266322245897506, X: tensor([[0.9790, 0.2385]], dtype=torch.float64), Y: 1.48619526201737\n",
            "UCB, Best value: 0.41016646109119037, X: tensor([[0.5423, 0.1321]], dtype=torch.float64), Y: 0.48806481193996554\n"
          ]
        },
        {
          "output_type": "stream",
          "name": "stderr",
          "text": [
            "/usr/local/lib/python3.10/dist-packages/botorch/optim/optimize.py:369: RuntimeWarning: Optimization failed in `gen_candidates_scipy` with the following warning(s):\n",
            "[OptimizationWarning('Optimization failed within `scipy.optimize.minimize` with status 2 and message ABNORMAL_TERMINATION_IN_LNSRCH.')]\n",
            "Trying again with a new set of initial conditions.\n",
            "  warnings.warn(first_warn_msg, RuntimeWarning)\n"
          ]
        },
        {
          "output_type": "stream",
          "name": "stdout",
          "text": [
            "KKT, Best value:  0.3981684788838198 , X:  tensor([[0.7535, 0.0726]], dtype=torch.float64) AF:  tensor(-19.2166, dtype=torch.float64) , Y:  19.60049609608501 , Y grad GP:  tensor([-2.2560, -0.3840], dtype=torch.float64, grad_fn=<MulBackward0>) , Y grad query:  tensor([-2.7189, -0.3383])\n",
            "\n",
            "Branin, Trial: 4, Iteration: 12\n",
            "EI, Best value: 0.4081369104674053, X: tensor([[0.5455, 0.1463]], dtype=torch.float64), Y: 0.4081369104674053\n",
            "UCB, Best value: 0.4058216500586731, X: tensor([[0.5443, 0.1554]], dtype=torch.float64), Y: 0.4058216500586731\n"
          ]
        },
        {
          "output_type": "stream",
          "name": "stderr",
          "text": [
            "/usr/local/lib/python3.10/dist-packages/botorch/optim/optimize.py:369: RuntimeWarning: Optimization failed in `gen_candidates_scipy` with the following warning(s):\n",
            "[OptimizationWarning('Optimization failed within `scipy.optimize.minimize` with status 2 and message ABNORMAL_TERMINATION_IN_LNSRCH.')]\n",
            "Trying again with a new set of initial conditions.\n",
            "  warnings.warn(first_warn_msg, RuntimeWarning)\n",
            "/usr/local/lib/python3.10/dist-packages/botorch/optim/optimize.py:393: RuntimeWarning: Optimization failed on the second try, after generating a new set of initial conditions.\n",
            "  warnings.warn(\n"
          ]
        },
        {
          "output_type": "stream",
          "name": "stdout",
          "text": [
            "KKT, Best value:  0.3981684788838198 , X:  tensor([[0.5423, 0.1526]], dtype=torch.float64) AF:  tensor(-0.2731, dtype=torch.float64) , Y:  0.3982209825338394 , Y grad GP:  tensor([-0.9398,  0.2586], dtype=torch.float64, grad_fn=<MulBackward0>) , Y grad query:  tensor([-0.9367,  0.2502])\n",
            "\n",
            "Branin, Trial: 4, Iteration: 13\n",
            "EI, Best value: 0.4081369104674053, X: tensor([[0.0000, 0.7567]], dtype=torch.float64), Y: 46.78637222657019\n",
            "UCB, Best value: 0.4028059036574039, X: tensor([[0.5445, 0.1530]], dtype=torch.float64), Y: 0.4028059036574039\n"
          ]
        },
        {
          "output_type": "stream",
          "name": "stderr",
          "text": [
            "/usr/local/lib/python3.10/dist-packages/botorch/optim/optimize.py:369: RuntimeWarning: Optimization failed in `gen_candidates_scipy` with the following warning(s):\n",
            "[OptimizationWarning('Optimization failed within `scipy.optimize.minimize` with status 2 and message ABNORMAL_TERMINATION_IN_LNSRCH.')]\n",
            "Trying again with a new set of initial conditions.\n",
            "  warnings.warn(first_warn_msg, RuntimeWarning)\n",
            "/usr/local/lib/python3.10/dist-packages/botorch/optim/optimize.py:393: RuntimeWarning: Optimization failed on the second try, after generating a new set of initial conditions.\n",
            "  warnings.warn(\n"
          ]
        },
        {
          "output_type": "stream",
          "name": "stdout",
          "text": [
            "KKT, Best value:  0.3981684788838198 , X:  tensor([[0.5432, 0.1504]], dtype=torch.float64) AF:  tensor(-0.2646, dtype=torch.float64) , Y:  0.3982579895883056 , Y grad GP:  tensor([ 0.5312, -0.4000], dtype=torch.float64, grad_fn=<MulBackward0>) , Y grad query:  tensor([ 0.5140, -0.4056])\n",
            "\n",
            "Branin, Trial: 4, Iteration: 14\n",
            "EI, Best value: 0.4081369104674053, X: tensor([[0.5453, 0.1593]], dtype=torch.float64), Y: 0.4252414351106406\n",
            "UCB, Best value: 0.4028059036574039, X: tensor([[0.5452, 0.1416]], dtype=torch.float64), Y: 0.41932001037084277\n",
            "KKT, Best value:  0.3981684788838198 , X:  tensor([[0.5423, 0.1528]], dtype=torch.float64) AF:  tensor(-0.2991, dtype=torch.float64) , Y:  0.3982539462125647 , Y grad GP:  tensor([-0.7548,  0.3746], dtype=torch.float64, grad_fn=<MulBackward0>) , Y grad query:  tensor([-0.7438,  0.3678])\n",
            "\n",
            "Branin, Trial: 4, Iteration: 15\n",
            "EI, Best value: 0.4081369104674053, X: tensor([[0.5450, 0.1383]], dtype=torch.float64), Y: 0.4335471452071502\n",
            "UCB, Best value: 0.40105840912805313, X: tensor([[0.5436, 0.1543]], dtype=torch.float64), Y: 0.40105840912805313\n"
          ]
        },
        {
          "output_type": "stream",
          "name": "stderr",
          "text": [
            "/usr/local/lib/python3.10/dist-packages/botorch/optim/optimize.py:369: RuntimeWarning: Optimization failed in `gen_candidates_scipy` with the following warning(s):\n",
            "[OptimizationWarning('Optimization failed within `scipy.optimize.minimize` with status 2 and message ABNORMAL_TERMINATION_IN_LNSRCH.')]\n",
            "Trying again with a new set of initial conditions.\n",
            "  warnings.warn(first_warn_msg, RuntimeWarning)\n"
          ]
        },
        {
          "output_type": "stream",
          "name": "stdout",
          "text": [
            "KKT, Best value:  0.3979998153060702 , X:  tensor([[0.5427, 0.1524]], dtype=torch.float64) AF:  tensor(-0.3063, dtype=torch.float64) , Y:  0.3979998153060702 , Y grad GP:  tensor([0.0333, 0.3183], dtype=torch.float64, grad_fn=<MulBackward0>) , Y grad query:  tensor([0.0445, 0.3124])\n",
            "\n",
            "Branin, Trial: 4, Iteration: 16\n",
            "EI, Best value: 0.4081369104674053, X: tensor([[0.9634, 0.1880]], dtype=torch.float64), Y: 0.5051015648177426\n",
            "UCB, Best value: 0.40105840912805313, X: tensor([[0.5438, 0.1380]], dtype=torch.float64), Y: 0.4365234882126181\n",
            "KKT, Best value:  0.3979998153060702 , X:  tensor([[0.5426, 0.1510]], dtype=torch.float64) AF:  tensor(-0.2822, dtype=torch.float64) , Y:  0.39803675224468016 , Y grad GP:  tensor([-0.6397, -0.3302], dtype=torch.float64, grad_fn=<MulBackward0>) , Y grad query:  tensor([-0.6592, -0.3340])\n",
            "\n",
            "Branin, Trial: 4, Iteration: 17\n",
            "EI, Best value: 0.4081369104674053, X: tensor([[0.5447, 0.1413]], dtype=torch.float64), Y: 0.4195627841627285\n",
            "UCB, Best value: 0.40105840912805313, X: tensor([[0.5431, 0.1556]], dtype=torch.float64), Y: 0.4020755581477893\n",
            "KKT, Best value:  0.39799850144727067 , X:  tensor([[0.5428, 0.1509]], dtype=torch.float64) AF:  tensor(-0.2925, dtype=torch.float64) , Y:  0.39799850144727067 , Y grad GP:  tensor([-0.2503, -0.3121], dtype=torch.float64, grad_fn=<MulBackward0>) , Y grad query:  tensor([-0.2649, -0.3155])\n",
            "\n",
            "Branin, Trial: 4, Iteration: 18\n",
            "EI, Best value: 0.4081369104674053, X: tensor([[0.5445, 0.1438]], dtype=torch.float64), Y: 0.4105631936915124\n",
            "UCB, Best value: 0.40105840912805313, X: tensor([[0.5442, 0.1397]], dtype=torch.float64), Y: 0.4266387422778539\n",
            "KKT, Best value:  0.39799850144727067 , X:  tensor([[0.5431, 0.1510]], dtype=torch.float64) AF:  tensor(-0.3062, dtype=torch.float64) , Y:  0.3980262337018061 , Y grad GP:  tensor([ 0.4032, -0.2033], dtype=torch.float64, grad_fn=<MulBackward0>) , Y grad query:  tensor([ 0.3974, -0.2066])\n",
            "\n",
            "Branin, Trial: 4, Iteration: 19\n",
            "EI, Best value: 0.4081369104674053, X: tensor([[0.5425, 0.1622]], dtype=torch.float64), Y: 0.4218253848263398\n",
            "UCB, Best value: 0.40105840912805313, X: tensor([[0.5428, 0.1561]], dtype=torch.float64), Y: 0.40232201935428336\n",
            "KKT, Best value:  0.3979871048604213 , X:  tensor([[0.5430, 0.1510]], dtype=torch.float64) AF:  tensor(-0.3094, dtype=torch.float64) , Y:  0.3979871048604213 , Y grad GP:  tensor([ 0.2093, -0.2180], dtype=torch.float64, grad_fn=<MulBackward0>) , Y grad query:  tensor([ 0.2026, -0.2207])\n",
            "\n",
            "Branin, Trial: 4, Iteration: 20\n",
            "EI, Best value: 0.4081369104674053, X: tensor([[0.5442, 0.1430]], dtype=torch.float64), Y: 0.41303088001208366\n",
            "UCB, Best value: 0.40105840912805313, X: tensor([[0.5447, 0.1409]], dtype=torch.float64), Y: 0.42113403038389663\n",
            "KKT, Best value:  0.3979695824102354 , X:  tensor([[0.5428, 0.1510]], dtype=torch.float64) AF:  tensor(-0.3099, dtype=torch.float64) , Y:  0.3979695824102354 , Y grad GP:  tensor([-0.1895, -0.2670], dtype=torch.float64, grad_fn=<MulBackward0>) , Y grad query:  tensor([-0.1992, -0.2696])\n",
            "\n",
            "Branin, Trial: 4, Iteration: 21\n",
            "EI, Best value: 0.4081369104674053, X: tensor([[0.5441, 0.1443]], dtype=torch.float64), Y: 0.40888396242766234\n",
            "UCB, Best value: 0.40105840912805313, X: tensor([[0.5425, 0.1563]], dtype=torch.float64), Y: 0.40236540226637807\n",
            "KKT, Best value:  0.39793364908206286 , X:  tensor([[0.5426, 0.1514]], dtype=torch.float64) AF:  tensor(-0.3181, dtype=torch.float64) , Y:  0.39793364908206286 , Y grad GP:  tensor([-0.4819, -0.1473], dtype=torch.float64, grad_fn=<MulBackward0>) , Y grad query:  tensor([-0.4875, -0.1499])\n",
            "\n",
            "Branin, Trial: 4, Iteration: 22\n",
            "EI, Best value: 0.40512413649650725, X: tensor([[0.5440, 0.1457]], dtype=torch.float64), Y: 0.40512413649650725\n",
            "UCB, Best value: 0.40105840912805313, X: tensor([[0.5425, 0.1418]], dtype=torch.float64), Y: 0.4205166482351732\n"
          ]
        },
        {
          "output_type": "stream",
          "name": "stderr",
          "text": [
            "/usr/local/lib/python3.10/dist-packages/botorch/optim/optimize.py:369: RuntimeWarning: Optimization failed in `gen_candidates_scipy` with the following warning(s):\n",
            "[OptimizationWarning('Optimization failed within `scipy.optimize.minimize` with status 2 and message ABNORMAL_TERMINATION_IN_LNSRCH.')]\n",
            "Trying again with a new set of initial conditions.\n",
            "  warnings.warn(first_warn_msg, RuntimeWarning)\n",
            "/usr/local/lib/python3.10/dist-packages/botorch/optim/optimize.py:393: RuntimeWarning: Optimization failed on the second try, after generating a new set of initial conditions.\n",
            "  warnings.warn(\n"
          ]
        },
        {
          "output_type": "stream",
          "name": "stdout",
          "text": [
            "KKT, Best value:  0.39791760236949436 , X:  tensor([[0.5429, 0.1518]], dtype=torch.float64) AF:  tensor(-0.3339, dtype=torch.float64) , Y:  0.39791760236949436 , Y grad GP:  tensor([0.2784, 0.1126], dtype=torch.float64, grad_fn=<MulBackward0>) , Y grad query:  tensor([0.2866, 0.1097])\n",
            "\n",
            "Branin, Trial: 4, Iteration: 23\n",
            "EI, Best value: 0.40512413649650725, X: tensor([[0.5423, 0.1598]], dtype=torch.float64), Y: 0.4117235835096391\n",
            "UCB, Best value: 0.40105840912805313, X: tensor([[0.5430, 0.1556]], dtype=torch.float64), Y: 0.40172466460199097\n",
            "KKT, Best value:  0.39791760236949436 , X:  tensor([[0.5427, 0.1512]], dtype=torch.float64) AF:  tensor(-0.3202, dtype=torch.float64) , Y:  0.3979572770769302 , Y grad GP:  tensor([-0.4353, -0.2328], dtype=torch.float64, grad_fn=<MulBackward0>) , Y grad query:  tensor([-0.4439, -0.2348])\n",
            "\n",
            "Branin, Trial: 4, Iteration: 24\n",
            "EI, Best value: 0.40512413649650725, X: tensor([[0.9632, 0.1872]], dtype=torch.float64), Y: 0.49843543348898756\n",
            "UCB, Best value: 0.40105840912805313, X: tensor([[0.5468, 0.1439]], dtype=torch.float64), Y: 0.42029171865074133\n",
            "KKT, Best value:  0.39791760236949436 , X:  tensor([[0.5430, 0.1510]], dtype=torch.float64) AF:  tensor(-0.3267, dtype=torch.float64) , Y:  0.3980185262031597 , Y grad GP:  tensor([ 0.3291, -0.2228], dtype=torch.float64, grad_fn=<MulBackward0>) , Y grad query:  tensor([ 0.3247, -0.2246])\n",
            "\n",
            "Branin, Trial: 4, Iteration: 25\n",
            "EI, Best value: 0.40512413649650725, X: tensor([[0.4674, 0.2825]], dtype=torch.float64), Y: 6.745704165747859\n",
            "UCB, Best value: 0.40105840912805313, X: tensor([[0.5405, 0.1450]], dtype=torch.float64), Y: 0.41946906218294266\n"
          ]
        },
        {
          "output_type": "stream",
          "name": "stderr",
          "text": [
            "/usr/local/lib/python3.10/dist-packages/botorch/optim/optimize.py:369: RuntimeWarning: Optimization failed in `gen_candidates_scipy` with the following warning(s):\n",
            "[OptimizationWarning('Optimization failed within `scipy.optimize.minimize` with status 2 and message ABNORMAL_TERMINATION_IN_LNSRCH.')]\n",
            "Trying again with a new set of initial conditions.\n",
            "  warnings.warn(first_warn_msg, RuntimeWarning)\n"
          ]
        },
        {
          "output_type": "stream",
          "name": "stdout",
          "text": [
            "KKT, Best value:  0.39791760236949436 , X:  tensor([[0.5427, 0.1514]], dtype=torch.float64) AF:  tensor(-0.3304, dtype=torch.float64) , Y:  0.3979184087442853 , Y grad GP:  tensor([-0.3820, -0.1344], dtype=torch.float64, grad_fn=<MulBackward0>) , Y grad query:  tensor([-0.3857, -0.1363])\n",
            "\n",
            "Branin, Trial: 4, Iteration: 26\n",
            "EI, Best value: 0.40512413649650725, X: tensor([[0.5445, 0.1429]], dtype=torch.float64), Y: 0.4134737965523616\n",
            "UCB, Best value: 0.40105840912805313, X: tensor([[0.5420, 0.1569]], dtype=torch.float64), Y: 0.4033282780777121\n",
            "KKT, Best value:  0.39791760236949436 , X:  tensor([[0.5427, 0.1513]], dtype=torch.float64) AF:  tensor(-0.3297, dtype=torch.float64) , Y:  0.39794207410157156 , Y grad GP:  tensor([-0.3811, -0.2086], dtype=torch.float64, grad_fn=<MulBackward0>) , Y grad query:  tensor([-0.3874, -0.2102])\n",
            "\n",
            "Branin, Trial: 4, Iteration: 27\n",
            "EI, Best value: 0.40512413649650725, X: tensor([[0.5445, 0.1437]], dtype=torch.float64), Y: 0.4110777321578283\n",
            "UCB, Best value: 0.40105840912805313, X: tensor([[0.5469, 0.1444]], dtype=torch.float64), Y: 0.41982081056955955\n"
          ]
        },
        {
          "output_type": "stream",
          "name": "stderr",
          "text": [
            "/usr/local/lib/python3.10/dist-packages/botorch/optim/optimize.py:369: RuntimeWarning: Optimization failed in `gen_candidates_scipy` with the following warning(s):\n",
            "[OptimizationWarning('Optimization failed within `scipy.optimize.minimize` with status 2 and message ABNORMAL_TERMINATION_IN_LNSRCH.')]\n",
            "Trying again with a new set of initial conditions.\n",
            "  warnings.warn(first_warn_msg, RuntimeWarning)\n"
          ]
        },
        {
          "output_type": "stream",
          "name": "stdout",
          "text": [
            "KKT, Best value:  0.39791760236949436 , X:  tensor([[0.7524, 0.0745]], dtype=torch.float64) AF:  tensor(-19.3690, dtype=torch.float64) , Y:  19.60234341455447 , Y grad GP:  tensor([-0.3633,  0.4894], dtype=torch.float64, grad_fn=<MulBackward0>) , Y grad query:  tensor([-0.5168,  0.5107])\n",
            "\n",
            "Branin, Trial: 4, Iteration: 28\n",
            "EI, Best value: 0.40512413649650725, X: tensor([[0.5445, 0.1444]], dtype=torch.float64), Y: 0.4088490883375542\n",
            "UCB, Best value: 0.40105840912805313, X: tensor([[0.5411, 0.1567]], dtype=torch.float64), Y: 0.40391177384273647\n",
            "KKT, Best value:  0.39791760236949436 , X:  tensor([[0.5429, 0.1512]], dtype=torch.float64) AF:  tensor(-0.3357, dtype=torch.float64) , Y:  0.39794426426205654 , Y grad GP:  tensor([ 0.0739, -0.1838], dtype=torch.float64, grad_fn=<MulBackward0>) , Y grad query:  tensor([ 0.0708, -0.1854])\n",
            "\n",
            "Branin, Trial: 4, Iteration: 29\n",
            "EI, Best value: 0.40512413649650725, X: tensor([[0.5444, 0.1449]], dtype=torch.float64), Y: 0.40739611808669274\n",
            "UCB, Best value: 0.40105840912805313, X: tensor([[0.5407, 0.1449]], dtype=torch.float64), Y: 0.41813382082747275\n",
            "KKT, Best value:  0.39791760236949436 , X:  tensor([[0.5429, 0.1516]], dtype=torch.float64) AF:  tensor(-0.3469, dtype=torch.float64) , Y:  0.39792137868868593 , Y grad GP:  tensor([0.3284, 0.0404], dtype=torch.float64, grad_fn=<MulBackward0>) , Y grad query:  tensor([0.3347, 0.0386])\n",
            "\n",
            "Branin, Trial: 4, Iteration: 30\n",
            "EI, Best value: 0.40512413649650725, X: tensor([[0.9636, 0.1822]], dtype=torch.float64), Y: 0.45623702479617556\n",
            "UCB, Best value: 0.40105840912805313, X: tensor([[0.5468, 0.1452]], dtype=torch.float64), Y: 0.4179710261658567\n",
            "KKT, Best value:  0.39791760236949436 , X:  tensor([[0.5430, 0.1511]], dtype=torch.float64) AF:  tensor(-0.3400, dtype=torch.float64) , Y:  0.39798221145048984 , Y grad GP:  tensor([ 0.2897, -0.1813], dtype=torch.float64, grad_fn=<MulBackward0>) , Y grad query:  tensor([ 0.2875, -0.1827])\n",
            "\n",
            "Branin, Trial: 5, Iteration: 1\n",
            "EI, Best value: 3.5451956715421797, X: tensor([[0.8280, 0.0393]], dtype=torch.float64), Y: 14.544209620786976\n",
            "UCB, Best value: 3.5451956715421797, X: tensor([[0.8178, 0.0395]], dtype=torch.float64), Y: 15.75734857969384\n"
          ]
        },
        {
          "output_type": "stream",
          "name": "stderr",
          "text": [
            "/usr/local/lib/python3.10/dist-packages/botorch/optim/optimize.py:369: RuntimeWarning: Optimization failed in `gen_candidates_scipy` with the following warning(s):\n",
            "[OptimizationWarning('Optimization failed within `scipy.optimize.minimize` with status 2 and message ABNORMAL_TERMINATION_IN_LNSRCH.')]\n",
            "Trying again with a new set of initial conditions.\n",
            "  warnings.warn(first_warn_msg, RuntimeWarning)\n",
            "/usr/local/lib/python3.10/dist-packages/botorch/optim/optimize.py:393: RuntimeWarning: Optimization failed on the second try, after generating a new set of initial conditions.\n",
            "  warnings.warn(\n"
          ]
        },
        {
          "output_type": "stream",
          "name": "stdout",
          "text": [
            "KKT, Best value:  3.5451956715421797 , X:  tensor([[0.7578, 0.0711]], dtype=torch.float64) AF:  tensor(10.7334, dtype=torch.float64) , Y:  19.569611399560987 , Y grad GP:  tensor([ 0.1189, -1.2623], dtype=torch.float64, grad_fn=<MulBackward0>) , Y grad query:  tensor([-11.9764,  -1.1071])\n",
            "\n",
            "Branin, Trial: 5, Iteration: 2\n",
            "EI, Best value: 1.9457094230260399, X: tensor([[1.0000, 0.2036]], dtype=torch.float64), Y: 1.9457094230260399\n",
            "UCB, Best value: 3.5451956715421797, X: tensor([[0.4862, 0.0000]], dtype=torch.float64), Y: 12.835603910593655\n",
            "KKT, Best value:  0.5167828063211068 , X:  tensor([[0.5533, 0.1431]], dtype=torch.float64) AF:  tensor(1.7102, dtype=torch.float64) , Y:  0.5167828063211068 , Y grad GP:  tensor([48.8711, -0.2203], dtype=torch.float64, grad_fn=<MulBackward0>) , Y grad query:  tensor([22.2315, -0.2798])\n",
            "\n",
            "Branin, Trial: 5, Iteration: 3\n",
            "EI, Best value: 1.9457094230260399, X: tensor([[0.4802, 0.0000]], dtype=torch.float64), Y: 14.057468219979384\n",
            "UCB, Best value: 3.5451956715421797, X: tensor([[0.6523, 0.0000]], dtype=torch.float64), Y: 12.49914191617193\n"
          ]
        },
        {
          "output_type": "stream",
          "name": "stderr",
          "text": [
            "/usr/local/lib/python3.10/dist-packages/botorch/optim/optimize.py:369: RuntimeWarning: Optimization failed in `gen_candidates_scipy` with the following warning(s):\n",
            "[OptimizationWarning('Optimization failed within `scipy.optimize.minimize` with status 2 and message ABNORMAL_TERMINATION_IN_LNSRCH.')]\n",
            "Trying again with a new set of initial conditions.\n",
            "  warnings.warn(first_warn_msg, RuntimeWarning)\n"
          ]
        },
        {
          "output_type": "stream",
          "name": "stdout",
          "text": [
            "KKT, Best value:  0.5167828063211068 , X:  tensor([[0.5194, 0.1686]], dtype=torch.float64) AF:  tensor(1.8005, dtype=torch.float64) , Y:  0.9812837462380752 , Y grad GP:  tensor([-24.1742,  -0.9726], dtype=torch.float64, grad_fn=<MulBackward0>) , Y grad query:  tensor([-50.1798,  -1.0320])\n",
            "\n",
            "Branin, Trial: 5, Iteration: 4\n",
            "EI, Best value: 1.9457094230260399, X: tensor([[1., 0.]], dtype=torch.float64), Y: 10.960889035651505\n",
            "UCB, Best value: 3.5451956715421797, X: tensor([[0.6318, 0.1264]], dtype=torch.float64), Y: 7.948579185359501\n",
            "KKT, Best value:  0.40027286910751947 , X:  tensor([[0.5440, 0.1489]], dtype=torch.float64) AF:  tensor(-0.0637, dtype=torch.float64) , Y:  0.40027286910751947 , Y grad GP:  tensor([ 1.5933, -0.7857], dtype=torch.float64, grad_fn=<MulBackward0>) , Y grad query:  tensor([ 1.9651, -0.8121])\n",
            "\n",
            "Branin, Trial: 5, Iteration: 5\n",
            "EI, Best value: 0.408584797890601, X: tensor([[0.5458, 0.1512]], dtype=torch.float64), Y: 0.408584797890601\n",
            "UCB, Best value: 2.3154051159711306, X: tensor([[1.0000, 0.1595]], dtype=torch.float64), Y: 2.3154051159711306\n",
            "KKT, Best value:  0.3982434571630318 , X:  tensor([[0.5422, 0.1518]], dtype=torch.float64) AF:  tensor(-0.1981, dtype=torch.float64) , Y:  0.3982434571630318 , Y grad GP:  tensor([-1.6683, -0.1265], dtype=torch.float64, grad_fn=<MulBackward0>) , Y grad query:  tensor([-1.3771, -0.1500])\n",
            "\n",
            "Branin, Trial: 5, Iteration: 6\n",
            "EI, Best value: 0.408584797890601, X: tensor([[0.4892, 0.2391]], dtype=torch.float64), Y: 3.69516638760326\n",
            "UCB, Best value: 0.8009783161411246, X: tensor([[0.5236, 0.1614]], dtype=torch.float64), Y: 0.8009783161411246\n",
            "KKT, Best value:  0.3982434571630318 , X:  tensor([[0.5437, 0.1496]], dtype=torch.float64) AF:  tensor(-0.1982, dtype=torch.float64) , Y:  0.3992154046792624 , Y grad GP:  tensor([ 1.3799, -0.5690], dtype=torch.float64, grad_fn=<MulBackward0>) , Y grad query:  tensor([ 1.4933, -0.5855])\n",
            "\n",
            "Branin, Trial: 5, Iteration: 7\n",
            "EI, Best value: 0.408584797890601, X: tensor([[0.0000, 0.9609]], dtype=torch.float64), Y: 20.4155196708657\n",
            "UCB, Best value: 0.8009783161411246, X: tensor([[1., 0.]], dtype=torch.float64), Y: 10.960889035651505\n",
            "KKT, Best value:  0.3981644334832417 , X:  tensor([[0.5432, 0.1517]], dtype=torch.float64) AF:  tensor(-0.2661, dtype=torch.float64) , Y:  0.3981644334832417 , Y grad GP:  tensor([0.8988, 0.1911], dtype=torch.float64, grad_fn=<MulBackward0>) , Y grad query:  tensor([1.0893, 0.1750])\n",
            "\n",
            "Branin, Trial: 5, Iteration: 8\n",
            "EI, Best value: 0.408584797890601, X: tensor([[0.5842, 0.1295]], dtype=torch.float64), Y: 2.199376338551355\n",
            "UCB, Best value: 0.5660143280874106, X: tensor([[0.5445, 0.1233]], dtype=torch.float64), Y: 0.5660143280874106\n",
            "KKT, Best value:  0.3981644334832417 , X:  tensor([[0.3712, 0.3444]], dtype=torch.float64) AF:  tensor(-12.1070, dtype=torch.float64) , Y:  18.093130755169234 , Y grad GP:  tensor([-36.0463,   0.9803], dtype=torch.float64, grad_fn=<MulBackward0>) , Y grad query:  tensor([-76.1130,   0.8672])\n",
            "\n",
            "Branin, Trial: 5, Iteration: 9\n",
            "EI, Best value: 0.408584797890601, X: tensor([[0.5297, 0.1360]], dtype=torch.float64), Y: 0.7366053658516325\n",
            "UCB, Best value: 0.4087782397365416, X: tensor([[0.5459, 0.1487]], dtype=torch.float64), Y: 0.4087782397365416\n",
            "KKT, Best value:  0.3981644334832417 , X:  tensor([[0.5433, 0.1501]], dtype=torch.float64) AF:  tensor(-0.2544, dtype=torch.float64) , Y:  0.3984966259970708 , Y grad GP:  tensor([ 0.7274, -0.4952], dtype=torch.float64, grad_fn=<MulBackward0>) , Y grad query:  tensor([ 0.7190, -0.5059])\n",
            "\n",
            "Branin, Trial: 5, Iteration: 10\n",
            "EI, Best value: 0.408584797890601, X: tensor([[1.0000, 0.3066]], dtype=torch.float64), Y: 4.491067202119728\n",
            "UCB, Best value: 0.4087782397365416, X: tensor([[0.5451, 0.1370]], dtype=torch.float64), Y: 0.44070221478105154\n",
            "KKT, Best value:  0.3981644334832417 , X:  tensor([[0.5432, 0.1503]], dtype=torch.float64) AF:  tensor(-0.2698, dtype=torch.float64) , Y:  0.39834907649198037 , Y grad GP:  tensor([ 0.5986, -0.4410], dtype=torch.float64, grad_fn=<MulBackward0>) , Y grad query:  tensor([ 0.5961, -0.4478])\n",
            "\n",
            "Branin, Trial: 5, Iteration: 11\n",
            "EI, Best value: 0.408584797890601, X: tensor([[0.5386, 0.1516]], dtype=torch.float64), Y: 0.4189551874258157\n",
            "UCB, Best value: 0.40293428503916395, X: tensor([[0.5445, 0.1532]], dtype=torch.float64), Y: 0.40293428503916395\n"
          ]
        },
        {
          "output_type": "stream",
          "name": "stderr",
          "text": [
            "/usr/local/lib/python3.10/dist-packages/botorch/optim/optimize.py:369: RuntimeWarning: Optimization failed in `gen_candidates_scipy` with the following warning(s):\n",
            "[OptimizationWarning('Optimization failed within `scipy.optimize.minimize` with status 2 and message ABNORMAL_TERMINATION_IN_LNSRCH.')]\n",
            "Trying again with a new set of initial conditions.\n",
            "  warnings.warn(first_warn_msg, RuntimeWarning)\n"
          ]
        },
        {
          "output_type": "stream",
          "name": "stdout",
          "text": [
            "KKT, Best value:  0.3980808496562762 , X:  tensor([[0.5428, 0.1507]], dtype=torch.float64) AF:  tensor(-0.2816, dtype=torch.float64) , Y:  0.3980808496562762 , Y grad GP:  tensor([-0.3719, -0.4112], dtype=torch.float64, grad_fn=<MulBackward0>) , Y grad query:  tensor([-0.3739, -0.4172])\n",
            "\n",
            "Branin, Trial: 5, Iteration: 12\n",
            "EI, Best value: 0.408584797890601, X: tensor([[0.5396, 0.1460]], dtype=torch.float64), Y: 0.42365198653861746\n",
            "UCB, Best value: 0.40293428503916395, X: tensor([[0.5434, 0.1331]], dtype=torch.float64), Y: 0.4718197158979791\n"
          ]
        },
        {
          "output_type": "stream",
          "name": "stderr",
          "text": [
            "/usr/local/lib/python3.10/dist-packages/botorch/optim/fit.py:130: OptimizationWarning: `scipy_minimize` terminated with status 3, displaying original message from `scipy.optimize.minimize`: ABNORMAL_TERMINATION_IN_LNSRCH\n",
            "  warn(\n",
            "/usr/local/lib/python3.10/dist-packages/botorch/optim/fit.py:130: OptimizationWarning: `scipy_minimize` terminated with status 3, displaying original message from `scipy.optimize.minimize`: ABNORMAL_TERMINATION_IN_LNSRCH\n",
            "  warn(\n",
            "/usr/local/lib/python3.10/dist-packages/botorch/optim/fit.py:130: OptimizationWarning: `scipy_minimize` terminated with status 3, displaying original message from `scipy.optimize.minimize`: ABNORMAL_TERMINATION_IN_LNSRCH\n",
            "  warn(\n",
            "/usr/local/lib/python3.10/dist-packages/botorch/optim/fit.py:130: OptimizationWarning: `scipy_minimize` terminated with status 3, displaying original message from `scipy.optimize.minimize`: ABNORMAL_TERMINATION_IN_LNSRCH\n",
            "  warn(\n",
            "/usr/local/lib/python3.10/dist-packages/botorch/optim/fit.py:130: OptimizationWarning: `scipy_minimize` terminated with status 3, displaying original message from `scipy.optimize.minimize`: ABNORMAL_TERMINATION_IN_LNSRCH\n",
            "  warn(\n",
            "/usr/local/lib/python3.10/dist-packages/botorch/fit.py:171: RuntimeWarning: All attempts to fit the model have failed. For more information, try enabling botorch.settings.debug mode.\n",
            "  warn(str(err), RuntimeWarning)\n"
          ]
        },
        {
          "output_type": "stream",
          "name": "stdout",
          "text": [
            "KKT, Best value:  0.3980808496562762 , X:  tensor([[0.5427, 0.1502]], dtype=torch.float64) AF:  tensor(-0.2770, dtype=torch.float64) , Y:  0.3983932798072374 , Y grad GP:  tensor([-0.7233, -0.7313], dtype=torch.float64, grad_fn=<MulBackward0>) , Y grad query:  tensor([-0.7484, -0.6709])\n",
            "\n",
            "Branin, Trial: 5, Iteration: 13\n",
            "EI, Best value: 0.408584797890601, X: tensor([[0.5383, 0.1548]], dtype=torch.float64), Y: 0.41905600006860944\n",
            "UCB, Best value: 0.40293428503916395, X: tensor([[0.5439, 0.1556]], dtype=torch.float64), Y: 0.4044784123826677\n",
            "KKT, Best value:  0.3980808496562762 , X:  tensor([[0.7511, 0.0738]], dtype=torch.float64) AF:  tensor(-18.4527, dtype=torch.float64) , Y:  19.60081055014804 , Y grad GP:  tensor([2.9991, 0.1701], dtype=torch.float64, grad_fn=<MulBackward0>) , Y grad query:  tensor([2.4040, 0.2109])\n",
            "\n",
            "Branin, Trial: 5, Iteration: 14\n",
            "EI, Best value: 0.408584797890601, X: tensor([[0.5415, 0.1373]], dtype=torch.float64), Y: 0.45264210319463594\n",
            "UCB, Best value: 0.40144694492217603, X: tensor([[0.5445, 0.1512]], dtype=torch.float64), Y: 0.40144694492217603\n",
            "KKT, Best value:  0.3980808496562762 , X:  tensor([[0.5432, 0.1506]], dtype=torch.float64) AF:  tensor(-0.2993, dtype=torch.float64) , Y:  0.3982201789718207 , Y grad GP:  tensor([ 0.5802, -0.3400], dtype=torch.float64, grad_fn=<MulBackward0>) , Y grad query:  tensor([ 0.5908, -0.3451])\n",
            "\n",
            "Branin, Trial: 5, Iteration: 15\n",
            "EI, Best value: 0.408584797890601, X: tensor([[0.5384, 0.1562]], dtype=torch.float64), Y: 0.4192199071718363\n",
            "UCB, Best value: 0.40144694492217603, X: tensor([[0.5441, 0.1368]], dtype=torch.float64), Y: 0.44307100312550496\n"
          ]
        },
        {
          "output_type": "stream",
          "name": "stderr",
          "text": [
            "/usr/local/lib/python3.10/dist-packages/botorch/optim/optimize.py:369: RuntimeWarning: Optimization failed in `gen_candidates_scipy` with the following warning(s):\n",
            "[OptimizationWarning('Optimization failed within `scipy.optimize.minimize` with status 2 and message ABNORMAL_TERMINATION_IN_LNSRCH.')]\n",
            "Trying again with a new set of initial conditions.\n",
            "  warnings.warn(first_warn_msg, RuntimeWarning)\n"
          ]
        },
        {
          "output_type": "stream",
          "name": "stdout",
          "text": [
            "KKT, Best value:  0.3979693887440021 , X:  tensor([[0.5429, 0.1520]], dtype=torch.float64) AF:  tensor(-0.3235, dtype=torch.float64) , Y:  0.3979693887440021 , Y grad GP:  tensor([0.4194, 0.2189], dtype=torch.float64, grad_fn=<MulBackward0>) , Y grad query:  tensor([0.4663, 0.2130])\n",
            "\n",
            "Branin, Trial: 5, Iteration: 16\n",
            "EI, Best value: 0.408584797890601, X: tensor([[0.5410, 0.1404]], dtype=torch.float64), Y: 0.437342348062856\n",
            "UCB, Best value: 0.40144694492217603, X: tensor([[0.5432, 0.1560]], dtype=torch.float64), Y: 0.40302201341966537\n"
          ]
        },
        {
          "output_type": "stream",
          "name": "stderr",
          "text": [
            "/usr/local/lib/python3.10/dist-packages/botorch/optim/optimize.py:369: RuntimeWarning: Optimization failed in `gen_candidates_scipy` with the following warning(s):\n",
            "[OptimizationWarning('Optimization failed within `scipy.optimize.minimize` with status 2 and message ABNORMAL_TERMINATION_IN_LNSRCH.')]\n",
            "Trying again with a new set of initial conditions.\n",
            "  warnings.warn(first_warn_msg, RuntimeWarning)\n",
            "/usr/local/lib/python3.10/dist-packages/botorch/optim/optimize.py:393: RuntimeWarning: Optimization failed on the second try, after generating a new set of initial conditions.\n",
            "  warnings.warn(\n"
          ]
        },
        {
          "output_type": "stream",
          "name": "stdout",
          "text": [
            "KKT, Best value:  0.3979541480999238 , X:  tensor([[0.5430, 0.1514]], dtype=torch.float64) AF:  tensor(-0.3186, dtype=torch.float64) , Y:  0.3979541480999238 , Y grad GP:  tensor([ 0.3854, -0.0515], dtype=torch.float64, grad_fn=<MulBackward0>) , Y grad query:  tensor([ 0.4093, -0.0562])\n",
            "\n",
            "Branin, Trial: 5, Iteration: 17\n",
            "EI, Best value: 0.408584797890601, X: tensor([[0.5385, 0.1562]], dtype=torch.float64), Y: 0.4183361416511264\n",
            "UCB, Best value: 0.40144694492217603, X: tensor([[0.5444, 0.1391]], dtype=torch.float64), Y: 0.4296215176899594\n"
          ]
        },
        {
          "output_type": "stream",
          "name": "stderr",
          "text": [
            "/usr/local/lib/python3.10/dist-packages/botorch/optim/optimize.py:369: RuntimeWarning: Optimization failed in `gen_candidates_scipy` with the following warning(s):\n",
            "[OptimizationWarning('Optimization failed within `scipy.optimize.minimize` with status 2 and message ABNORMAL_TERMINATION_IN_LNSRCH.')]\n",
            "Trying again with a new set of initial conditions.\n",
            "  warnings.warn(first_warn_msg, RuntimeWarning)\n"
          ]
        },
        {
          "output_type": "stream",
          "name": "stdout",
          "text": [
            "KKT, Best value:  0.3979541480999238 , X:  tensor([[0.5430, 0.1511]], dtype=torch.float64) AF:  tensor(-0.3164, dtype=torch.float64) , Y:  0.3979740807551142 , Y grad GP:  tensor([ 0.1528, -0.2082], dtype=torch.float64, grad_fn=<MulBackward0>) , Y grad query:  tensor([ 0.1639, -0.2121])\n",
            "\n",
            "Branin, Trial: 5, Iteration: 18\n",
            "EI, Best value: 0.408584797890601, X: tensor([[0.5409, 0.1417]], dtype=torch.float64), Y: 0.4308977871273356\n",
            "UCB, Best value: 0.40144694492217603, X: tensor([[0.5429, 0.1564]], dtype=torch.float64), Y: 0.4031798102633779\n"
          ]
        },
        {
          "output_type": "stream",
          "name": "stderr",
          "text": [
            "/usr/local/lib/python3.10/dist-packages/botorch/optim/optimize.py:369: RuntimeWarning: Optimization failed in `gen_candidates_scipy` with the following warning(s):\n",
            "[OptimizationWarning('Optimization failed within `scipy.optimize.minimize` with status 2 and message ABNORMAL_TERMINATION_IN_LNSRCH.')]\n",
            "Trying again with a new set of initial conditions.\n",
            "  warnings.warn(first_warn_msg, RuntimeWarning)\n"
          ]
        },
        {
          "output_type": "stream",
          "name": "stdout",
          "text": [
            "KKT, Best value:  0.39789754999604376 , X:  tensor([[0.5427, 0.1517]], dtype=torch.float64) AF:  tensor(-0.3269, dtype=torch.float64) , Y:  0.39789754999604376 , Y grad GP:  tensor([-0.3113, -0.0197], dtype=torch.float64, grad_fn=<MulBackward0>) , Y grad query:  tensor([-0.2891, -0.0237])\n",
            "\n",
            "Branin, Trial: 5, Iteration: 19\n",
            "EI, Best value: 0.408584797890601, X: tensor([[0.5385, 0.1561]], dtype=torch.float64), Y: 0.4175032501484228\n",
            "UCB, Best value: 0.40144694492217603, X: tensor([[0.5446, 0.1405]], dtype=torch.float64), Y: 0.42297658426769047\n"
          ]
        },
        {
          "output_type": "stream",
          "name": "stderr",
          "text": [
            "/usr/local/lib/python3.10/dist-packages/botorch/optim/optimize.py:369: RuntimeWarning: Optimization failed in `gen_candidates_scipy` with the following warning(s):\n",
            "[OptimizationWarning('Optimization failed within `scipy.optimize.minimize` with status 2 and message ABNORMAL_TERMINATION_IN_LNSRCH.')]\n",
            "Trying again with a new set of initial conditions.\n",
            "  warnings.warn(first_warn_msg, RuntimeWarning)\n"
          ]
        },
        {
          "output_type": "stream",
          "name": "stdout",
          "text": [
            "KKT, Best value:  0.39789754999604376 , X:  tensor([[0.5430, 0.1509]], dtype=torch.float64) AF:  tensor(-0.3206, dtype=torch.float64) , Y:  0.3980165916340628 , Y grad GP:  tensor([ 0.1622, -0.2697], dtype=torch.float64, grad_fn=<MulBackward0>) , Y grad query:  tensor([ 0.1666, -0.2727])\n",
            "\n",
            "Branin, Trial: 5, Iteration: 20\n",
            "EI, Best value: 0.408584797890601, X: tensor([[0.5409, 0.1426]], dtype=torch.float64), Y: 0.42687424223175796\n",
            "UCB, Best value: 0.40144694492217603, X: tensor([[0.5427, 0.1565]], dtype=torch.float64), Y: 0.40303572418040545\n",
            "KKT, Best value:  0.39789754999604376 , X:  tensor([[0.5430, 0.1509]], dtype=torch.float64) AF:  tensor(-0.3241, dtype=torch.float64) , Y:  0.39800059775396157 , Y grad GP:  tensor([ 0.1282, -0.2574], dtype=torch.float64, grad_fn=<MulBackward0>) , Y grad query:  tensor([ 0.1330, -0.2602])\n",
            "\n",
            "Branin, Trial: 5, Iteration: 21\n",
            "EI, Best value: 0.408584797890601, X: tensor([[0.9514, 0.1973]], dtype=torch.float64), Y: 0.8867264258753824\n",
            "UCB, Best value: 0.40144694492217603, X: tensor([[0.5447, 0.1414]], dtype=torch.float64), Y: 0.41925037301629686\n",
            "KKT, Best value:  0.39789754999604376 , X:  tensor([[0.5426, 0.1522]], dtype=torch.float64) AF:  tensor(-0.3423, dtype=torch.float64) , Y:  0.39795807331226385 , Y grad GP:  tensor([-0.2303,  0.2171], dtype=torch.float64, grad_fn=<MulBackward0>) , Y grad query:  tensor([-0.1956,  0.2133])\n",
            "\n",
            "Branin, Trial: 5, Iteration: 22\n",
            "EI, Best value: 0.408584797890601, X: tensor([[0.5402, 0.1606]], dtype=torch.float64), Y: 0.41577180711038686\n",
            "UCB, Best value: 0.40144694492217603, X: tensor([[0.5425, 0.1565]], dtype=torch.float64), Y: 0.4028134492853752\n",
            "KKT, Best value:  0.39789754999604376 , X:  tensor([[0.5429, 0.1521]], dtype=torch.float64) AF:  tensor(-0.3444, dtype=torch.float64) , Y:  0.3979716746611892 , Y grad GP:  tensor([0.4042, 0.2351], dtype=torch.float64, grad_fn=<MulBackward0>) , Y grad query:  tensor([0.4379, 0.2317])\n",
            "\n",
            "Branin, Trial: 5, Iteration: 23\n",
            "EI, Best value: 0.4066815482965609, X: tensor([[0.5406, 0.1575]], dtype=torch.float64), Y: 0.4066815482965609\n",
            "UCB, Best value: 0.40144694492217603, X: tensor([[0.5432, 0.1420]], dtype=torch.float64), Y: 0.4177644113501273\n",
            "KKT, Best value:  0.39789754999604376 , X:  tensor([[0.5428, 0.1511]], dtype=torch.float64) AF:  tensor(-0.3311, dtype=torch.float64) , Y:  0.3979497402991825 , Y grad GP:  tensor([-0.1586, -0.2305], dtype=torch.float64, grad_fn=<MulBackward0>) , Y grad query:  tensor([-0.1566, -0.2331])\n",
            "\n",
            "Branin, Trial: 5, Iteration: 24\n",
            "EI, Best value: 0.4066815482965609, X: tensor([[0.5437, 0.1438]], dtype=torch.float64), Y: 0.4103238717675062\n",
            "UCB, Best value: 0.40144694492217603, X: tensor([[0.5428, 0.1560]], dtype=torch.float64), Y: 0.4021440767675788\n"
          ]
        },
        {
          "output_type": "stream",
          "name": "stderr",
          "text": [
            "/usr/local/lib/python3.10/dist-packages/botorch/optim/optimize.py:369: RuntimeWarning: Optimization failed in `gen_candidates_scipy` with the following warning(s):\n",
            "[OptimizationWarning('Optimization failed within `scipy.optimize.minimize` with status 2 and message ABNORMAL_TERMINATION_IN_LNSRCH.')]\n",
            "Trying again with a new set of initial conditions.\n",
            "  warnings.warn(first_warn_msg, RuntimeWarning)\n"
          ]
        },
        {
          "output_type": "stream",
          "name": "stdout",
          "text": [
            "KKT, Best value:  0.39789754999604376 , X:  tensor([[0.5426, 0.1521]], dtype=torch.float64) AF:  tensor(-0.3467, dtype=torch.float64) , Y:  0.3979386461196075 , Y grad GP:  tensor([-0.2590,  0.1700], dtype=torch.float64, grad_fn=<MulBackward0>) , Y grad query:  tensor([-0.2320,  0.1672])\n",
            "\n",
            "Branin, Trial: 5, Iteration: 25\n",
            "EI, Best value: 0.40615746888244786, X: tensor([[0.5405, 0.1570]], dtype=torch.float64), Y: 0.40615746888244786\n",
            "UCB, Best value: 0.40144694492217603, X: tensor([[0.5467, 0.1444]], dtype=torch.float64), Y: 0.4189544178323086\n"
          ]
        },
        {
          "output_type": "stream",
          "name": "stderr",
          "text": [
            "/usr/local/lib/python3.10/dist-packages/botorch/optim/optimize.py:369: RuntimeWarning: Optimization failed in `gen_candidates_scipy` with the following warning(s):\n",
            "[OptimizationWarning('Optimization failed within `scipy.optimize.minimize` with status 2 and message ABNORMAL_TERMINATION_IN_LNSRCH.')]\n",
            "Trying again with a new set of initial conditions.\n",
            "  warnings.warn(first_warn_msg, RuntimeWarning)\n",
            "/usr/local/lib/python3.10/dist-packages/botorch/optim/optimize.py:393: RuntimeWarning: Optimization failed on the second try, after generating a new set of initial conditions.\n",
            "  warnings.warn(\n"
          ]
        },
        {
          "output_type": "stream",
          "name": "stdout",
          "text": [
            "KKT, Best value:  0.39789754999604376 , X:  tensor([[0.5426, 0.1520]], dtype=torch.float64) AF:  tensor(-0.3463, dtype=torch.float64) , Y:  0.39792156083706764 , Y grad GP:  tensor([-0.3339,  0.0988], dtype=torch.float64, grad_fn=<MulBackward0>) , Y grad query:  tensor([-0.3130,  0.0963])\n",
            "\n",
            "Branin, Trial: 5, Iteration: 26\n",
            "EI, Best value: 0.40615746888244786, X: tensor([[0.5435, 0.1445]], dtype=torch.float64), Y: 0.40838727445052037\n",
            "UCB, Best value: 0.40144694492217603, X: tensor([[0.5409, 0.1447]], dtype=torch.float64), Y: 0.4174483676343055\n"
          ]
        },
        {
          "output_type": "stream",
          "name": "stderr",
          "text": [
            "/usr/local/lib/python3.10/dist-packages/botorch/optim/optimize.py:369: RuntimeWarning: Optimization failed in `gen_candidates_scipy` with the following warning(s):\n",
            "[OptimizationWarning('Optimization failed within `scipy.optimize.minimize` with status 2 and message ABNORMAL_TERMINATION_IN_LNSRCH.')]\n",
            "Trying again with a new set of initial conditions.\n",
            "  warnings.warn(first_warn_msg, RuntimeWarning)\n"
          ]
        },
        {
          "output_type": "stream",
          "name": "stdout",
          "text": [
            "KKT, Best value:  0.39789476003364754 , X:  tensor([[0.5428, 0.1517]], dtype=torch.float64) AF:  tensor(-0.3466, dtype=torch.float64) , Y:  0.39789476003364754 , Y grad GP:  tensor([0.0922, 0.0548], dtype=torch.float64, grad_fn=<MulBackward0>) , Y grad query:  tensor([0.1093, 0.0526])\n",
            "\n",
            "Branin, Trial: 5, Iteration: 27\n",
            "EI, Best value: 0.40615746888244786, X: tensor([[0.9569, 0.1533]], dtype=torch.float64), Y: 0.43541441188443564\n",
            "UCB, Best value: 0.40144694492217603, X: tensor([[0.5420, 0.1570]], dtype=torch.float64), Y: 0.40360176877894816\n",
            "KKT, Best value:  0.39789458285116375 , X:  tensor([[0.5428, 0.1515]], dtype=torch.float64) AF:  tensor(-0.3453, dtype=torch.float64) , Y:  0.39789458285116375 , Y grad GP:  tensor([ 0.0560, -0.0310], dtype=torch.float64, grad_fn=<MulBackward0>) , Y grad query:  tensor([ 0.0670, -0.0330])\n",
            "\n",
            "Branin, Trial: 5, Iteration: 28\n",
            "EI, Best value: 0.40615746888244786, X: tensor([[0.9640, 0.1736]], dtype=torch.float64), Y: 0.4136482329473665\n",
            "UCB, Best value: 0.40144694492217603, X: tensor([[0.5468, 0.1450]], dtype=torch.float64), Y: 0.4185972378224019\n"
          ]
        },
        {
          "output_type": "stream",
          "name": "stderr",
          "text": [
            "/usr/local/lib/python3.10/dist-packages/botorch/optim/optimize.py:369: RuntimeWarning: Optimization failed in `gen_candidates_scipy` with the following warning(s):\n",
            "[OptimizationWarning('Optimization failed within `scipy.optimize.minimize` with status 2 and message ABNORMAL_TERMINATION_IN_LNSRCH.')]\n",
            "Trying again with a new set of initial conditions.\n",
            "  warnings.warn(first_warn_msg, RuntimeWarning)\n"
          ]
        },
        {
          "output_type": "stream",
          "name": "stdout",
          "text": [
            "KKT, Best value:  0.39789458285116375 , X:  tensor([[0.5430, 0.1511]], dtype=torch.float64) AF:  tensor(-0.3409, dtype=torch.float64) , Y:  0.3979838195717651 , Y grad GP:  tensor([ 0.2688, -0.1908], dtype=torch.float64, grad_fn=<MulBackward0>) , Y grad query:  tensor([ 0.2696, -0.1923])\n",
            "\n",
            "Branin, Trial: 5, Iteration: 29\n",
            "EI, Best value: 0.40615746888244786, X: tensor([[0.9631, 0.1727]], dtype=torch.float64), Y: 0.4094180397890881\n",
            "UCB, Best value: 0.40144694492217603, X: tensor([[0.5412, 0.1567]], dtype=torch.float64), Y: 0.4037460925913514\n",
            "KKT, Best value:  0.39789458285116375 , X:  tensor([[0.5429, 0.1512]], dtype=torch.float64) AF:  tensor(-0.3427, dtype=torch.float64) , Y:  0.39794085048996486 , Y grad GP:  tensor([ 0.0288, -0.1868], dtype=torch.float64, grad_fn=<MulBackward0>) , Y grad query:  tensor([ 0.0297, -0.1886])\n",
            "\n",
            "Branin, Trial: 5, Iteration: 30\n",
            "EI, Best value: 0.40615746888244786, X: tensor([[0.9624, 0.1717]], dtype=torch.float64), Y: 0.40681132115580176\n",
            "UCB, Best value: 0.40144694492217603, X: tensor([[0.5410, 0.1449]], dtype=torch.float64), Y: 0.41627563005547685\n"
          ]
        },
        {
          "output_type": "stream",
          "name": "stderr",
          "text": [
            "/usr/local/lib/python3.10/dist-packages/botorch/optim/optimize.py:369: RuntimeWarning: Optimization failed in `gen_candidates_scipy` with the following warning(s):\n",
            "[OptimizationWarning('Optimization failed within `scipy.optimize.minimize` with status 2 and message ABNORMAL_TERMINATION_IN_LNSRCH.')]\n",
            "Trying again with a new set of initial conditions.\n",
            "  warnings.warn(first_warn_msg, RuntimeWarning)\n"
          ]
        },
        {
          "output_type": "stream",
          "name": "stdout",
          "text": [
            "KKT, Best value:  0.39789458285116375 , X:  tensor([[0.5427, 0.1521]], dtype=torch.float64) AF:  tensor(-0.3559, dtype=torch.float64) , Y:  0.3979264604348458 , Y grad GP:  tensor([-0.0942,  0.1782], dtype=torch.float64, grad_fn=<MulBackward0>) , Y grad query:  tensor([-0.0715,  0.1761])\n"
          ]
        },
        {
          "output_type": "display_data",
          "data": {
            "text/plain": [
              "<Figure size 800x600 with 1 Axes>"
            ],
            "image/png": "[encoded data removed]"
          },
          "metadata": {}
        }
      ]
    },
    {
      "cell_type": "code",
      "source": [
        "print()"
      ],
      "metadata": {
        "id": "MvaKYBHjQCKW"
      },
      "execution_count": null,
      "outputs": []
    }
  ]
}